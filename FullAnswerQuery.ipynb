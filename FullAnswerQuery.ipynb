{
 "cells": [
  {
   "cell_type": "code",
   "execution_count": 3,
   "source": [
    "from transformers import AutoTokenizer, AutoModelForCausalLM"
   ],
   "outputs": [],
   "metadata": {}
  },
  {
   "cell_type": "code",
   "execution_count": 1,
   "source": [
    "def preproc_gen_toks(gen_toks, input_len):\n",
    "    list_out = []\n",
    "    for gen_tok in gen_toks:\n",
    "        last_tokens = gen_tok[input_len:]\n",
    "        generated_text = tokenizer.decode(last_tokens)\n",
    "        output = generated_text.split(\"\\n\\n\")[0]\n",
    "        list_out.append(output)\n",
    "    return list_out\n",
    "\n",
    "fewer = \"data/priming_texts/gsm8k/gsm8k_fewer_alt.txt\"\n",
    "full_answer = \"data/priming_texts/gsm8k/gsm8k_fewer_full_answer.txt\"\n",
    "eq = \"data/priming_texts/gsm8k/gsm8k_fewer_eq.txt\"\n",
    "asdiv = \"data/priming_texts/asdiv/asdiv.txt\"\n",
    "\n",
    "with open(fewer, \"r\") as f:\n",
    "    prompt = f.read()\n",
    "gptj_model = \"EleutherAI/gpt-j-6B\""
   ],
   "outputs": [],
   "metadata": {}
  },
  {
   "cell_type": "code",
   "execution_count": 4,
   "source": [
    "\"\"\"GPT-J and codeparrot models run in HFTest venv\"\"\"\n",
    "tokenizer = AutoTokenizer.from_pretrained(gptj_model)\n",
    "model = AutoModelForCausalLM.from_pretrained(gptj_model).half().eval().cuda()"
   ],
   "outputs": [],
   "metadata": {}
  },
  {
   "cell_type": "code",
   "execution_count": 5,
   "source": [
    "tokens = tokenizer(prompt, return_tensors=\"pt\").input_ids\n",
    "generated_tokens = model.generate(\n",
    "    tokens.long().cuda(),\n",
    "    use_cache=True,\n",
    "    do_sample=True,\n",
    "    top_k=50,\n",
    "    temperature=0.4,\n",
    "    top_p=0.9,\n",
    "    min_length=1,\n",
    "    max_length=len(tokens[0]) + 100,\n",
    "    num_return_sequences=3,\n",
    "    pad_token_id=tokenizer.eos_token_id,\n",
    ")\n",
    "\n",
    "list_outputs = preproc_gen_toks(generated_tokens, len(tokens[0]))\n",
    "print(list_outputs[0])"
   ],
   "outputs": [
    {
     "output_type": "stream",
     "name": "stdout",
     "text": [
      "\n",
      "days_per_week = 5\n",
      "distance_per_day = 5 * days_per_week\n",
      "nr_miles = 3 * distance_per_day\n",
      "print(nr_miles)\n"
     ]
    }
   ],
   "metadata": {}
  },
  {
   "cell_type": "code",
   "execution_count": 26,
   "source": [
    "print(list_outputs[2])\n",
    "exec(list_outputs[1])"
   ],
   "outputs": [
    {
     "output_type": "stream",
     "name": "stdout",
     "text": [
      " \\\\\\ 75/3=25\n",
      "distance_jogged_per_day = 5\n",
      "total_distance_jogged = 25 * 3\n",
      "print(total_distance_jogged)\n"
     ]
    },
    {
     "output_type": "error",
     "ename": "IndentationError",
     "evalue": "unexpected indent (<string>, line 1)",
     "traceback": [
      "Traceback \u001b[0;36m(most recent call last)\u001b[0m:\n",
      "  File \u001b[1;32m/home/HFtests/lib/python3.8/site-packages/IPython/core/interactiveshell.py:3340\u001b[0m in \u001b[1;35mrun_code\u001b[0m\n    exec(code_obj, self.user_global_ns, self.user_ns)\n",
      "\u001b[0;36m  Input \u001b[0;32mIn [26]\u001b[0;36m in \u001b[0;35m<cell line: 2>\u001b[0;36m\u001b[0m\n\u001b[0;31m    exec(list_outputs[1])\u001b[0m\n",
      "\u001b[0;36m  File \u001b[0;32m<string>:1\u001b[0;36m\u001b[0m\n\u001b[0;31m    \\\\\\ 75/3=25\u001b[0m\n\u001b[0m    ^\u001b[0m\n\u001b[0;31mIndentationError\u001b[0m\u001b[0;31m:\u001b[0m unexpected indent\n"
     ]
    }
   ],
   "metadata": {}
  },
  {
   "cell_type": "code",
   "execution_count": null,
   "source": [],
   "outputs": [],
   "metadata": {}
  }
 ],
 "metadata": {
  "orig_nbformat": 4,
  "language_info": {
   "name": "python",
   "version": "3.8.10",
   "mimetype": "text/x-python",
   "codemirror_mode": {
    "name": "ipython",
    "version": 3
   },
   "pygments_lexer": "ipython3",
   "nbconvert_exporter": "python",
   "file_extension": ".py"
  },
  "kernelspec": {
   "name": "python3",
   "display_name": "Python 3.8.10 64-bit ('HFtests': venv)"
  },
  "interpreter": {
   "hash": "5ea8e8bf8ca3b9f65e7cf95ea2223aa98d68a16922d567d33b86408fe49c3092"
  }
 },
 "nbformat": 4,
 "nbformat_minor": 2
}