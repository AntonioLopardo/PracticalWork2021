{
 "cells": [
  {
   "cell_type": "code",
   "execution_count": 1,
   "metadata": {},
   "outputs": [
    {
     "name": "stderr",
     "output_type": "stream",
     "text": [
      "/home/CodeGen_env/lib/python3.8/site-packages/tqdm/auto.py:22: TqdmWarning: IProgress not found. Please update jupyter and ipywidgets. See https://ipywidgets.readthedocs.io/en/stable/user_install.html\n",
      "  from .autonotebook import tqdm as notebook_tqdm\n"
     ]
    }
   ],
   "source": [
    "import dataset_handler as dh\n",
    "import testing_utils as tu\n",
    "from termcolor import colored\n",
    "import re"
   ]
  },
  {
   "cell_type": "code",
   "execution_count": 3,
   "metadata": {},
   "outputs": [],
   "source": [
    "priming_text_path = \"data/priming_texts/gsm8k/codegen/func_eq_short.txt\"\n",
    "gsm8k_path = \"data/grade-school-math/grade_school_math/data/train.jsonl\"\n",
    "\n",
    "current_dataset = dh.init_dataset_from_name(\n",
    "        \"gsm8k\", primingtext_path=priming_text_path\n",
    "    )"
   ]
  },
  {
   "cell_type": "code",
   "execution_count": 4,
   "metadata": {},
   "outputs": [],
   "source": [
    "subset_data = current_dataset.data[:3000]\n",
    "\n",
    "subset_data = [elem[\"question\"] for elem in subset_data]"
   ]
  },
  {
   "cell_type": "code",
   "execution_count": 5,
   "metadata": {},
   "outputs": [
    {
     "name": "stdout",
     "output_type": "stream",
     "text": [
      "Cluster  1\n",
      "Mark has a garden with flowers. He planted plants of three different colors in it. Ten of them are yellow, and there are 80% more of those in purple. There are only 25% as many green flowers as there are yellow and purple flowers. How many flowers does Mark have in his garden?\n",
      "\n",
      "Cluster  2\n",
      "Natalia sold clips to 48 of her friends in April, and then she sold half as many clips in May. How many clips did Natalia sell altogether in April and May?\n",
      "\n",
      "Cluster  3\n",
      "Julie is reading a 120-page book. Yesterday, she was able to read 12 pages and today, she read twice as many pages as yesterday. If she wants to read half of the remaining pages tomorrow, how many pages should she read?\n",
      "\n",
      "Cluster  4\n",
      "Weng earns $12 an hour for babysitting. Yesterday, she just did 50 minutes of babysitting. How much did she earn?\n",
      "\n"
     ]
    }
   ],
   "source": [
    "from sentence_transformers import SentenceTransformer\n",
    "from sklearn.cluster import KMeans\n",
    "\n",
    "tu.set_all_seeds(\"codegen\")\n",
    "\n",
    "embedder = SentenceTransformer('all-mpnet-base-v2')\n",
    "\n",
    "# Corpus with example sentences\n",
    "corpus = subset_data\n",
    "corpus_embeddings = embedder.encode(corpus)\n",
    "\n",
    "# Perform kmean clustering\n",
    "num_clusters = 4\n",
    "clustering_model = KMeans(n_clusters=num_clusters, random_state=42)\n",
    "clustering_model.fit(corpus_embeddings)\n",
    "cluster_assignment = clustering_model.labels_\n",
    "\n",
    "clustered_sentences = [[] for i in range(num_clusters)]\n",
    "for sentence_id, cluster_id in enumerate(cluster_assignment):\n",
    "    clustered_sentences[cluster_id].append(corpus[sentence_id])\n",
    "\n",
    "for i, cluster in enumerate(clustered_sentences):\n",
    "    print(\"Cluster \", i+1)\n",
    "    print(cluster[0])\n",
    "    print(\"\")"
   ]
  },
  {
   "cell_type": "code",
   "execution_count": 6,
   "metadata": {},
   "outputs": [],
   "source": [
    "#save to a pickle the clsutering model\n",
    "import pickle\n",
    "with open(\"clustering_model.pkl\", \"wb\") as f:\n",
    "    pickle.dump(clustering_model, f)"
   ]
  },
  {
   "cell_type": "code",
   "execution_count": 45,
   "metadata": {},
   "outputs": [],
   "source": [
    "def print_colored_pos(dist_list, pos):\n",
    "    for i, dist in enumerate(dist_list):\n",
    "        if i == pos:\n",
    "            print(colored(dist, \"cyan\"))"
   ]
  },
  {
   "cell_type": "code",
   "execution_count": 46,
   "metadata": {},
   "outputs": [],
   "source": [
    "def extract_eq(full_answer):\n",
    "    eq_pattern = re.compile(r\"<<([^>]+)>>\")\n",
    "    split_list = re.findall(eq_pattern, full_answer)\n",
    "\n",
    "    eq_string = \"\"\n",
    "\n",
    "    for i, eq in enumerate(split_list):\n",
    "        eq_string += f\" eq{i+1}: {eq}\"\n",
    "\n",
    "    return eq_string"
   ]
  },
  {
   "cell_type": "code",
   "execution_count": 53,
   "metadata": {},
   "outputs": [],
   "source": [
    "import numpy as np\n",
    "def print_cluster_closest(cluster_id):\n",
    "    d = clustering_model.transform(corpus_embeddings)[:, cluster_id]\n",
    "    ind = np.argsort(d)[::][:3]\n",
    "    print(list(ind))\n",
    "    for ex_i,i in enumerate(ind):\n",
    "        #print_colored_pos(clustering_model.transform([corpus_embeddings[i]])[0], 1)\n",
    "        print( f\"def exercise{ex_i+1}():\\n\"\n",
    "            + '    \"\"\"'\n",
    "            + current_dataset.data[i][\"question\"]\n",
    "            + \" Hint: use these equations\"\n",
    "            + extract_eq(current_dataset.data[i][\"answer\"])\n",
    "            + '\"\"\"')\n",
    "        print(\"\\n\")\n",
    "        current_dataset.print_entry_from_idx(i)"
   ]
  },
  {
   "cell_type": "code",
   "execution_count": 54,
   "metadata": {},
   "outputs": [
    {
     "name": "stdout",
     "output_type": "stream",
     "text": [
      "[2834, 447, 2092]\n",
      "def exercise1():\n",
      "    \"\"\"The number of math problems that Marvin practiced today is three times as many as the number of problems he solved yesterday. His friend, Arvin, has practiced twice as many math problems on each day. How many math problems have they practiced altogether if Marvin solved 40 math problems yesterday? Hint: use these equations eq1: 40*3=120 eq2: 120+40=160 eq3: 160*2=320 eq4: 320+160=480\"\"\"\n",
      "\n",
      "\n",
      "\u001b[33mThe number of math problems that Marvin practiced today is three times as many as the number of problems he solved yesterday. His friend, Arvin, has practiced twice as many math problems on each day. How many math problems have they practiced altogether if Marvin solved 40 math problems yesterday?\u001b[0m\n",
      "\u001b[32mIf Marvin solved 40 math problems yesterday, he has solved 40*3 = <<40*3=120>>120 math problems today.\n",
      "The total number of math problems that Marvin has practiced is 120+40 = <<120+40=160>>160\n",
      "Arvin has practiced twice as many as Marvin, so has practiced 160 * 2 = <<160*2=320>>320 problems.\n",
      "Together, Marvin and Arvin have solved 320+160 = <<320+160=480>>480 math problems.\n",
      "#### 480\u001b[0m\n",
      "\u001b[32m480\u001b[0m\n",
      "\n",
      "----------------------------------------------------------------------------------------------------\n",
      "\n",
      "def exercise2():\n",
      "    \"\"\"Megan has read 32 books this year.  Kelcie has read 1/4 the amount of books that Megan has read.  Greg has read 9 more than twice the number of books that Kelcie has read.  How many books total have Megan, Kelcie, and Greg read? Hint: use these equations eq1: 32/4=8 eq2: 32+8+25=65\"\"\"\n",
      "\n",
      "\n",
      "\u001b[33mMegan has read 32 books this year.  Kelcie has read 1/4 the amount of books that Megan has read.  Greg has read 9 more than twice the number of books that Kelcie has read.  How many books total have Megan, Kelcie, and Greg read?\u001b[0m\n",
      "\u001b[32mKelcie: 32/4=<<32/4=8>>8 books\n",
      "Greg: 9+2(8)=25 books\n",
      "Total:32+8+25=<<32+8+25=65>>65 books\n",
      "#### 65\u001b[0m\n",
      "\u001b[32m65\u001b[0m\n",
      "\n",
      "----------------------------------------------------------------------------------------------------\n",
      "\n",
      "def exercise3():\n",
      "    \"\"\"Eduardo is a teacher. He taught 3 classes last week while his colleague Frankie taught double what Eduardo teaches. How many classes did Eduardo and Frankie teach in total? Hint: use these equations eq1: 3*2=6 eq2: 3+6=9\"\"\"\n",
      "\n",
      "\n",
      "\u001b[33mEduardo is a teacher. He taught 3 classes last week while his colleague Frankie taught double what Eduardo teaches. How many classes did Eduardo and Frankie teach in total?\u001b[0m\n",
      "\u001b[32mFrankie taught 3 * 2 = <<3*2=6>>6 classes.\n",
      "Combined, Frankie and Eduardo taught 3 + 6 = <<3+6=9>>9 classes.\n",
      "#### 9\u001b[0m\n",
      "\u001b[32m9\u001b[0m\n",
      "\n",
      "----------------------------------------------------------------------------------------------------\n",
      "\n"
     ]
    }
   ],
   "source": [
    "print_cluster_closest(0)"
   ]
  },
  {
   "cell_type": "code",
   "execution_count": 43,
   "metadata": {},
   "outputs": [],
   "source": [
    "from sklearn.decomposition import PCA\n",
    "\n",
    "pca = PCA(2)\n",
    "\n",
    "df = pca.fit_transform(corpus_embeddings)"
   ]
  },
  {
   "cell_type": "code",
   "execution_count": 44,
   "metadata": {},
   "outputs": [
    {
     "data": {
      "image/png": "[encoded data removed]",
      "text/plain": [
       "<Figure size 432x288 with 1 Axes>"
      ]
     },
     "metadata": {
      "needs_background": "light"
     },
     "output_type": "display_data"
    }
   ],
   "source": [
    "import matplotlib.pyplot as plt\n",
    "kmeans = KMeans(n_clusters= 8, random_state=0)\n",
    " \n",
    "#predict the labels of clusters.\n",
    "#label = kmeans.fit_predict(df)\n",
    " \n",
    "#Getting unique labels\n",
    "u_labels = np.unique(cluster_assignment)\n",
    " \n",
    "#plotting the results:\n",
    "for i in u_labels:\n",
    "    plt.scatter(df[cluster_assignment == i , 0] , df[cluster_assignment == i , 1] , label = i)\n",
    "plt.legend()\n",
    "plt.show()"
   ]
  },
  {
   "cell_type": "code",
   "execution_count": null,
   "metadata": {},
   "outputs": [],
   "source": []
  }
 ],
 "metadata": {
  "interpreter": {
   "hash": "1c59954e50921301bece1313ab371cee7cd99362dbd740142445e95aebb494b1"
  },
  "kernelspec": {
   "display_name": "Python 3.8.10 ('CodeGen_env': venv)",
   "language": "python",
   "name": "python3"
  },
  "language_info": {
   "codemirror_mode": {
    "name": "ipython",
    "version": 3
   },
   "file_extension": ".py",
   "mimetype": "text/x-python",
   "name": "python",
   "nbconvert_exporter": "python",
   "pygments_lexer": "ipython3",
   "version": "3.8.10"
  },
  "orig_nbformat": 4
 },
 "nbformat": 4,
 "nbformat_minor": 2
}
