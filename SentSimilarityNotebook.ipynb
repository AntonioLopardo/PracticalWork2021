{
 "cells": [
  {
   "cell_type": "code",
   "execution_count": 1,
   "metadata": {},
   "outputs": [
    {
     "name": "stderr",
     "output_type": "stream",
     "text": [
      "/home/CodeGen_env/lib/python3.8/site-packages/tqdm/auto.py:22: TqdmWarning: IProgress not found. Please update jupyter and ipywidgets. See https://ipywidgets.readthedocs.io/en/stable/user_install.html\n",
      "  from .autonotebook import tqdm as notebook_tqdm\n"
     ]
    }
   ],
   "source": [
    "import dataset_handler as dh\n",
    "import testing_utils as tu\n",
    "from termcolor import colored\n",
    "import re"
   ]
  },
  {
   "cell_type": "code",
   "execution_count": 2,
   "metadata": {},
   "outputs": [],
   "source": [
    "priming_text_path = \"data/priming_texts/gsm8k/codegen/func_eq_short.txt\"\n",
    "gsm8k_path = \"data/grade-school-math/grade_school_math/data/train.jsonl\"\n",
    "\n",
    "current_dataset = dh.init_dataset_from_name(\n",
    "        \"gsm8k\", primingtext_path=priming_text_path\n",
    "    )"
   ]
  },
  {
   "cell_type": "code",
   "execution_count": 3,
   "metadata": {},
   "outputs": [],
   "source": [
    "subset_data = current_dataset.data[:3000]\n",
    "\n",
    "subset_data = [elem[\"question\"] for elem in subset_data]"
   ]
  },
  {
   "cell_type": "code",
   "execution_count": 4,
   "metadata": {},
   "outputs": [
    {
     "name": "stdout",
     "output_type": "stream",
     "text": [
      "Cluster  1\n",
      "Julie is reading a 120-page book. Yesterday, she was able to read 12 pages and today, she read twice as many pages as yesterday. If she wants to read half of the remaining pages tomorrow, how many pages should she read?\n",
      "\n",
      "Cluster  2\n",
      "Natalia sold clips to 48 of her friends in April, and then she sold half as many clips in May. How many clips did Natalia sell altogether in April and May?\n",
      "\n",
      "Cluster  3\n",
      "Weng earns $12 an hour for babysitting. Yesterday, she just did 50 minutes of babysitting. How much did she earn?\n",
      "\n"
     ]
    }
   ],
   "source": [
    "from sentence_transformers import SentenceTransformer\n",
    "from sklearn.cluster import KMeans\n",
    "\n",
    "tu.set_all_seeds(\"codegen\")\n",
    "\n",
    "embedder = SentenceTransformer('all-mpnet-base-v2')\n",
    "\n",
    "# Corpus with example sentences\n",
    "corpus = subset_data\n",
    "corpus_embeddings = embedder.encode(corpus)\n",
    "\n",
    "# Perform kmean clustering\n",
    "num_clusters = 3\n",
    "clustering_model = KMeans(n_clusters=num_clusters, random_state=42)\n",
    "clustering_model.fit(corpus_embeddings)\n",
    "cluster_assignment = clustering_model.labels_\n",
    "\n",
    "clustered_sentences = [[] for i in range(num_clusters)]\n",
    "for sentence_id, cluster_id in enumerate(cluster_assignment):\n",
    "    clustered_sentences[cluster_id].append(corpus[sentence_id])\n",
    "\n",
    "for i, cluster in enumerate(clustered_sentences):\n",
    "    print(\"Cluster \", i+1)\n",
    "    print(cluster[0])\n",
    "    print(\"\")"
   ]
  },
  {
   "cell_type": "code",
   "execution_count": 5,
   "metadata": {},
   "outputs": [],
   "source": [
    "def print_colored_pos(dist_list, pos):\n",
    "    for i, dist in enumerate(dist_list):\n",
    "        if i == pos:\n",
    "            print(colored(dist, \"cyan\"))"
   ]
  },
  {
   "cell_type": "code",
   "execution_count": 6,
   "metadata": {},
   "outputs": [],
   "source": [
    "def extract_eq(full_answer):\n",
    "    eq_pattern = re.compile(r\"<<([^>]+)>>\")\n",
    "    split_list = re.findall(eq_pattern, full_answer)\n",
    "\n",
    "    eq_string = \"\"\n",
    "\n",
    "    for i, eq in enumerate(split_list):\n",
    "        eq_string += f\" eq{i+1}: {eq}\"\n",
    "\n",
    "    return eq_string"
   ]
  },
  {
   "cell_type": "code",
   "execution_count": 7,
   "metadata": {},
   "outputs": [],
   "source": [
    "import numpy as np\n",
    "def print_cluster_closest(cluster_id):\n",
    "    d = clustering_model.transform(corpus_embeddings)[:, cluster_id]\n",
    "    ind = np.argsort(d)[::][:3]\n",
    "    print(list(ind))\n",
    "    for ex_i,i in enumerate(ind):\n",
    "        #print_colored_pos(clustering_model.transform([corpus_embeddings[i]])[0], 1)\n",
    "        print( f\"def exercise{ex_i+1}():\\n\"\n",
    "            + '    \"\"\"'\n",
    "            + current_dataset.data[i][\"question\"]\n",
    "            + \" Hint: use these equations\"\n",
    "            + extract_eq(current_dataset.data[i][\"answer\"])\n",
    "            + '\"\"\"')\n",
    "        print(\"\\n\")\n",
    "        current_dataset.print_entry_from_idx(i)"
   ]
  },
  {
   "cell_type": "code",
   "execution_count": 8,
   "metadata": {},
   "outputs": [],
   "source": [
    "#save to a pickle the clsutering model\n",
    "import pickle\n",
    "with open(\"clustering_model_3.pkl\", \"wb\") as f:\n",
    "    pickle.dump(clustering_model, f)"
   ]
  },
  {
   "cell_type": "code",
   "execution_count": 11,
   "metadata": {},
   "outputs": [
    {
     "name": "stdout",
     "output_type": "stream",
     "text": [
      "[2130, 1424, 120]\n",
      "def exercise1():\n",
      "    \"\"\"Amelia has $60 to spend on her dinner at a restaurant. The first course costs $15 and the second course $5 more. The cost of the dessert is 25% of the price of the second course. How much money will Amelia have left after buying all those meals? Hint: use these equations eq1: 15+5=20 eq2: 25/100*20=5 eq3: 60-15-20-5=20\"\"\"\n",
      "\n",
      "\n",
      "\u001b[33mAmelia has $60 to spend on her dinner at a restaurant. The first course costs $15 and the second course $5 more. The cost of the dessert is 25% of the price of the second course. How much money will Amelia have left after buying all those meals?\u001b[0m\n",
      "\u001b[32mThe second course cost Amelia $15 + $5 = $<<15+5=20>>20.\n",
      "The dessert cost 25/100 * $20 = $<<25/100*20=5>>5.\n",
      "That leaves Amelia with $60 - $15 - $20 - $5 = $<<60-15-20-5=20>>20.\n",
      "#### 20\u001b[0m\n",
      "\u001b[32m20\u001b[0m\n",
      "\n",
      "----------------------------------------------------------------------------------------------------\n",
      "\n",
      "def exercise2():\n",
      "    \"\"\"Christian and Sue wanted to get a $50.00 bottle of perfume for their mom for her birthday.  Christian had $5.00 saved up and Sue had $7.00.  Christian then mowed 4 of his neighbors' yards, charging $5.00 each, while Sue walked 6 dogs for her neighbors, charging $2.00 per dog.  How much more money will Christian and Sue need to make in order to buy the bottle of perfume for their mom? Hint: use these equations eq1: 4*5=20.00 eq2: 6*2=12.00 eq3: 5+20+7+12=44 eq4: 50-44=6.00\"\"\"\n",
      "\n",
      "\n",
      "\u001b[33mChristian and Sue wanted to get a $50.00 bottle of perfume for their mom for her birthday.  Christian had $5.00 saved up and Sue had $7.00.  Christian then mowed 4 of his neighbors' yards, charging $5.00 each, while Sue walked 6 dogs for her neighbors, charging $2.00 per dog.  How much more money will Christian and Sue need to make in order to buy the bottle of perfume for their mom?\u001b[0m\n",
      "\u001b[32mChristian just mowed 4 yards at $5.00 each so he made 4*5 = $<<4*5=20.00>>20.00\n",
      "Sue just walked 6 dogs at $2.00 each so she made 6*2 = $<<6*2=12.00>>12.00\n",
      "Christian had $5.00 saved and just made $20.00 while Sue had $7.00 saved and just made $12.00 so together they had 5+20+7+12 = $<<5+20+7+12=44>>44\n",
      "The perfume cost $50.00 and they had $44.00 so they needed to make 50-44 = $<<50-44=6.00>>6.00 more dollars\n",
      "#### 6\u001b[0m\n",
      "\u001b[32m6\u001b[0m\n",
      "\n",
      "----------------------------------------------------------------------------------------------------\n",
      "\n",
      "def exercise3():\n",
      "    \"\"\"Carrie works for $8 an hour and 35 hours a week at her job. It’s been a month since she started working there. She has saved up all of her money because she wants to buy a bike for $400. How much money will she have left over after she buys her bike? Hint: use these equations eq1: 8*35=280 eq2: 280*4=1120 eq3: 1120-400=720\"\"\"\n",
      "\n",
      "\n",
      "\u001b[33mCarrie works for $8 an hour and 35 hours a week at her job. It’s been a month since she started working there. She has saved up all of her money because she wants to buy a bike for $400. How much money will she have left over after she buys her bike?\u001b[0m\n",
      "\u001b[32mIt will be easy to solve the problem by first calculating how much money she makes in a week at her job by multiplying her hourly rate by the number of hours she works in a week: $8 * 35 = $<<8*35=280>>280 in a week\n",
      "The weekly earnings need to be multiplied by the number of weeks in a month to get how much she made in a month: $280 * 4 = $<<280*4=1120>>1120\n",
      "The bike’s cost must be subtracted from her earnings made in a month to get how much money is left over after purchasing the bike: $1120 - $400 = $<<1120-400=720>>720 is left over after purchasing her bike\n",
      "#### 720\u001b[0m\n",
      "\u001b[32m720\u001b[0m\n",
      "\n",
      "----------------------------------------------------------------------------------------------------\n",
      "\n"
     ]
    }
   ],
   "source": [
    "print_cluster_closest(2)"
   ]
  },
  {
   "cell_type": "code",
   "execution_count": 11,
   "metadata": {},
   "outputs": [],
   "source": [
    "from sklearn.decomposition import PCA\n",
    "\n",
    "pca = PCA(2)\n",
    "\n",
    "df = pca.fit_transform(corpus_embeddings)"
   ]
  },
  {
   "cell_type": "code",
   "execution_count": 12,
   "metadata": {},
   "outputs": [
    {
     "data": {
      "image/png": "[encoded data removed]",
      "text/plain": [
       "<Figure size 432x288 with 1 Axes>"
      ]
     },
     "metadata": {
      "needs_background": "light"
     },
     "output_type": "display_data"
    }
   ],
   "source": [
    "import matplotlib.pyplot as plt\n",
    "#kmeans = KMeans(n_clusters= 8, random_state=0)\n",
    " \n",
    "#predict the labels of clusters.\n",
    "#label = kmeans.fit_predict(df)\n",
    " \n",
    "#Getting unique labels\n",
    "u_labels = np.unique(cluster_assignment)\n",
    " \n",
    "#plotting the results:\n",
    "for i in u_labels:\n",
    "    plt.scatter(df[cluster_assignment == i , 0] , df[cluster_assignment == i , 1] , label = i)\n",
    "plt.legend()\n",
    "plt.show()"
   ]
  },
  {
   "cell_type": "code",
   "execution_count": null,
   "metadata": {},
   "outputs": [],
   "source": []
  }
 ],
 "metadata": {
  "interpreter": {
   "hash": "1c59954e50921301bece1313ab371cee7cd99362dbd740142445e95aebb494b1"
  },
  "kernelspec": {
   "display_name": "Python 3.8.10 ('CodeGen_env': venv)",
   "language": "python",
   "name": "python3"
  },
  "language_info": {
   "codemirror_mode": {
    "name": "ipython",
    "version": 3
   },
   "file_extension": ".py",
   "mimetype": "text/x-python",
   "name": "python",
   "nbconvert_exporter": "python",
   "pygments_lexer": "ipython3",
   "version": "3.8.10"
  },
  "orig_nbformat": 4
 },
 "nbformat": 4,
 "nbformat_minor": 2
}
