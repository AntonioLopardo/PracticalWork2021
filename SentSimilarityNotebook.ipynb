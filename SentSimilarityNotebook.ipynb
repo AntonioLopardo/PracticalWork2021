{
 "cells": [
  {
   "cell_type": "code",
   "execution_count": 1,
   "metadata": {},
   "outputs": [
    {
     "name": "stderr",
     "output_type": "stream",
     "text": [
      "/home/CodeGen_env/lib/python3.8/site-packages/tqdm/auto.py:22: TqdmWarning: IProgress not found. Please update jupyter and ipywidgets. See https://ipywidgets.readthedocs.io/en/stable/user_install.html\n",
      "  from .autonotebook import tqdm as notebook_tqdm\n"
     ]
    }
   ],
   "source": [
    "import dataset_handler as dh\n",
    "import testing_utils as tu\n",
    "from termcolor import colored\n",
    "import re"
   ]
  },
  {
   "cell_type": "code",
   "execution_count": 2,
   "metadata": {},
   "outputs": [],
   "source": [
    "priming_text_path = \"data/priming_texts/gsm8k/codegen/func_eq_short.txt\"\n",
    "gsm8k_path = \"data/grade-school-math/grade_school_math/data/train.jsonl\"\n",
    "\n",
    "current_dataset = dh.init_dataset_from_name(\n",
    "        \"gsm8k\", primingtext_path=priming_text_path\n",
    "    )"
   ]
  },
  {
   "cell_type": "code",
   "execution_count": 3,
   "metadata": {},
   "outputs": [],
   "source": [
    "subset_data = current_dataset.data[:3000]\n",
    "\n",
    "subset_data = [elem[\"question\"] for elem in subset_data]"
   ]
  },
  {
   "cell_type": "code",
   "execution_count": 4,
   "metadata": {},
   "outputs": [
    {
     "name": "stdout",
     "output_type": "stream",
     "text": [
      "Cluster  1\n",
      "Julie is reading a 120-page book. Yesterday, she was able to read 12 pages and today, she read twice as many pages as yesterday. If she wants to read half of the remaining pages tomorrow, how many pages should she read?\n",
      "\n",
      "Cluster  2\n",
      "Betty is saving money for a new wallet which costs $100. Betty has only half of the money she needs. Her parents decided to give her $15 for that purpose, and her grandparents twice as much as her parents. How much more money does Betty need to buy the wallet?\n",
      "\n",
      "Cluster  3\n",
      "A deep-sea monster rises from the waters once every hundred years to feast on a ship and sate its hunger. Over three hundred years, it has consumed 847 people. Ships have been built larger over time, so each new ship has twice as many people as the last ship. How many people were on the ship the monster ate in the first hundred years?\n",
      "\n",
      "Cluster  4\n",
      "Weng earns $12 an hour for babysitting. Yesterday, she just did 50 minutes of babysitting. How much did she earn?\n",
      "\n",
      "Cluster  5\n",
      "Natalia sold clips to 48 of her friends in April, and then she sold half as many clips in May. How many clips did Natalia sell altogether in April and May?\n",
      "\n",
      "Cluster  6\n",
      "Albert is wondering how much pizza he can eat in one day. He buys 2 large pizzas and 2 small pizzas. A large pizza has 16 slices and a small pizza has 8 slices. If he eats it all, how many pieces does he eat that day?\n",
      "\n"
     ]
    }
   ],
   "source": [
    "from sentence_transformers import SentenceTransformer\n",
    "from sklearn.cluster import KMeans\n",
    "\n",
    "tu.set_all_seeds(\"codegen\")\n",
    "\n",
    "embedder = SentenceTransformer('all-mpnet-base-v2')\n",
    "\n",
    "# Corpus with example sentences\n",
    "corpus = subset_data\n",
    "corpus_embeddings = embedder.encode(corpus)\n",
    "\n",
    "# Perform kmean clustering\n",
    "num_clusters = 6\n",
    "clustering_model = KMeans(n_clusters=num_clusters, random_state=42)\n",
    "clustering_model.fit(corpus_embeddings)\n",
    "cluster_assignment = clustering_model.labels_\n",
    "\n",
    "clustered_sentences = [[] for i in range(num_clusters)]\n",
    "for sentence_id, cluster_id in enumerate(cluster_assignment):\n",
    "    clustered_sentences[cluster_id].append(corpus[sentence_id])\n",
    "\n",
    "for i, cluster in enumerate(clustered_sentences):\n",
    "    print(\"Cluster \", i+1)\n",
    "    print(cluster[0])\n",
    "    print(\"\")"
   ]
  },
  {
   "cell_type": "code",
   "execution_count": 5,
   "metadata": {},
   "outputs": [],
   "source": [
    "def print_colored_pos(dist_list, pos):\n",
    "    for i, dist in enumerate(dist_list):\n",
    "        if i == pos:\n",
    "            print(colored(dist, \"cyan\"))"
   ]
  },
  {
   "cell_type": "code",
   "execution_count": 6,
   "metadata": {},
   "outputs": [],
   "source": [
    "def extract_eq(full_answer):\n",
    "    eq_pattern = re.compile(r\"<<([^>]+)>>\")\n",
    "    split_list = re.findall(eq_pattern, full_answer)\n",
    "\n",
    "    eq_string = \"\"\n",
    "\n",
    "    for i, eq in enumerate(split_list):\n",
    "        eq_string += f\" eq{i+1}: {eq}\"\n",
    "\n",
    "    return eq_string"
   ]
  },
  {
   "cell_type": "code",
   "execution_count": 7,
   "metadata": {},
   "outputs": [],
   "source": [
    "import numpy as np\n",
    "def print_cluster_closest(cluster_id):\n",
    "    d = clustering_model.transform(corpus_embeddings)[:, cluster_id]\n",
    "    ind = np.argsort(d)[::][:3]\n",
    "    print(list(ind))\n",
    "    for ex_i,i in enumerate(ind):\n",
    "        #print_colored_pos(clustering_model.transform([corpus_embeddings[i]])[0], 1)\n",
    "        print( f\"def exercise{ex_i+1}():\\n\"\n",
    "            + '    \"\"\"'\n",
    "            + current_dataset.data[i][\"question\"]\n",
    "            + \" Hint: use these equations\"\n",
    "            + extract_eq(current_dataset.data[i][\"answer\"])\n",
    "            + '\"\"\"')\n",
    "        print(\"\\n\")\n",
    "        current_dataset.print_entry_from_idx(i)"
   ]
  },
  {
   "cell_type": "code",
   "execution_count": 8,
   "metadata": {},
   "outputs": [],
   "source": [
    "#save to a pickle the clsutering model\n",
    "import pickle\n",
    "with open(\"clustering_model_6.pkl\", \"wb\") as f:\n",
    "    pickle.dump(clustering_model, f)"
   ]
  },
  {
   "cell_type": "code",
   "execution_count": 9,
   "metadata": {},
   "outputs": [
    {
     "name": "stdout",
     "output_type": "stream",
     "text": [
      "[2232, 2759, 854]\n",
      "def exercise1():\n",
      "    \"\"\"Adam goes to school every day. On Monday he had 6 lessons of 30 minutes each, and on Tuesday he had 3 lessons of 1 hour each. On Wednesday, Adam spent twice as much time at school as on Tuesday. How much time in total did Adam spend at school during these 3 days, in hours? Hint: use these equations eq1: 6*30=180 eq2: 2*3=6 eq3: 3+3+6=12\"\"\"\n",
      "\n",
      "\n",
      "\u001b[33mAdam goes to school every day. On Monday he had 6 lessons of 30 minutes each, and on Tuesday he had 3 lessons of 1 hour each. On Wednesday, Adam spent twice as much time at school as on Tuesday. How much time in total did Adam spend at school during these 3 days, in hours?\u001b[0m\n",
      "\u001b[32mOn Monday Adam had 6 * 30 = <<6*30=180>>180 minutes of lessons, which is 3 hours.\n",
      "On Wednesday Adam spent twice as much time at school as on Tuesday, so he spent 2 * 3 = <<2*3=6>>6 hours at school.\n",
      "This means that during these three days Adam spent at school 3 + 3 + 6 = <<3+3+6=12>>12 hours.\n",
      "#### 12\u001b[0m\n",
      "\u001b[32m12\u001b[0m\n",
      "\n",
      "----------------------------------------------------------------------------------------------------\n",
      "\n",
      "def exercise2():\n",
      "    \"\"\"To get to work, Ryan bikes one day a week takes the bus three times a week and gets a ride from a friend once a week. It takes him thirty minutes to bike to work. The bus takes ten minutes longer since it stops at every bus stop for other passengers. His friend driving him is the fastest and cuts two-thirds off his biking time. How many minutes does he spend every week commuting to work? Hint: use these equations eq1: 10+30=40 eq2: 40*3=120 eq3: 2/3*30=20 eq4: 30-20=10 eq5: 120+10+30=160\"\"\"\n",
      "\n",
      "\n",
      "\u001b[33mTo get to work, Ryan bikes one day a week takes the bus three times a week and gets a ride from a friend once a week. It takes him thirty minutes to bike to work. The bus takes ten minutes longer since it stops at every bus stop for other passengers. His friend driving him is the fastest and cuts two-thirds off his biking time. How many minutes does he spend every week commuting to work?\u001b[0m\n",
      "\u001b[32mThe bus to Ryan’s work takes 10 minutes longer than his bike ride, so it takes 10 + 30 = <<10+30=40>>40 minutes.\n",
      "Ryan takes the bus 3 times a week, so the bus rides take 40 * 3 = <<40*3=120>>120 minutes a week.\n",
      "His friend cuts two-thirds off his biking time, which is 2/3*30 = <<2/3*30=20>>20 minutes a week.\n",
      "This means his friend takes 30-20 = <<30-20=10>>10 minutes to drive him.\n",
      "Therefore, Ryan spends 120 + 10 + 30 = <<120+10+30=160>>160 minutes every week commuting to work.\n",
      "#### 160\u001b[0m\n",
      "\u001b[32m160\u001b[0m\n",
      "\n",
      "----------------------------------------------------------------------------------------------------\n",
      "\n",
      "def exercise3():\n",
      "    \"\"\"Jeff committed to run for an hour a day during weekdays. On Thursday, he cut short his run by 20 minutes but was able to jog 10 minutes more on Friday. How many minutes was he able to run for that week? Hint: use these equations eq1: 60*3=180 eq2: 60-20=40 eq3: 60+10=70 eq4: 180+40+70=290\"\"\"\n",
      "\n",
      "\n",
      "\u001b[33mJeff committed to run for an hour a day during weekdays. On Thursday, he cut short his run by 20 minutes but was able to jog 10 minutes more on Friday. How many minutes was he able to run for that week?\u001b[0m\n",
      "\u001b[32mJeff was able to run a total of 60 x 3 = <<60*3=180>>180 minutes from Monday to Wednesday.\n",
      "On Thursday, Jeff ran for 60 - 20 = <<60-20=40>>40 minutes only.\n",
      "On Friday, he ran for 60 + 10 = <<60+10=70>>70 minutes.\n",
      "Therefore, Jeff ran a total of 180 + 40 + 70 = <<180+40+70=290>>290 minutes.\n",
      "#### 290\u001b[0m\n",
      "\u001b[32m290\u001b[0m\n",
      "\n",
      "----------------------------------------------------------------------------------------------------\n",
      "\n"
     ]
    }
   ],
   "source": [
    "print_cluster_closest(0)"
   ]
  },
  {
   "cell_type": "code",
   "execution_count": 10,
   "metadata": {},
   "outputs": [],
   "source": [
    "from sklearn.decomposition import PCA\n",
    "\n",
    "pca = PCA(2)\n",
    "\n",
    "df = pca.fit_transform(corpus_embeddings)"
   ]
  },
  {
   "cell_type": "code",
   "execution_count": 11,
   "metadata": {},
   "outputs": [
    {
     "data": {
      "image/png": "[encoded data removed]",
      "text/plain": [
       "<Figure size 432x288 with 1 Axes>"
      ]
     },
     "metadata": {
      "needs_background": "light"
     },
     "output_type": "display_data"
    }
   ],
   "source": [
    "import matplotlib.pyplot as plt\n",
    "#kmeans = KMeans(n_clusters= 8, random_state=0)\n",
    " \n",
    "#predict the labels of clusters.\n",
    "#label = kmeans.fit_predict(df)\n",
    " \n",
    "#Getting unique labels\n",
    "u_labels = np.unique(cluster_assignment)\n",
    " \n",
    "#plotting the results:\n",
    "for i in u_labels:\n",
    "    plt.scatter(df[cluster_assignment == i , 0] , df[cluster_assignment == i , 1] , label = i)\n",
    "plt.legend()\n",
    "plt.show()"
   ]
  },
  {
   "cell_type": "code",
   "execution_count": null,
   "metadata": {},
   "outputs": [],
   "source": []
  }
 ],
 "metadata": {
  "interpreter": {
   "hash": "1c59954e50921301bece1313ab371cee7cd99362dbd740142445e95aebb494b1"
  },
  "kernelspec": {
   "display_name": "Python 3.8.10 ('CodeGen_env': venv)",
   "language": "python",
   "name": "python3"
  },
  "language_info": {
   "codemirror_mode": {
    "name": "ipython",
    "version": 3
   },
   "file_extension": ".py",
   "mimetype": "text/x-python",
   "name": "python",
   "nbconvert_exporter": "python",
   "pygments_lexer": "ipython3",
   "version": "3.8.10"
  },
  "orig_nbformat": 4
 },
 "nbformat": 4,
 "nbformat_minor": 2
}
