{
 "cells": [
  {
   "cell_type": "code",
   "execution_count": 10,
   "metadata": {},
   "outputs": [],
   "source": [
    "import dataset_handler as dh\n",
    "import testing_utils as tu\n",
    "from termcolor import colored\n",
    "import re\n",
    "from sentence_transformers import SentenceTransformer\n",
    "from sklearn.cluster import KMeans\n",
    "import pickle"
   ]
  },
  {
   "cell_type": "code",
   "execution_count": 2,
   "metadata": {},
   "outputs": [],
   "source": [
    "priming_text_path = \"data/priming_texts/gsm8k/codegen/func_eq_short.txt\"\n",
    "gsm8k_path = \"data/grade-school-math/grade_school_math/data/train.jsonl\"\n",
    "\n",
    "current_dataset = dh.init_dataset_from_name(\n",
    "        \"gsm8k\", primingtext_path=priming_text_path\n",
    "    )"
   ]
  },
  {
   "cell_type": "code",
   "execution_count": 3,
   "metadata": {},
   "outputs": [],
   "source": [
    "subset_data = current_dataset.data[:3000]\n",
    "\n",
    "subset_data = [elem[\"question\"] for elem in subset_data]"
   ]
  },
  {
   "cell_type": "code",
   "execution_count": 30,
   "metadata": {},
   "outputs": [
    {
     "name": "stdout",
     "output_type": "stream",
     "text": [
      "Cluster  1\n",
      "Julie is reading a 120-page book. Yesterday, she was able to read 12 pages and today, she read twice as many pages as yesterday. If she wants to read half of the remaining pages tomorrow, how many pages should she read?\n",
      "\n",
      "Cluster  2\n",
      "Betty is saving money for a new wallet which costs $100. Betty has only half of the money she needs. Her parents decided to give her $15 for that purpose, and her grandparents twice as much as her parents. How much more money does Betty need to buy the wallet?\n",
      "\n",
      "Cluster  3\n",
      "A deep-sea monster rises from the waters once every hundred years to feast on a ship and sate its hunger. Over three hundred years, it has consumed 847 people. Ships have been built larger over time, so each new ship has twice as many people as the last ship. How many people were on the ship the monster ate in the first hundred years?\n",
      "\n",
      "Cluster  4\n",
      "Weng earns $12 an hour for babysitting. Yesterday, she just did 50 minutes of babysitting. How much did she earn?\n",
      "\n",
      "Cluster  5\n",
      "Natalia sold clips to 48 of her friends in April, and then she sold half as many clips in May. How many clips did Natalia sell altogether in April and May?\n",
      "\n",
      "Cluster  6\n",
      "Albert is wondering how much pizza he can eat in one day. He buys 2 large pizzas and 2 small pizzas. A large pizza has 16 slices and a small pizza has 8 slices. If he eats it all, how many pieces does he eat that day?\n",
      "\n"
     ]
    }
   ],
   "source": [
    "from sentence_transformers import SentenceTransformer\n",
    "from sklearn.cluster import KMeans\n",
    "\n",
    "tu.set_all_seeds(\"codegen\")\n",
    "\n",
    "embedder = SentenceTransformer('all-mpnet-base-v2')\n",
    "\n",
    "# Corpus with example sentences\n",
    "corpus = subset_data\n",
    "corpus_embeddings = embedder.encode(corpus)\n",
    "\n",
    "# Perform kmean clustering\n",
    "num_clusters = 6\n",
    "#clustering_model = KMeans(n_clusters=num_clusters, random_state=42)\n",
    "#clustering_model.fit(corpus_embeddings)\n",
    "cluster_assignment = clustering_model.labels_\n",
    "\n",
    "clustered_sentences = [[] for i in range(num_clusters)]\n",
    "for sentence_id, cluster_id in enumerate(cluster_assignment):\n",
    "    clustered_sentences[cluster_id].append(corpus[sentence_id])\n",
    "\n",
    "for i, cluster in enumerate(clustered_sentences):\n",
    "    print(\"Cluster \", i+1)\n",
    "    print(cluster[0])\n",
    "    print(\"\")"
   ]
  },
  {
   "cell_type": "code",
   "execution_count": 17,
   "metadata": {},
   "outputs": [],
   "source": [
    "def print_colored_pos(dist_list, pos):\n",
    "    for i, dist in enumerate(dist_list):\n",
    "        if i == pos:\n",
    "            print(colored(dist, \"cyan\"))"
   ]
  },
  {
   "cell_type": "code",
   "execution_count": 18,
   "metadata": {},
   "outputs": [],
   "source": [
    "def extract_eq(full_answer):\n",
    "    eq_pattern = re.compile(r\"<<([^>]+)>>\")\n",
    "    split_list = re.findall(eq_pattern, full_answer)\n",
    "\n",
    "    eq_string = \"\"\n",
    "\n",
    "    for i, eq in enumerate(split_list):\n",
    "        eq_string += f\" eq{i+1}: {eq}\"\n",
    "\n",
    "    return eq_string"
   ]
  },
  {
   "cell_type": "code",
   "execution_count": 19,
   "metadata": {},
   "outputs": [],
   "source": [
    "import numpy as np\n",
    "def print_cluster_closest(cluster_id):\n",
    "    d = clustering_model.transform(corpus_embeddings)[:, cluster_id]\n",
    "    ind = np.argsort(d)[::][:3]\n",
    "    print(list(ind))\n",
    "    for ex_i,i in enumerate(ind):\n",
    "        #print_colored_pos(clustering_model.transform([corpus_embeddings[i]])[0], 1)\n",
    "        print( f\"def exercise{ex_i+1}():\\n\"\n",
    "            + '    \"\"\"'\n",
    "            + current_dataset.data[i][\"question\"]\n",
    "            + \" Hint: use these equations\"\n",
    "            + extract_eq(current_dataset.data[i][\"answer\"])\n",
    "            + '\"\"\"')\n",
    "        print(\"\\n\")\n",
    "        current_dataset.print_entry_from_idx(i)"
   ]
  },
  {
   "cell_type": "code",
   "execution_count": 8,
   "metadata": {},
   "outputs": [],
   "source": [
    "#save to a pickle the clsutering model\n",
    "import pickle\n",
    "with open(\"clustering_model_6.pkl\", \"wb\") as f:\n",
    "    pickle.dump(clustering_model, f)"
   ]
  },
  {
   "cell_type": "code",
   "execution_count": 20,
   "metadata": {},
   "outputs": [],
   "source": [
    "clustering_model = pickle.load(open(\"clustering_model_6.pkl\", \"rb\"))"
   ]
  },
  {
   "cell_type": "code",
   "execution_count": 26,
   "metadata": {},
   "outputs": [
    {
     "name": "stdout",
     "output_type": "stream",
     "text": [
      "[1701, 2051, 1594]\n",
      "def exercise1():\n",
      "    \"\"\"Sandra has a box of apples that weighs 120 pounds.  She's going to use half the weight in apples to make applesauce.  The rest will be used to make apple pies.  She needs 4 pounds of apples per pie.  How many pies will she be able to make? Hint: use these equations eq1: 120/2=60 eq2: 120-60=60 eq3: 60/4=15\"\"\"\n",
      "\n",
      "\n",
      "\u001b[33mSandra has a box of apples that weighs 120 pounds.  She's going to use half the weight in apples to make applesauce.  The rest will be used to make apple pies.  She needs 4 pounds of apples per pie.  How many pies will she be able to make?\u001b[0m\n",
      "\u001b[32mThe box weighs 120 pounds and she's going to use half of it to make applesauce so she'll use 120/2 = <<120/2=60>>60 pounds for applesauce\n",
      "The box weighs 120 pounds and she'll use 60 pounds for applesauce so that leaves 120-60 = <<120-60=60>>60 pounds of apples\n",
      "She has 60 pounds of apples and she needs 4 pounds to make a pie so she can make 60/4 = <<60/4=15>>15 pies\n",
      "#### 15\u001b[0m\n",
      "\u001b[32m15\u001b[0m\n",
      "\n",
      "----------------------------------------------------------------------------------------------------\n",
      "\n",
      "def exercise2():\n",
      "    \"\"\"Mary wants to bake 10 apple pies for a charity event. Each pie needs 8 apples and she already harvested 50 apples from the trees in her garden. How many more apples does she need to buy to make all 10 pies? Hint: use these equations eq1: 10*8=80 eq2: 80-50=30\"\"\"\n",
      "\n",
      "\n",
      "\u001b[33mMary wants to bake 10 apple pies for a charity event. Each pie needs 8 apples and she already harvested 50 apples from the trees in her garden. How many more apples does she need to buy to make all 10 pies?\u001b[0m\n",
      "\u001b[32mShe needs 10*8=<<10*8=80>>80 apples to make the pies\n",
      "So she has to buy 80-50=<<80-50=30>>30 more apples\n",
      "#### 30\u001b[0m\n",
      "\u001b[32m30\u001b[0m\n",
      "\n",
      "----------------------------------------------------------------------------------------------------\n",
      "\n",
      "def exercise3():\n",
      "    \"\"\"To eat to when she gets full, Michaela needs 20 oranges. Cassandra needs twice as many oranges as Michaela to eat until she gets full. If they picked 90 oranges from the farm today, how many oranges would remain after they've both eaten until they were full? Hint: use these equations eq1: 20*2=40 eq2: 20+40=60 eq3: 90-60=30\"\"\"\n",
      "\n",
      "\n",
      "\u001b[33mTo eat to when she gets full, Michaela needs 20 oranges. Cassandra needs twice as many oranges as Michaela to eat until she gets full. If they picked 90 oranges from the farm today, how many oranges would remain after they've both eaten until they were full?\u001b[0m\n",
      "\u001b[32mSince Michaela needs 20 oranges to eat to her full, and Cassandra eats twice as much to have her full, Cassandra needs 2*20 = <<20*2=40>>40 oranges to eat.\n",
      "They eat 20+40 = <<20+40=60>>60 oranges together to have their fill.\n",
      "If they picked 90 oranges today, after eating 60 together, 90-60 = <<90-60=30>>30 oranges would remain.\n",
      "#### 30\u001b[0m\n",
      "\u001b[32m30\u001b[0m\n",
      "\n",
      "----------------------------------------------------------------------------------------------------\n",
      "\n"
     ]
    }
   ],
   "source": [
    "print_cluster_closest(5)"
   ]
  },
  {
   "cell_type": "code",
   "execution_count": 27,
   "metadata": {},
   "outputs": [],
   "source": [
    "from sklearn.decomposition import PCA\n",
    "\n",
    "pca = PCA(2)\n",
    "\n",
    "df = pca.fit_transform(corpus_embeddings)"
   ]
  },
  {
   "cell_type": "code",
   "execution_count": 28,
   "metadata": {},
   "outputs": [
    {
     "ename": "NameError",
     "evalue": "name 'cluster_assignment' is not defined",
     "output_type": "error",
     "traceback": [
      "\u001b[0;31m---------------------------------------------------------------------------\u001b[0m",
      "\u001b[0;31mNameError\u001b[0m                                 Traceback (most recent call last)",
      "\u001b[0;32m/tmp/ipykernel_48998/2357870782.py\u001b[0m in \u001b[0;36m<cell line: 8>\u001b[0;34m()\u001b[0m\n\u001b[1;32m      6\u001b[0m \u001b[0;34m\u001b[0m\u001b[0m\n\u001b[1;32m      7\u001b[0m \u001b[0;31m#Getting unique labels\u001b[0m\u001b[0;34m\u001b[0m\u001b[0;34m\u001b[0m\u001b[0;34m\u001b[0m\u001b[0m\n\u001b[0;32m----> 8\u001b[0;31m \u001b[0mu_labels\u001b[0m \u001b[0;34m=\u001b[0m \u001b[0mnp\u001b[0m\u001b[0;34m.\u001b[0m\u001b[0munique\u001b[0m\u001b[0;34m(\u001b[0m\u001b[0mcluster_assignment\u001b[0m\u001b[0;34m)\u001b[0m\u001b[0;34m\u001b[0m\u001b[0;34m\u001b[0m\u001b[0m\n\u001b[0m\u001b[1;32m      9\u001b[0m \u001b[0;34m\u001b[0m\u001b[0m\n\u001b[1;32m     10\u001b[0m \u001b[0;31m#plotting the results:\u001b[0m\u001b[0;34m\u001b[0m\u001b[0;34m\u001b[0m\u001b[0;34m\u001b[0m\u001b[0m\n",
      "\u001b[0;31mNameError\u001b[0m: name 'cluster_assignment' is not defined"
     ]
    }
   ],
   "source": [
    "import matplotlib.pyplot as plt\n",
    "#kmeans = KMeans(n_clusters= 8, random_state=0)\n",
    " \n",
    "#predict the labels of clusters.\n",
    "#label = kmeans.fit_predict(df)\n",
    " \n",
    "#Getting unique labels\n",
    "u_labels = np.unique(cluster_assignment)\n",
    " \n",
    "#plotting the results:\n",
    "for i in u_labels:\n",
    "    plt.scatter(df[cluster_assignment == i , 0] , df[cluster_assignment == i , 1] , label = i)\n",
    "plt.legend()\n",
    "plt.show()"
   ]
  },
  {
   "cell_type": "code",
   "execution_count": null,
   "metadata": {},
   "outputs": [],
   "source": []
  }
 ],
 "metadata": {
  "interpreter": {
   "hash": "1c59954e50921301bece1313ab371cee7cd99362dbd740142445e95aebb494b1"
  },
  "kernelspec": {
   "display_name": "Python 3.8.10 ('CodeGen_env': venv)",
   "language": "python",
   "name": "python3"
  },
  "language_info": {
   "codemirror_mode": {
    "name": "ipython",
    "version": 3
   },
   "file_extension": ".py",
   "mimetype": "text/x-python",
   "name": "python",
   "nbconvert_exporter": "python",
   "pygments_lexer": "ipython3",
   "version": "3.8.10"
  },
  "orig_nbformat": 4
 },
 "nbformat": 4,
 "nbformat_minor": 2
}
