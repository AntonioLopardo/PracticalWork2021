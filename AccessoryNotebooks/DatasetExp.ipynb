{
 "cells": [
  {
   "cell_type": "code",
   "execution_count": 24,
   "source": [
    "from xml.etree import ElementTree\n",
    "from collections import Counter\n",
    "from random import sample\n",
    "import random\n",
    "import numpy as np\n",
    "import json\n",
    "import re\n",
    "from termcolor import colored\n",
    "import os\n",
    "\n",
    "path_parent = os.path.dirname(os.getcwd())\n",
    "os.chdir(path_parent)"
   ],
   "outputs": [],
   "metadata": {}
  },
  {
   "cell_type": "markdown",
   "source": [
    "# AsDiv"
   ],
   "metadata": {}
  },
  {
   "cell_type": "code",
   "execution_count": 25,
   "source": [
    "dom = ElementTree.parse(\"data/nlu-asdiv-dataset/dataset/ASDiv.xml\")\n",
    "\n",
    "# XML parsing\n",
    "body_list = dom.findall(\"ProblemSet/Problem/Body\")\n",
    "answer_list = dom.findall(\"ProblemSet/Problem/Answer\")\n",
    "question_list = dom.findall(\"ProblemSet/Problem/Question\")\n",
    "formula_list = dom.findall(\"ProblemSet/Problem/Formula\")\n",
    "stype_list = dom.findall(\"ProblemSet/Problem/Solution-Type\")\n",
    "\n",
    "print(Counter(stype.text for stype in stype_list))\n",
    "list_stype_cat = list(Counter(stype.text for stype in stype_list).keys())\n",
    "indexes_dict = {\n",
    "    stype: [i for i, stype_ in enumerate(stype_list) if stype_.text == stype]\n",
    "    for stype in list_stype_cat\n",
    "}\n",
    "\n",
    "nr_sample_dict = {\n",
    "    \"Subtraction\": 2,\n",
    "    \"Addition\": 2,\n",
    "    \"Multiplication\": 2,\n",
    "    \"Common-Division\": 2,\n",
    "    \"Sum\": 1,\n",
    "    \"Ratio\": 1,\n",
    "    \"Geometry\": 1,\n",
    "    \"Algebra-2\": 1,\n",
    "    \"TVQ-Final\": 1,\n",
    "    \"GCD\": 1,\n",
    "    \"Algebra-1\": 1,\n",
    "    \"Surplus\": 1,\n",
    "    \"LCM\": 1,\n",
    "    \"Difference\": 1,\n",
    "    \"Comparison\": 1,\n",
    "    \"Floor-Division\": 1,\n",
    "    \"Sequential-Operation\": 0,\n",
    "    \"Ceil-Division\": 0,\n",
    "    \"TVQ-Change\": 0,\n",
    "    \"TVQ-Initial\": 0,\n",
    "    \"Set-Operation\": 0,\n",
    "}\n",
    "print(sum(nr_sample_dict.values()))\n",
    "\n",
    "random.seed(0)\n",
    "sample_idx_dict = {\n",
    "    stype: sample(indexes_dict[stype], nr_sample_dict[stype])\n",
    "    for stype in nr_sample_dict.keys()\n",
    "}\n",
    "print(sample_idx_dict)\n",
    "\n",
    "\n",
    "def print_as_div_from_idx(sample_idx):\n",
    "    print(f\"{body_list[sample_idx].text} {question_list[sample_idx].text}\")\n",
    "    print(f\"{formula_list[sample_idx].text}\")\n",
    "    print(f\"{answer_list[sample_idx].text}\")\n",
    "    print(\"\\n\" + \"-\" * 100 + \"\\n\")\n"
   ],
   "outputs": [
    {
     "output_type": "stream",
     "name": "stdout",
     "text": [
      "Counter({'Subtraction': 452, 'Addition': 351, 'Multiplication': 260, 'Common-Division': 224, 'Sum': 95, 'Ratio': 94, 'Geometry': 88, 'Algebra-2': 83, 'TVQ-Final': 80, 'GCD': 73, 'Algebra-1': 71, 'Surplus': 70, 'LCM': 65, 'Difference': 59, 'Comparison': 57, 'Floor-Division': 52, 'Sequential-Operation': 37, 'Ceil-Division': 32, 'TVQ-Change': 20, 'TVQ-Initial': 19, 'Set-Operation': 15, 'UnitTrans': 4, 'Number-Operation': 2, 'Number-Pattern': 1, 'Substraction': 1})\n",
      "20\n",
      "{'Subtraction': [1936, 702], 'Addition': [1106, 50], 'Multiplication': [570, 2250], 'Common-Division': [1582, 2281], 'Sum': [218], 'Ratio': [1659], 'Geometry': [1525], 'Algebra-2': [1477], 'TVQ-Final': [883], 'GCD': [2084], 'Algebra-1': [1302], 'Surplus': [800], 'LCM': [1224], 'Difference': [1282], 'Comparison': [189], 'Floor-Division': [1558], 'Sequential-Operation': [], 'Ceil-Division': [], 'TVQ-Change': [], 'TVQ-Initial': [], 'Set-Operation': []}\n"
     ]
    }
   ],
   "metadata": {}
  },
  {
   "cell_type": "code",
   "execution_count": 49,
   "source": [
    "print_as_div_from_idx(sample_idx_dict[\"Floor-Division\"][0])"
   ],
   "outputs": [
    {
     "output_type": "stream",
     "name": "stdout",
     "text": [
      "Each house a carpenter builds needs six sinks. If he bought two hundred sixty-six sinks, how many houses would that cover?\n",
      "266/6=44 r2\n",
      "44 (houses)\n",
      "\n",
      "----------------------------------------------------------------------------------------------------\n",
      "\n"
     ]
    }
   ],
   "metadata": {}
  },
  {
   "cell_type": "code",
   "execution_count": 27,
   "source": [
    "print_as_div_from_idx(605)"
   ],
   "outputs": [
    {
     "output_type": "stream",
     "name": "stdout",
     "text": [
      "Tony had $20. He paid $8 for a ticket to a baseball game. At the game, he bought a hot dog for $3. What amount of money did Tony have then?\n",
      "20-8-3=9\n",
      "9 (dollars)\n",
      "\n",
      "----------------------------------------------------------------------------------------------------\n",
      "\n"
     ]
    }
   ],
   "metadata": {}
  },
  {
   "cell_type": "markdown",
   "source": [
    "# GSM8k"
   ],
   "metadata": {}
  },
  {
   "cell_type": "code",
   "execution_count": 2,
   "source": [
    "def load_gsm8k(dataset_path):\n",
    "    with open(dataset_path) as fh:\n",
    "        data = [json.loads(line) for line in fh.readlines() if line]\n",
    "\n",
    "    return data\n",
    "\n",
    "\n",
    "def print_gsm8k_sample_from_idx(sample_idx):\n",
    "    data = load_gsm8k(\"data/grade-school-math/grade_school_math/data/train.jsonl\")\n",
    "    problem = data[sample_idx]\n",
    "    print(problem[\"question\"])\n",
    "    print(colored(problem[\"answer\"], \"green\"))\n",
    "    print(colored(re.findall(r\"#### \\w+\", problem[\"answer\"])[0][5:], \"yellow\"))\n",
    "    print(\"\\n\" + \"-\" * 100 + \"\\n\")\n",
    "\n",
    "np.random.seed(1)\n",
    "rand_index = list(np.random.randint(0, len(load_gsm8k(\"data/grade-school-math/grade_school_math/data/train.jsonl\")), 15))\n",
    "print(rand_index)"
   ],
   "outputs": [
    {
     "output_type": "stream",
     "name": "stdout",
     "text": [
      "[5157, 235, 3980, 5192, 905, 2763, 2895, 5056, 144, 4225, 2797, 6652, 3462, 7449, 1202]\n"
     ]
    }
   ],
   "metadata": {}
  },
  {
   "cell_type": "code",
   "execution_count": 22,
   "source": [
    "print_gsm8k_sample_from_idx(3335)"
   ],
   "outputs": [
    {
     "output_type": "stream",
     "name": "stdout",
     "text": [
      "The average score on last week's Spanish test was 90.  Marco scored 10% less than the average test score and Margaret received 5 more points than Marco.  What score did Margaret receive on her test?\n",
      "\u001b[32mThe average test score was 90 and Marco scored 10% less so 90*.10 = <<90*.10=9>>9 points lower\n",
      "The average test score was 90 and Marco scored 9 points less so his test score was 90-9 = <<90-9=81>>81\n",
      "Margret received 5 more points than Marco whose test score was 81 so she made 5+81 = <<5+81=86>>86 on her test\n",
      "#### 86\u001b[0m\n",
      "\u001b[33m86\u001b[0m\n",
      "\n",
      "----------------------------------------------------------------------------------------------------\n",
      "\n"
     ]
    }
   ],
   "metadata": {}
  },
  {
   "cell_type": "code",
   "execution_count": 12,
   "source": [
    "\"\"\"Testing\"\"\"\n",
    "np.random.seed(2)\n",
    "rand_index = list(np.random.randint(0, len(load_gsm8k(\"data/grade-school-math/grade_school_math/data/train.jsonl\")), 10))\n",
    "print(rand_index)"
   ],
   "outputs": [
    {
     "output_type": "stream",
     "name": "stdout",
     "text": [
      "[7336, 2575, 6637, 5704, 3606, 6443, 2514, 1099, 6504, 3335]\n"
     ]
    }
   ],
   "metadata": {}
  },
  {
   "cell_type": "markdown",
   "source": [
    "# SingleEq"
   ],
   "metadata": {}
  },
  {
   "cell_type": "code",
   "execution_count": 86,
   "source": [
    "def sample_singleEq(dataset_path):\n",
    "    with open(dataset_path, \"r\") as f:\n",
    "        data = json.load(f)\n",
    "\n",
    "    # Randomly choose a problem\n",
    "    rand_index = np.random.randint(0, len(data))\n",
    "    problem = data[rand_index]\n",
    "    return problem[\"sQuestion\"], problem[\"lSolutions\"]\n",
    "\n",
    "\n",
    "def load_singleEq(dataset_path):\n",
    "    with open(dataset_path, \"r\") as f:\n",
    "        data = json.load(f)\n",
    "\n",
    "    return data\n",
    "\n",
    "\n",
    "def print_singleEq_sample_from_idx(sample_idx):\n",
    "    data = load_singleEq(\"data/TACL2015/questions.json\")\n",
    "    problem = data[sample_idx]\n",
    "    print(problem[\"sQuestion\"])\n",
    "    print(colored(problem[\"lSolutions\"], \"green\"))\n",
    "    print(\"\\n\" + \"-\" * 100 + \"\\n\")\n",
    "\n",
    "\n",
    "np.random.seed(1)\n",
    "rand_index = list(\n",
    "    np.random.randint(0, len(load_singleEq(\"data/TACL2015/questions.json\")), 15)\n",
    ")\n",
    "print(rand_index)\n"
   ],
   "outputs": [
    {
     "output_type": "stream",
     "name": "stdout",
     "text": [
      "[37, 235, 396, 72, 255, 393, 203, 133, 335, 448, 144, 129, 460, 71, 237]\n"
     ]
    }
   ],
   "metadata": {}
  },
  {
   "cell_type": "code",
   "execution_count": 116,
   "source": [
    "print_singleEq_sample_from_idx(237)"
   ],
   "outputs": [
    {
     "output_type": "stream",
     "name": "stdout",
     "text": [
      "A car company produced 3,884 cars in North America and 2,871 cars in Europe. How many cars is that in all?\n",
      "\u001b[32m[6755.0]\u001b[0m\n",
      "\n",
      "----------------------------------------------------------------------------------------------------\n",
      "\n"
     ]
    }
   ],
   "metadata": {}
  },
  {
   "cell_type": "code",
   "execution_count": null,
   "source": [],
   "outputs": [],
   "metadata": {}
  }
 ],
 "metadata": {
  "orig_nbformat": 4,
  "language_info": {
   "name": "python",
   "version": "3.8.10",
   "mimetype": "text/x-python",
   "codemirror_mode": {
    "name": "ipython",
    "version": 3
   },
   "pygments_lexer": "ipython3",
   "nbconvert_exporter": "python",
   "file_extension": ".py"
  },
  "kernelspec": {
   "name": "python3",
   "display_name": "Python 3.8.10 64-bit ('HFtests': venv)"
  },
  "interpreter": {
   "hash": "5ea8e8bf8ca3b9f65e7cf95ea2223aa98d68a16922d567d33b86408fe49c3092"
  }
 },
 "nbformat": 4,
 "nbformat_minor": 2
}