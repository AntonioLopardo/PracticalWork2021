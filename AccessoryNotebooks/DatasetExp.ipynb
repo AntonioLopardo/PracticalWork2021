{
 "cells": [
  {
   "cell_type": "code",
   "execution_count": 2,
   "metadata": {},
   "outputs": [],
   "source": [
    "from xml.etree import ElementTree\n",
    "from collections import Counter\n",
    "from random import sample\n",
    "import random\n",
    "import numpy as np\n",
    "import json\n",
    "import re\n",
    "from termcolor import colored\n",
    "import os\n",
    "\n",
    "path_parent = os.path.dirname(os.getcwd())\n",
    "os.chdir(path_parent)"
   ]
  },
  {
   "cell_type": "markdown",
   "metadata": {},
   "source": [
    "# AsDiv"
   ]
  },
  {
   "cell_type": "code",
   "execution_count": 25,
   "metadata": {},
   "outputs": [
    {
     "name": "stdout",
     "output_type": "stream",
     "text": [
      "Counter({'Subtraction': 452, 'Addition': 351, 'Multiplication': 260, 'Common-Division': 224, 'Sum': 95, 'Ratio': 94, 'Geometry': 88, 'Algebra-2': 83, 'TVQ-Final': 80, 'GCD': 73, 'Algebra-1': 71, 'Surplus': 70, 'LCM': 65, 'Difference': 59, 'Comparison': 57, 'Floor-Division': 52, 'Sequential-Operation': 37, 'Ceil-Division': 32, 'TVQ-Change': 20, 'TVQ-Initial': 19, 'Set-Operation': 15, 'UnitTrans': 4, 'Number-Operation': 2, 'Number-Pattern': 1, 'Substraction': 1})\n",
      "20\n",
      "{'Subtraction': [1936, 702], 'Addition': [1106, 50], 'Multiplication': [570, 2250], 'Common-Division': [1582, 2281], 'Sum': [218], 'Ratio': [1659], 'Geometry': [1525], 'Algebra-2': [1477], 'TVQ-Final': [883], 'GCD': [2084], 'Algebra-1': [1302], 'Surplus': [800], 'LCM': [1224], 'Difference': [1282], 'Comparison': [189], 'Floor-Division': [1558], 'Sequential-Operation': [], 'Ceil-Division': [], 'TVQ-Change': [], 'TVQ-Initial': [], 'Set-Operation': []}\n"
     ]
    }
   ],
   "source": [
    "dom = ElementTree.parse(\"data/nlu-asdiv-dataset/dataset/ASDiv.xml\")\n",
    "\n",
    "# XML parsing\n",
    "body_list = dom.findall(\"ProblemSet/Problem/Body\")\n",
    "answer_list = dom.findall(\"ProblemSet/Problem/Answer\")\n",
    "question_list = dom.findall(\"ProblemSet/Problem/Question\")\n",
    "formula_list = dom.findall(\"ProblemSet/Problem/Formula\")\n",
    "stype_list = dom.findall(\"ProblemSet/Problem/Solution-Type\")\n",
    "\n",
    "print(Counter(stype.text for stype in stype_list))\n",
    "list_stype_cat = list(Counter(stype.text for stype in stype_list).keys())\n",
    "indexes_dict = {\n",
    "    stype: [i for i, stype_ in enumerate(stype_list) if stype_.text == stype]\n",
    "    for stype in list_stype_cat\n",
    "}\n",
    "\n",
    "nr_sample_dict = {\n",
    "    \"Subtraction\": 2,\n",
    "    \"Addition\": 2,\n",
    "    \"Multiplication\": 2,\n",
    "    \"Common-Division\": 2,\n",
    "    \"Sum\": 1,\n",
    "    \"Ratio\": 1,\n",
    "    \"Geometry\": 1,\n",
    "    \"Algebra-2\": 1,\n",
    "    \"TVQ-Final\": 1,\n",
    "    \"GCD\": 1,\n",
    "    \"Algebra-1\": 1,\n",
    "    \"Surplus\": 1,\n",
    "    \"LCM\": 1,\n",
    "    \"Difference\": 1,\n",
    "    \"Comparison\": 1,\n",
    "    \"Floor-Division\": 1,\n",
    "    \"Sequential-Operation\": 0,\n",
    "    \"Ceil-Division\": 0,\n",
    "    \"TVQ-Change\": 0,\n",
    "    \"TVQ-Initial\": 0,\n",
    "    \"Set-Operation\": 0,\n",
    "}\n",
    "print(sum(nr_sample_dict.values()))\n",
    "\n",
    "random.seed(0)\n",
    "sample_idx_dict = {\n",
    "    stype: sample(indexes_dict[stype], nr_sample_dict[stype])\n",
    "    for stype in nr_sample_dict.keys()\n",
    "}\n",
    "print(sample_idx_dict)\n",
    "\n",
    "\n",
    "def print_as_div_from_idx(sample_idx):\n",
    "    print(f\"{body_list[sample_idx].text} {question_list[sample_idx].text}\")\n",
    "    print(f\"{formula_list[sample_idx].text}\")\n",
    "    print(f\"{answer_list[sample_idx].text}\")\n",
    "    print(\"\\n\" + \"-\" * 100 + \"\\n\")\n"
   ]
  },
  {
   "cell_type": "code",
   "execution_count": 49,
   "metadata": {},
   "outputs": [
    {
     "name": "stdout",
     "output_type": "stream",
     "text": [
      "Each house a carpenter builds needs six sinks. If he bought two hundred sixty-six sinks, how many houses would that cover?\n",
      "266/6=44 r2\n",
      "44 (houses)\n",
      "\n",
      "----------------------------------------------------------------------------------------------------\n",
      "\n"
     ]
    }
   ],
   "source": [
    "print_as_div_from_idx(sample_idx_dict[\"Floor-Division\"][0])"
   ]
  },
  {
   "cell_type": "code",
   "execution_count": 27,
   "metadata": {},
   "outputs": [
    {
     "name": "stdout",
     "output_type": "stream",
     "text": [
      "Tony had $20. He paid $8 for a ticket to a baseball game. At the game, he bought a hot dog for $3. What amount of money did Tony have then?\n",
      "20-8-3=9\n",
      "9 (dollars)\n",
      "\n",
      "----------------------------------------------------------------------------------------------------\n",
      "\n"
     ]
    }
   ],
   "source": [
    "print_as_div_from_idx(605)"
   ]
  },
  {
   "cell_type": "markdown",
   "metadata": {},
   "source": [
    "# GSM8k"
   ]
  },
  {
   "cell_type": "code",
   "execution_count": 3,
   "metadata": {},
   "outputs": [
    {
     "name": "stdout",
     "output_type": "stream",
     "text": [
      "[5157, 235, 3980, 5192, 905, 2763, 2895, 5056, 144, 4225, 2797, 6652, 3462, 7449, 1202]\n"
     ]
    }
   ],
   "source": [
    "def load_gsm8k(dataset_path):\n",
    "    with open(dataset_path) as fh:\n",
    "        data = [json.loads(line) for line in fh.readlines() if line]\n",
    "\n",
    "    return data\n",
    "\n",
    "\n",
    "def print_gsm8k_sample_from_idx(sample_idx):\n",
    "    data = load_gsm8k(\"data/grade-school-math/grade_school_math/data/train.jsonl\")\n",
    "    problem = data[sample_idx]\n",
    "    print(problem[\"question\"])\n",
    "    print(colored(problem[\"answer\"], \"green\"))\n",
    "    print(colored(re.findall(r\"#### \\w+\", problem[\"answer\"])[0][5:], \"yellow\"))\n",
    "    print(\"\\n\" + \"-\" * 100 + \"\\n\")\n",
    "\n",
    "np.random.seed(1)\n",
    "rand_index = list(np.random.randint(0, len(load_gsm8k(\"data/grade-school-math/grade_school_math/data/train.jsonl\")), 15))\n",
    "print(rand_index)"
   ]
  },
  {
   "cell_type": "code",
   "execution_count": 17,
   "metadata": {},
   "outputs": [
    {
     "name": "stdout",
     "output_type": "stream",
     "text": [
      "Mr. Rainwater has some goats, 9 cows and some chickens. He has 4 times as many goats as cows and 2 times as many goats as chickens. How many chickens does he have?\n",
      "\u001b[32mLet X be the number of chickens Mr. Rainwater has. He has 4 goats/cow * 9 cows = <<4*9=36>>36 goats on his farm.\n",
      "So he has 36 goats / 2 goats/chicken = <<36/2=18>>18 chickens.\n",
      "#### 18\u001b[0m\n",
      "\u001b[33m18\u001b[0m\n",
      "\n",
      "----------------------------------------------------------------------------------------------------\n",
      "\n"
     ]
    }
   ],
   "source": [
    "print_gsm8k_sample_from_idx(905)"
   ]
  },
  {
   "cell_type": "code",
   "execution_count": 12,
   "metadata": {},
   "outputs": [
    {
     "name": "stdout",
     "output_type": "stream",
     "text": [
      "[7336, 2575, 6637, 5704, 3606, 6443, 2514, 1099, 6504, 3335]\n"
     ]
    }
   ],
   "source": [
    "\"\"\"Testing\"\"\"\n",
    "np.random.seed(2)\n",
    "rand_index = list(np.random.randint(0, len(load_gsm8k(\"data/grade-school-math/grade_school_math/data/train.jsonl\")), 10))\n",
    "print(rand_index)"
   ]
  },
  {
   "cell_type": "markdown",
   "metadata": {},
   "source": [
    "--------------------------------------------------------------------------------------------------"
   ]
  },
  {
   "cell_type": "code",
   "execution_count": 4,
   "metadata": {},
   "outputs": [],
   "source": [
    "def print_gsm8k_sample_from_idx(sample_idx):\n",
    "    data = load_gsm8k(\"data/grade-school-math/grade_school_math/data/train_socratic.jsonl\")\n",
    "    problem = data[sample_idx]\n",
    "    print(problem[\"question\"])\n",
    "    print(colored(problem[\"answer\"], \"green\"))\n",
    "    print(colored(re.findall(r\"#### \\w+\", problem[\"answer\"])[0][5:], \"yellow\"))\n",
    "    print(\"\\n\" + \"-\" * 100 + \"\\n\")"
   ]
  },
  {
   "cell_type": "code",
   "execution_count": 6,
   "metadata": {},
   "outputs": [
    {
     "name": "stdout",
     "output_type": "stream",
     "text": [
      "Mr. Rainwater has some goats, 9 cows and some chickens. He has 4 times as many goats as cows and 2 times as many goats as chickens. How many chickens does he have?\n",
      "\u001b[32mHow many goats does Mr. Rainwater have? ** Let X be the number of chickens Mr. Rainwater has. He has 4 goats/cow * 9 cows = <<4*9=36>>36 goats on his farm.\n",
      "How many chickens does he have? ** So he has 36 goats / 2 goats/chicken = <<36/2=18>>18 chickens.\n",
      "#### 18\u001b[0m\n",
      "\u001b[33m18\u001b[0m\n",
      "\n",
      "----------------------------------------------------------------------------------------------------\n",
      "\n"
     ]
    }
   ],
   "source": [
    "print_gsm8k_sample_from_idx(7449)"
   ]
  },
  {
   "cell_type": "markdown",
   "metadata": {},
   "source": [
    "# SingleEq"
   ]
  },
  {
   "cell_type": "code",
   "execution_count": 86,
   "metadata": {},
   "outputs": [
    {
     "name": "stdout",
     "output_type": "stream",
     "text": [
      "[37, 235, 396, 72, 255, 393, 203, 133, 335, 448, 144, 129, 460, 71, 237]\n"
     ]
    }
   ],
   "source": [
    "def sample_singleEq(dataset_path):\n",
    "    with open(dataset_path, \"r\") as f:\n",
    "        data = json.load(f)\n",
    "\n",
    "    # Randomly choose a problem\n",
    "    rand_index = np.random.randint(0, len(data))\n",
    "    problem = data[rand_index]\n",
    "    return problem[\"sQuestion\"], problem[\"lSolutions\"]\n",
    "\n",
    "\n",
    "def load_singleEq(dataset_path):\n",
    "    with open(dataset_path, \"r\") as f:\n",
    "        data = json.load(f)\n",
    "\n",
    "    return data\n",
    "\n",
    "\n",
    "def print_singleEq_sample_from_idx(sample_idx):\n",
    "    data = load_singleEq(\"data/TACL2015/questions.json\")\n",
    "    problem = data[sample_idx]\n",
    "    print(problem[\"sQuestion\"])\n",
    "    print(colored(problem[\"lSolutions\"], \"green\"))\n",
    "    print(\"\\n\" + \"-\" * 100 + \"\\n\")\n",
    "\n",
    "\n",
    "np.random.seed(1)\n",
    "rand_index = list(\n",
    "    np.random.randint(0, len(load_singleEq(\"data/TACL2015/questions.json\")), 15)\n",
    ")\n",
    "print(rand_index)\n"
   ]
  },
  {
   "cell_type": "code",
   "execution_count": 116,
   "metadata": {},
   "outputs": [
    {
     "name": "stdout",
     "output_type": "stream",
     "text": [
      "A car company produced 3,884 cars in North America and 2,871 cars in Europe. How many cars is that in all?\n",
      "\u001b[32m[6755.0]\u001b[0m\n",
      "\n",
      "----------------------------------------------------------------------------------------------------\n",
      "\n"
     ]
    }
   ],
   "source": [
    "print_singleEq_sample_from_idx(237)"
   ]
  },
  {
   "cell_type": "code",
   "execution_count": null,
   "metadata": {},
   "outputs": [],
   "source": []
  }
 ],
 "metadata": {
  "interpreter": {
   "hash": "1c59954e50921301bece1313ab371cee7cd99362dbd740142445e95aebb494b1"
  },
  "kernelspec": {
   "display_name": "Python 3.8.10 ('CodeGen_env': venv)",
   "language": "python",
   "name": "python3"
  },
  "language_info": {
   "codemirror_mode": {
    "name": "ipython",
    "version": 3
   },
   "file_extension": ".py",
   "mimetype": "text/x-python",
   "name": "python",
   "nbconvert_exporter": "python",
   "pygments_lexer": "ipython3",
   "version": "3.8.10"
  },
  "orig_nbformat": 4
 },
 "nbformat": 4,
 "nbformat_minor": 2
}
