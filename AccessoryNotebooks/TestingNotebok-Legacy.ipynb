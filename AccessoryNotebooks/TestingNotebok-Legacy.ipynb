{
 "cells": [
  {
   "cell_type": "code",
   "execution_count": 1,
   "source": [
    "import os\n",
    "from xml.etree import ElementTree\n",
    "import numpy as np\n",
    "import torch\n",
    "import json\n",
    "import re\n",
    "from transformers import AutoTokenizer, AutoModelForCausalLM\n",
    "from io import StringIO\n",
    "from contextlib import redirect_stdout\n",
    "from termcolor import colored\n",
    "\n",
    "path_parent = os.path.dirname(os.getcwd())\n",
    "os.chdir(path_parent)"
   ],
   "outputs": [
    {
     "output_type": "stream",
     "name": "stderr",
     "text": [
      "/home/HFtests/lib/python3.8/site-packages/tqdm/auto.py:22: TqdmWarning: IProgress not found. Please update jupyter and ipywidgets. See https://ipywidgets.readthedocs.io/en/stable/user_install.html\n",
      "  from .autonotebook import tqdm as notebook_tqdm\n"
     ]
    }
   ],
   "metadata": {}
  },
  {
   "cell_type": "code",
   "execution_count": 2,
   "source": [
    "cur_dir = os.getcwd()\n",
    "os.chdir(os.path.join(cur_dir, 'data'))\n",
    "!git clone https://gitlab.cs.washington.edu/ALGES/TACL2015.git\n",
    "!git clone https://github.com/chaochun/nlu-asdiv-dataset.git\n",
    "!git clone https://github.com/openai/grade-school-math.git\n",
    "os.chdir(cur_dir)"
   ],
   "outputs": [
    {
     "output_type": "stream",
     "name": "stdout",
     "text": [
      "fatal: destination path 'TACL2015' already exists and is not an empty directory.\n",
      "fatal: destination path 'nlu-asdiv-dataset' already exists and is not an empty directory.\n",
      "fatal: destination path 'grade-school-math' already exists and is not an empty directory.\n"
     ]
    }
   ],
   "metadata": {}
  },
  {
   "cell_type": "code",
   "execution_count": 2,
   "source": [
    "def read_string_from_file(path):\n",
    "    with open(path, \"r\") as f:\n",
    "        return f.read()\n",
    "\n",
    "\n",
    "def sample_asdiv(dataset_path, nr_samples):\n",
    "    dom = ElementTree.parse(dataset_path)\n",
    "\n",
    "    # XML parsing\n",
    "    body_list = dom.findall(\"ProblemSet/Problem/Body\")\n",
    "    answer_list = dom.findall(\"ProblemSet/Problem/Answer\")\n",
    "    question_list = dom.findall(\"ProblemSet/Problem/Question\")\n",
    "    formula_list = dom.findall(\"ProblemSet/Problem/Formula\")\n",
    "    stype_list = dom.findall(\"ProblemSet/Problem/Solution-Type\")\n",
    "\n",
    "    # Randomly choose a problem\n",
    "    rand_indexes = np.random.randint(0, len(body_list), nr_samples)\n",
    "\n",
    "    sample_a_list = []\n",
    "    sample_q_list = []\n",
    "    for rand_index in rand_indexes:\n",
    "        sample_q_list.append(f\"{body_list[rand_index].text} Write a program that prints {question_list[rand_index].text}\")\n",
    "        sample_a_list.append(answer_list[rand_index].text)\n",
    "\n",
    "    return sample_q_list, sample_a_list\n",
    "\n",
    "\n",
    "def sample_gsm8k(dataset_path):\n",
    "    with open(dataset_path) as fh:\n",
    "        data = [json.loads(line) for line in fh.readlines() if line]\n",
    "\n",
    "    # Randomly choose a problem\n",
    "    rand_index = np.random.randint(0, len(data))\n",
    "    problem = data[rand_index]\n",
    "    return problem[\"question\"], re.findall(r\"#### \\w+\", problem[\"answer\"])[0][5:]\n",
    "\n",
    "def sample_gsm8k_with_full_answer(dataset_path):\n",
    "    with open(dataset_path) as fh:\n",
    "        data = [json.loads(line) for line in fh.readlines() if line]\n",
    "\n",
    "    # Randomly choose a problem\n",
    "    rand_index = np.random.randint(0, len(data))\n",
    "    problem = data[rand_index]\n",
    "\n",
    "    proc_answer = problem[\"answer\"].split(\"####\")[0]\n",
    "    proc_answer = re.sub(r\"\\n\", \" \", proc_answer)\n",
    "    return problem[\"question\"], proc_answer\n",
    "\n",
    "\n",
    "def sample_singleEq(dataset_path):\n",
    "    with open(dataset_path, \"r\") as f:\n",
    "        data = json.load(f)\n",
    "\n",
    "    # Randomly choose a problem\n",
    "    rand_index = np.random.randint(0, len(data))\n",
    "    problem = data[rand_index]\n",
    "    return problem[\"sQuestion\"], problem[\"lSolutions\"]\n",
    "\n",
    "\n",
    "def preproc_sol_as_div(raw_sol):\n",
    "    sol = raw_sol.split(\" \")[0]\n",
    "    if \":\" in sol:\n",
    "        sol = int(sol.split(\":\")[0]) / int(sol.split(\":\")[1])\n",
    "\n",
    "    try:\n",
    "        sol = float(sol)\n",
    "    except ValueError:\n",
    "        sol = 22222222.0\n",
    "    return float(sol)\n",
    "\n",
    "\n",
    "def preproc_gen_toks(gen_toks, input_len):\n",
    "    list_out = []\n",
    "    for gen_tok in gen_toks:\n",
    "        last_tokens = gen_tok[input_len:]\n",
    "        generated_text = tokenizer.decode(last_tokens)\n",
    "        output = generated_text.split(\"\\n\\n\")[0]\n",
    "        list_out.append(output)\n",
    "    return list_out\n",
    "\n",
    "\n",
    "def print_pred_from_output(output, sample_q, sample_a):\n",
    "    f = StringIO()\n",
    "    with redirect_stdout(f):\n",
    "        try:\n",
    "            exec(output)\n",
    "        except Exception as e:\n",
    "            print(\"111111111111111\")\n",
    "\n",
    "    #print(colored(sample_q, \"green\"))\n",
    "    #print(colored(output, \"yellow\"))\n",
    "\n",
    "    s = f.getvalue()\n",
    "    try:\n",
    "        s = float(s)\n",
    "    except Exception as e:\n",
    "        s = 1111111111.0\n",
    "    #print(colored(s, \"red\"))\n",
    "    #print(colored(preproc_sol_as_div(sample_a), \"green\"))\n",
    "\n",
    "    is_correct = s == preproc_sol_as_div(sample_a)\n",
    "    #print(is_correct)\n",
    "    return is_correct\n",
    "\n",
    "\n",
    "def pass_at_k(n, c, k):\n",
    "    \"\"\"\n",
    "    :param n: total number of samples\n",
    "    :param c: number of correct samples\n",
    "    :param k: k in pass@$k$\n",
    "    \"\"\"\n",
    "    if n - c < k:\n",
    "        return 1.0\n",
    "    return 1.0 - np.prod(1.0 - k / np.arange(n - c + 1, n + 1))\n"
   ],
   "outputs": [],
   "metadata": {}
  },
  {
   "cell_type": "code",
   "execution_count": 10,
   "source": [
    "torch.manual_seed(0)\n",
    "np.random.seed(7)\n",
    "\n",
    "# genji_model = \"\"\n",
    "gptj_model = \"EleutherAI/gpt-j-6B\"\n",
    "codeparrot_model = \"lvwerra/codeparrot\"\n",
    "\n",
    "asdiv_path = \"data/nlu-asdiv-dataset/dataset/ASDiv.xml\"\n",
    "gsm8k_path = \"data/grade-school-math/grade_school_math/data/train.jsonl\"\n",
    "singleEq_path = \"data/TACL2015/questions.json\"\n",
    "\n",
    "\"\"\"Choose the dataset you want to test\"\"\"\n",
    "dataset_path = gsm8k_path\n",
    "# dataset_path = singleEq_path\n",
    "# dataset_path = asdiv_path\n",
    "\n",
    "\"\"\"Load the priming text to add to the prompt and sample a question\"\"\"\n",
    "priming_text = read_string_from_file(\"data/priming_texts/gsm8k_fewerfullanswer.txt\")\n",
    "# priming_text = read_string_from_file(\"data/priming_texts/singleEq.txt\")\n",
    "# priming_text = read_string_from_file(\"data/priming_texts/asdiv.txt\")\n",
    "\n",
    "sample_q, sample_a = sample_gsm8k_with_full_answer(dataset_path)\n",
    "# sample_q, sample_a = sample_singleEq(dataset_path)\n",
    "# sample_q_list, sample_a_list = sample_asdiv(dataset_path, 25)\n",
    "\n",
    "sample_q_list = [sample_q]\n",
    "sample_a_list = [sample_a]\n",
    "\n",
    "print(sample_a)\n"
   ],
   "outputs": [
    {
     "output_type": "stream",
     "name": "stdout",
     "text": [
      "If it takes 15 minutes for Dante to go to Hidden Lake and 7 minutes to walk back to the Park Office, he spends a total of 15+7=<<15+7=22>>22 minutes on the trip. When Dante arrives at the Park Office, he will have been gone from the Park Office 32 minutes altogether, and since he passed by the Lake Park restaurant from The Park Office, his walk from Park Office to the Lake Park restaurant took 32-22=<<32-22=10>>10 minutes. \n"
     ]
    }
   ],
   "metadata": {}
  },
  {
   "cell_type": "code",
   "execution_count": 4,
   "source": [
    "\"\"\"GPT-J and codeparrot models run in HFTest venv\"\"\"\n",
    "tokenizer = AutoTokenizer.from_pretrained(gptj_model)\n",
    "model = AutoModelForCausalLM.from_pretrained(gptj_model).eval().cuda()\n",
    "\n",
    "\"\"\"Genji model run in HFTest_genji venv\"\"\"\n",
    "#model = AutoModelForCausalLM.from_pretrained(\"NovelAI/genji-python-6B\").eval().cuda()\n",
    "#tokenizer = AutoTokenizer.from_pretrained(\"EleutherAI/gpt-neo-2.7B\")"
   ],
   "outputs": [
    {
     "output_type": "execute_result",
     "data": {
      "text/plain": [
       "'Genji model run in HFTest_genji venv'"
      ]
     },
     "metadata": {},
     "execution_count": 4
    }
   ],
   "metadata": {}
  },
  {
   "cell_type": "code",
   "execution_count": 13,
   "source": [
    "torch.manual_seed(42)\n",
    "np.random.seed(42)\n",
    "\n",
    "n = 1\n",
    "k = 1\n",
    "\n",
    "pass_k_list = []\n",
    "\n",
    "for sample_q, sample_a in zip(sample_q_list, sample_a_list):\n",
    "    # prompt = f\"{priming_text}\\n\\n#{sample_q}\"\n",
    "    prompt = f\"{priming_text}\\n\\n#{sample_q}\\n\\\"\\\"\\\"<<15+7=22>> <<32-22=10>>\\\"\\\"\\\"\"\n",
    "    #prompt = f\"{priming_text}\\n\\n# {sample_q}\\n\\\"\\\"\\\"{sample_a}\\\"\\\"\\\"\"\n",
    "    print(prompt)\n",
    "\n",
    "    tokens = tokenizer(prompt, return_tensors=\"pt\").input_ids\n",
    "    generated_tokens = model.generate(\n",
    "        tokens.long().cuda(),\n",
    "        use_cache=True,\n",
    "        do_sample=True,\n",
    "        top_k=50,\n",
    "        temperature=0.4,\n",
    "        top_p=0.9,\n",
    "        min_length=1,\n",
    "        max_length=len(tokens[0]) + 150,\n",
    "        num_return_sequences=n,\n",
    "        pad_token_id=tokenizer.eos_token_id,\n",
    "    )\n",
    "    print(len(generated_tokens))\n",
    "\n",
    "    list_outputs = preproc_gen_toks(generated_tokens, len(tokens[0]))\n",
    "\n",
    "    # is_correct_list = [print_pred_from_output(output, sample_q, sample_a) for output in list_outputs]\n",
    "\n",
    "    # c = is_correct_list.count(True)\n",
    "\n",
    "    # pass_k = pass_at_k(n, c, k)\n",
    "    # pass_k_list.append(pass_k)\n"
   ],
   "outputs": [
    {
     "output_type": "stream",
     "name": "stdout",
     "text": [
      "# The owner of a Turkish restaurant wanted to prepare traditional dishes for an upcoming celebration. She ordered ground beef, in four-pound packages, from three different butchers. The following morning, the first butcher delivered 10 packages. A couple of hours later, 7 packages arrived from the second butcher. Finally, the third butcher’s delivery arrived at dusk. If all the ground beef delivered by the three butchers weighed 100 pounds, write a program that prints how many packages did the third butcher deliver?\n",
      "\"\"\"<<10*4=40>> <<7*4=28>> <<40+28=68>> <<100-68=32>> <<32/4=8>>\"\"\"\n",
      "pounds_beef_per_package = 4\n",
      "nr_first_butcher = 10\n",
      "nr_second_butcher = 7\n",
      "pounds = 100\n",
      "total_packages = pounds / pounds_beef_per_package\n",
      "nr_third_buthcer = total_packages - nr_first_butcher - nr_second_butcher\n",
      "print(nr_third_buthcer)\n",
      "\n",
      "# When Jason plays the video game, Duty for Ashes, his mission to slay the dragon hoard requires that he fire his weapon on average every 15 seconds.   And each time he fires his weapon, his power-fire setting allows him to shoot a flame for 5 seconds. Write a program that prints on average, how many seconds per minute does Jason shoot flames at the dragon hoard?\n",
      "\"\"\"<<60/15=4>> <<4*5=20>>\"\"\"\n",
      "rate_of_fire_per_second = 1 / 15\n",
      "duration_of_flame = 5\n",
      "rate_of_fire_per_minute = rate_of_fire_per_second * 60\n",
      "time_with_power_fire = duration_of_flame * rate_of_fire_per_minute\n",
      "print(time_with_power_fire)\n",
      "\n",
      "# To run his grocery store, Mr. Haj needs $4000 a day. This money is used to pay for orders done, delivery costs and employees' salaries. If he spends 2/5 of the total operation costs on employees' salary and 1/4 of the remaining amount on delivery costs, write a program that prints how much money he pays for the orders done?\n",
      "\"\"\"<<2/5*4000=1600>> <<4000-1600=2400>> <<2400/4=600>> <<2400-600=1800>>\"\"\"\n",
      "total_cost_per_day = 4000\n",
      "employees_cost = total_cost_per_day * 2 / 5\n",
      "delivery_costs = (total_cost_per_day - employees_cost) * 1 / 4\n",
      "orders_costs = total_cost_per_day - delivery_costs - employees_cost\n",
      "print(orders_costs)\n",
      "\n",
      "# In a stationery store, there are three kinds of pencils. A pencil with an eraser, which costs $0.8 each, a regular pencil for $0.5 each, and a short pencil for $0.4 each. This store was able to sell 200 pencils with an eraser, 40 regular pencils, and 35 short pencils. Write a program that prints how much money did the store make from these sales?\n",
      "\"\"\"<<200*0.8=160>> <<40*0.5=20>> <<35*0.4=14>> <<160+20+14=194>>\"\"\"\n",
      "pencils_eraser_cost = 0.8\n",
      "pencils_regular_cost = 0.5\n",
      "pencils_short_cost = 0.4\n",
      "nr_pencil_eraser = 200\n",
      "nr_pencil_regular = 40\n",
      "nr_pencil_short = 35\n",
      "total_pencils_cost = nr_pencil_eraser * pencils_eraser_cost + nr_pencil_regular * pencils_regular_cost + nr_pencil_short * pencils_short_cost\n",
      "print(total_pencils_cost)\n",
      "\n",
      "# After complaints from the residents of Tatoosh about the number of cats on the island, the wildlife service carried out a relocation mission that saw the number of cats on the island drastically reduced. On the first relocation mission, 600 cats were relocated from the island to a neighboring island. On the second mission, half of the remaining cats were relocated to a rescue center inland. If the number of cats originally on the island was 1800, write a program that prints how many cats remained on the island after the rescue mission?\n",
      "\"\"\"<<1800-600=1200>> <<1200/2=600>> <<1200-600=600>>\"\"\"\n",
      "total_cats_on_island = 1800\n",
      "nr_cats_relocated_first_mission = 600\n",
      "nr_cats_relocated_second_mission = (total_cats_on_island - nr_cats_relocated_first_mission) / 2\n",
      "nr_cats_left = (total_cats_on_island - nr_cats_relocated_first_mission - nr_cats_relocated_second_mission)\n",
      "print(nr_cats_left)\n",
      "\n",
      "# Mr. Rainwater has some goats, 9 cows and some chickens. He has 4 times as many goats as cows and 2 times as many goats as chickens. Write a program that prints how many chickens does he have?\n",
      "\"\"\"<<4*9=36>> <<36/2=18>>\"\"\"\n",
      "goats_cows_ratio = 4 / 1\n",
      "goats_chickens_ratio = 2 / 1\n",
      "nr_cows = 9\n",
      "nr_goats = 9 * goats_cows_ratio\n",
      "nr_chickens = nr_goats / goats_chickens_ratio\n",
      "print(nr_chickens)\n",
      "\n",
      "# A man is trying to maximize the amount of money he saves each month. In particular, he is trying to decide between two different apartments. The first apartment costs $800 per month in rent and will cost an additional $260 per month in utilities. The second apartment costs $900 per month and will cost an additional $200 per month in utilities. The first apartment is slightly further from the man's work, and the man would have to drive 31 miles per day to get to work. The second apartment is closer, and the man would only have to drive 21 miles to get to work. According to the IRS, each mile a person drives has an average cost of 58 cents. If the man must drive to work 20 days each month, write a program that prints what is the difference between the total monthly costs of these two apartments after factoring in utility and driving-related costs (to the nearest whole dollar)?\n",
      "\"\"\"<<31*20*0.58=359.60>> <<359.60+800+260=1419.60>> <<21*20*0.58=243.60>> <<243.60+900+200=1343.60>> <<1419.60-1343.60=76>>\"\"\"\n",
      "rent_first_apartment = 800\n",
      "utilities_first_apartment = 260\n",
      "rent_second_apartment = 900\n",
      "utilities_second_apartment = 200\n",
      "distance_to_work_first_apartment = 31\n",
      "distance_to_work_second_apartment = 21\n",
      "cost_per_mile = 0.58\n",
      "work_days = 20\n",
      "cost_first_apartment = (rent_first_apartment + utilities_first_apartment + (cost_per_mile * distance_to_work_first_apartment * work_days))\n",
      "cost_second_apartment = (rent_second_apartment + utilities_second_apartment + (cost_per_mile * distance_to_work_second_apartment * work_days))\n",
      "difference = cost_first_apartment - cost_second_apartment\n",
      "print(difference)\n",
      "\n",
      "\n",
      "#It takes 15 minutes for Dante to go to Hidden Lake. From Hidden Lake, he has to walk back to the Park Office and it takes him 7 minutes. When he arrives there, he will have been gone from the Park Office 32 minutes altogether. If he had walked to the Lake Park restaurant from the Park office before taking the 15 minute walk to Hidden Lake, how long is the walk from Park Office to the Lake Park restaurant?\n",
      "\"\"\"<<15+7=22>> <<32-22=10>>\"\"\"\n",
      "1\n"
     ]
    }
   ],
   "metadata": {}
  },
  {
   "cell_type": "code",
   "execution_count": 14,
   "source": [
    "print(list_outputs[0])\n",
    "exec(list_outputs[0])"
   ],
   "outputs": [
    {
     "output_type": "stream",
     "name": "stdout",
     "text": [
      "\n",
      "time_to_lake_park = 15\n",
      "time_to_park_office = 7\n",
      "time_to_restaurant = 32 - time_to_park_office\n",
      "print(time_to_restaurant)\n",
      "25\n"
     ]
    }
   ],
   "metadata": {}
  },
  {
   "cell_type": "code",
   "execution_count": 7,
   "source": [
    "print(f\"Pass@{k} = {np.mean(np.array(pass_k_list))}\")"
   ],
   "outputs": [
    {
     "output_type": "stream",
     "name": "stdout",
     "text": [
      "Pass@3 = 0.4\n"
     ]
    }
   ],
   "metadata": {}
  }
 ],
 "metadata": {
  "orig_nbformat": 4,
  "language_info": {
   "name": "python",
   "version": "3.8.10",
   "mimetype": "text/x-python",
   "codemirror_mode": {
    "name": "ipython",
    "version": 3
   },
   "pygments_lexer": "ipython3",
   "nbconvert_exporter": "python",
   "file_extension": ".py"
  },
  "kernelspec": {
   "name": "python3",
   "display_name": "Python 3.8.10 64-bit ('HFtests': venv)"
  },
  "interpreter": {
   "hash": "5ea8e8bf8ca3b9f65e7cf95ea2223aa98d68a16922d567d33b86408fe49c3092"
  }
 },
 "nbformat": 4,
 "nbformat_minor": 2
}