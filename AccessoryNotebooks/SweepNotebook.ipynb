{
 "cells": [
  {
   "cell_type": "code",
   "execution_count": 1,
   "source": [
    "import os\n",
    "from xml.etree import ElementTree\n",
    "import numpy as np\n",
    "import torch\n",
    "import json\n",
    "import re\n",
    "from transformers import AutoTokenizer, AutoModelForCausalLM\n",
    "from io import StringIO\n",
    "from contextlib import redirect_stdout\n",
    "from termcolor import colored"
   ],
   "outputs": [],
   "metadata": {}
  },
  {
   "cell_type": "code",
   "execution_count": 2,
   "source": [
    "import wandb\n",
    "\n",
    "wandb.login()"
   ],
   "outputs": [
    {
     "output_type": "stream",
     "name": "stderr",
     "text": [
      "Failed to detect the name of this notebook, you can set it manually with the WANDB_NOTEBOOK_NAME environment variable to enable code saving.\n",
      "\u001b[34m\u001b[1mwandb\u001b[0m: Currently logged in as: \u001b[33mantoniolopardo\u001b[0m (use `wandb login --relogin` to force relogin)\n"
     ]
    },
    {
     "output_type": "execute_result",
     "data": {
      "text/plain": [
       "True"
      ]
     },
     "metadata": {},
     "execution_count": 2
    }
   ],
   "metadata": {}
  },
  {
   "cell_type": "code",
   "execution_count": 3,
   "source": [
    "import dataset_handler as dh\n",
    "import helper_func as hf"
   ],
   "outputs": [],
   "metadata": {}
  },
  {
   "cell_type": "code",
   "execution_count": 17,
   "source": [
    "torch.manual_seed(0)\n",
    "np.random.seed(8)\n",
    "\n",
    "gptj_model = \"EleutherAI/gpt-j-6B\"\n",
    "codeparrot_model = \"lvwerra/codeparrot\"\n",
    "\n",
    "\"\"\"Load the priming text to add to the prompt and sample a question\"\"\"\n",
    "# priming_text_path = \"data/priming_texts/gsm8k/gsm8k_fewer_alt_codegen.txt\"\n",
    "# priming_text = read_string_from_file(\"data/priming_texts/singleEq.txt\")\n",
    "priming_text_path = \"data/priming_texts/asdiv/asdiv_prefix_codegen.txt\"\n",
    "\n",
    "current_dataset = dh.init_dataset_from_name(\"asdiv\", primingtext_path = priming_text_path)\n",
    "\n",
    "sample_q_list, sample_a_list = current_dataset.sample_n_for_prompting(50)\n",
    "\n",
    "print(colored(sample_q_list[0], \"blue\"))\n",
    "print(colored(sample_a_list[0], \"green\"))"
   ],
   "outputs": [
    {
     "output_type": "stream",
     "name": "stdout",
     "text": [
      "\u001b[34mWrite a program that prints the answer to the following question. When they got there, they saw that SFL is already filled with people. Every entrance has a long line, with 283 people waiting to get in. If SFL has 5 entrances, how many people in total are waiting to get in?\u001b[0m\n",
      "\u001b[32m1415 (people)\u001b[0m\n"
     ]
    }
   ],
   "metadata": {}
  },
  {
   "cell_type": "code",
   "execution_count": 5,
   "source": [
    "\"\"\"CodeGen runs in the venv venv\"\"\"\n",
    "model_args = hf.model_args()\n",
    "model, tokenizer = hf.load_CodeGen(model_args)"
   ],
   "outputs": [
    {
     "output_type": "stream",
     "name": "stdout",
     "text": [
      "loading parameters\n",
      "loading parameters took 475.45s\n",
      "loading tokenizer\n"
     ]
    },
    {
     "output_type": "display_data",
     "data": {
      "application/vnd.jupyter.widget-view+json": {
       "version_major": 2,
       "version_minor": 0,
       "model_id": "5b26bf75953647c19b9c947bcc7c67e1"
      },
      "text/plain": [
       "Downloading:   0%|          | 0.00/0.99M [00:00<?, ?B/s]"
      ]
     },
     "metadata": {}
    },
    {
     "output_type": "display_data",
     "data": {
      "application/vnd.jupyter.widget-view+json": {
       "version_major": 2,
       "version_minor": 0,
       "model_id": "391cc4eb76224fc4a66a40cd2a9102ec"
      },
      "text/plain": [
       "Downloading:   0%|          | 0.00/446k [00:00<?, ?B/s]"
      ]
     },
     "metadata": {}
    },
    {
     "output_type": "display_data",
     "data": {
      "application/vnd.jupyter.widget-view+json": {
       "version_major": 2,
       "version_minor": 0,
       "model_id": "74c2525a64764249ab5aa121bd9aed42"
      },
      "text/plain": [
       "Downloading:   0%|          | 0.00/1.29M [00:00<?, ?B/s]"
      ]
     },
     "metadata": {}
    },
    {
     "output_type": "display_data",
     "data": {
      "application/vnd.jupyter.widget-view+json": {
       "version_major": 2,
       "version_minor": 0,
       "model_id": "a716ea674b8d4f2d82d32a6e51d8d023"
      },
      "text/plain": [
       "Downloading:   0%|          | 0.00/665 [00:00<?, ?B/s]"
      ]
     },
     "metadata": {}
    },
    {
     "output_type": "stream",
     "name": "stdout",
     "text": [
      "loading tokenizer took 7.91s\n"
     ]
    }
   ],
   "metadata": {}
  },
  {
   "cell_type": "code",
   "execution_count": 18,
   "source": [
    "def test(config=None):\n",
    "    with wandb.init(config=config):\n",
    "        config = wandb.config\n",
    "\n",
    "        pass_at_k = hf.testing_loop(current_dataset, tokenizer, model, sample_q_list, sample_a_list, config)\n",
    "\n",
    "        wandb.log({\"pass_at_k\": pass_at_k})"
   ],
   "outputs": [],
   "metadata": {}
  },
  {
   "cell_type": "code",
   "execution_count": 19,
   "source": [
    "sweep_config = {\n",
    "    'method': 'random'\n",
    "    }\n",
    "\n",
    "metric = {\n",
    "    'name': 'pass_at_k',\n",
    "    'goal': 'maximize'   \n",
    "    }\n",
    "\n",
    "sweep_config['metric'] = metric\n",
    "\n",
    "parameters_dict = {\n",
    "    'k': {\n",
    "        'values': [3]\n",
    "        },\n",
    "    'do_sample': {\n",
    "        'values': [True]\n",
    "        },\n",
    "    'top_k': {\n",
    "          'values': [10, 1, 50, 100]\n",
    "        },\n",
    "    'top_p': {\n",
    "          'values': [0.0, 0.2, 0.5, 0.9]\n",
    "        },\n",
    "    'temperature': {\n",
    "          'values': [0.1, 0.2, 0.5, 0.9]\n",
    "        },\n",
    "    'min_length': {\n",
    "          'values': [1]\n",
    "        },\n",
    "    'max_length_after_input': {\n",
    "          'values': [100, 200, 250]\n",
    "        },\n",
    "    'num_return_sequences': {\n",
    "          'values': [4]\n",
    "        },\n",
    "    }\n",
    "\n",
    "sweep_config['parameters'] = parameters_dict"
   ],
   "outputs": [],
   "metadata": {}
  },
  {
   "cell_type": "code",
   "execution_count": 20,
   "source": [
    "sweep_id = wandb.sweep(sweep_config, project=\"PracticalWork\")\n",
    "wandb.agent(sweep_id, test, count=15)"
   ],
   "outputs": [
    {
     "output_type": "stream",
     "name": "stdout",
     "text": [
      "Create sweep with ID: aq1jys2a\n",
      "Sweep URL: https://wandb.ai/antoniolopardo/PracticalWork/sweeps/aq1jys2a\n"
     ]
    },
    {
     "output_type": "stream",
     "name": "stderr",
     "text": [
      "\u001b[34m\u001b[1mwandb\u001b[0m: Agent Starting Run: 7acjjotr with config:\n",
      "\u001b[34m\u001b[1mwandb\u001b[0m: \tdo_sample: True\n",
      "\u001b[34m\u001b[1mwandb\u001b[0m: \tk: 3\n",
      "\u001b[34m\u001b[1mwandb\u001b[0m: \tmax_length_after_input: 200\n",
      "\u001b[34m\u001b[1mwandb\u001b[0m: \tmin_length: 1\n",
      "\u001b[34m\u001b[1mwandb\u001b[0m: \tnum_return_sequences: 4\n",
      "\u001b[34m\u001b[1mwandb\u001b[0m: \ttemperature: 0.1\n",
      "\u001b[34m\u001b[1mwandb\u001b[0m: \ttop_k: 100\n",
      "\u001b[34m\u001b[1mwandb\u001b[0m: \ttop_p: 0\n",
      "Failed to detect the name of this notebook, you can set it manually with the WANDB_NOTEBOOK_NAME environment variable to enable code saving.\n"
     ]
    },
    {
     "output_type": "display_data",
     "data": {
      "text/html": [
       "Tracking run with wandb version 0.12.11"
      ],
      "text/plain": [
       "<IPython.core.display.HTML object>"
      ]
     },
     "metadata": {}
    },
    {
     "output_type": "display_data",
     "data": {
      "text/html": [
       "Run data is saved locally in <code>/home/PracticalWork2021/wandb/run-20220402_093907-7acjjotr</code>"
      ],
      "text/plain": [
       "<IPython.core.display.HTML object>"
      ]
     },
     "metadata": {}
    },
    {
     "output_type": "display_data",
     "data": {
      "text/html": [
       "Syncing run <strong><a href=\"https://wandb.ai/antoniolopardo/PracticalWork/runs/7acjjotr\" target=\"_blank\">sweet-sweep-1</a></strong> to <a href=\"https://wandb.ai/antoniolopardo/PracticalWork\" target=\"_blank\">Weights & Biases</a> (<a href=\"https://wandb.me/run\" target=\"_blank\">docs</a>)<br/>Sweep page:  <a href=\"https://wandb.ai/antoniolopardo/PracticalWork/sweeps/aq1jys2a\" target=\"_blank\">https://wandb.ai/antoniolopardo/PracticalWork/sweeps/aq1jys2a</a>"
      ],
      "text/plain": [
       "<IPython.core.display.HTML object>"
      ]
     },
     "metadata": {}
    },
    {
     "output_type": "stream",
     "name": "stdout",
     "text": [
      "\u001b[33mTESTING STARTED\u001b[0m\n",
      "\u001b[37m@sample 5 -> Pass@3 = 0.4\u001b[0m\n",
      "\u001b[37m@sample 10 -> Pass@3 = 0.2\u001b[0m\n",
      "\u001b[37m@sample 15 -> Pass@3 = 0.2857142857142857\u001b[0m\n",
      "\u001b[37m@sample 20 -> Pass@3 = 0.2631578947368421\u001b[0m\n",
      "\u001b[37m@sample 25 -> Pass@3 = 0.3333333333333333\u001b[0m\n",
      "\u001b[37m@sample 30 -> Pass@3 = 0.3793103448275862\u001b[0m\n",
      "\u001b[37m@sample 35 -> Pass@3 = 0.35294117647058826\u001b[0m\n",
      "\u001b[37m@sample 40 -> Pass@3 = 0.38461538461538464\u001b[0m\n",
      "\u001b[37m@sample 45 -> Pass@3 = 0.38636363636363635\u001b[0m\n",
      "\u001b[37m@sample 50 -> Pass@3 = 0.3469387755102041\u001b[0m\n",
      "\u001b[32m\n",
      "\n",
      "Pass@3 = 0.3469387755102041\u001b[0m\n",
      "\n"
     ]
    },
    {
     "output_type": "display_data",
     "data": {
      "text/html": [
       "Waiting for W&B process to finish... <strong style=\"color:green\">(success).</strong>"
      ],
      "text/plain": [
       "<IPython.core.display.HTML object>"
      ]
     },
     "metadata": {}
    },
    {
     "output_type": "display_data",
     "data": {
      "application/vnd.jupyter.widget-view+json": {
       "version_major": 2,
       "version_minor": 0,
       "model_id": "2329964bb4d145a6809f130b9f76fa9a"
      },
      "text/plain": [
       "VBox(children=(Label(value='0.001 MB of 0.001 MB uploaded (0.000 MB deduped)\\r'), FloatProgress(value=1.0, max…"
      ]
     },
     "metadata": {}
    },
    {
     "output_type": "display_data",
     "data": {
      "text/html": [
       "<style>\n",
       "    table.wandb td:nth-child(1) { padding: 0 10px; text-align: right }\n",
       "    .wandb-row { display: flex; flex-direction: row; flex-wrap: wrap; width: 100% }\n",
       "    .wandb-col { display: flex; flex-direction: column; flex-basis: 100%; flex: 1; padding: 10px; }\n",
       "    </style>\n",
       "<div class=\"wandb-row\"><div class=\"wandb-col\"><h3>Run history:</h3><br/><table class=\"wandb\"><tr><td>pass_at_k</td><td>▁</td></tr></table><br/></div><div class=\"wandb-col\"><h3>Run summary:</h3><br/><table class=\"wandb\"><tr><td>pass_at_k</td><td>0.34694</td></tr></table><br/></div></div>"
      ],
      "text/plain": [
       "<IPython.core.display.HTML object>"
      ]
     },
     "metadata": {}
    },
    {
     "output_type": "display_data",
     "data": {
      "text/html": [
       "Synced <strong style=\"color:#cdcd00\">sweet-sweep-1</strong>: <a href=\"https://wandb.ai/antoniolopardo/PracticalWork/runs/7acjjotr\" target=\"_blank\">https://wandb.ai/antoniolopardo/PracticalWork/runs/7acjjotr</a><br/>Synced 5 W&B file(s), 0 media file(s), 0 artifact file(s) and 0 other file(s)"
      ],
      "text/plain": [
       "<IPython.core.display.HTML object>"
      ]
     },
     "metadata": {}
    },
    {
     "output_type": "display_data",
     "data": {
      "text/html": [
       "Find logs at: <code>./wandb/run-20220402_093907-7acjjotr/logs</code>"
      ],
      "text/plain": [
       "<IPython.core.display.HTML object>"
      ]
     },
     "metadata": {}
    },
    {
     "output_type": "stream",
     "name": "stderr",
     "text": [
      "\u001b[34m\u001b[1mwandb\u001b[0m: Agent Starting Run: yr0ec77b with config:\n",
      "\u001b[34m\u001b[1mwandb\u001b[0m: \tdo_sample: True\n",
      "\u001b[34m\u001b[1mwandb\u001b[0m: \tk: 3\n",
      "\u001b[34m\u001b[1mwandb\u001b[0m: \tmax_length_after_input: 200\n",
      "\u001b[34m\u001b[1mwandb\u001b[0m: \tmin_length: 1\n",
      "\u001b[34m\u001b[1mwandb\u001b[0m: \tnum_return_sequences: 4\n",
      "\u001b[34m\u001b[1mwandb\u001b[0m: \ttemperature: 0.1\n",
      "\u001b[34m\u001b[1mwandb\u001b[0m: \ttop_k: 10\n",
      "\u001b[34m\u001b[1mwandb\u001b[0m: \ttop_p: 0.2\n",
      "Failed to detect the name of this notebook, you can set it manually with the WANDB_NOTEBOOK_NAME environment variable to enable code saving.\n"
     ]
    },
    {
     "output_type": "display_data",
     "data": {
      "text/html": [
       "Tracking run with wandb version 0.12.11"
      ],
      "text/plain": [
       "<IPython.core.display.HTML object>"
      ]
     },
     "metadata": {}
    },
    {
     "output_type": "display_data",
     "data": {
      "text/html": [
       "Run data is saved locally in <code>/home/PracticalWork2021/wandb/run-20220402_094454-yr0ec77b</code>"
      ],
      "text/plain": [
       "<IPython.core.display.HTML object>"
      ]
     },
     "metadata": {}
    },
    {
     "output_type": "display_data",
     "data": {
      "text/html": [
       "Syncing run <strong><a href=\"https://wandb.ai/antoniolopardo/PracticalWork/runs/yr0ec77b\" target=\"_blank\">elated-sweep-2</a></strong> to <a href=\"https://wandb.ai/antoniolopardo/PracticalWork\" target=\"_blank\">Weights & Biases</a> (<a href=\"https://wandb.me/run\" target=\"_blank\">docs</a>)<br/>Sweep page:  <a href=\"https://wandb.ai/antoniolopardo/PracticalWork/sweeps/aq1jys2a\" target=\"_blank\">https://wandb.ai/antoniolopardo/PracticalWork/sweeps/aq1jys2a</a>"
      ],
      "text/plain": [
       "<IPython.core.display.HTML object>"
      ]
     },
     "metadata": {}
    },
    {
     "output_type": "stream",
     "name": "stdout",
     "text": [
      "\u001b[33mTESTING STARTED\u001b[0m\n",
      "\u001b[37m@sample 5 -> Pass@3 = 0.4\u001b[0m\n",
      "\u001b[37m@sample 10 -> Pass@3 = 0.2\u001b[0m\n",
      "\u001b[37m@sample 15 -> Pass@3 = 0.2857142857142857\u001b[0m\n",
      "\u001b[37m@sample 20 -> Pass@3 = 0.2631578947368421\u001b[0m\n",
      "\u001b[37m@sample 25 -> Pass@3 = 0.3333333333333333\u001b[0m\n",
      "\u001b[37m@sample 30 -> Pass@3 = 0.3793103448275862\u001b[0m\n",
      "\u001b[37m@sample 35 -> Pass@3 = 0.35294117647058826\u001b[0m\n",
      "\u001b[37m@sample 40 -> Pass@3 = 0.38461538461538464\u001b[0m\n",
      "\u001b[37m@sample 45 -> Pass@3 = 0.38636363636363635\u001b[0m\n",
      "\u001b[37m@sample 50 -> Pass@3 = 0.3469387755102041\u001b[0m\n",
      "\u001b[32m\n",
      "\n",
      "Pass@3 = 0.3469387755102041\u001b[0m\n",
      "\n"
     ]
    },
    {
     "output_type": "display_data",
     "data": {
      "text/html": [
       "Waiting for W&B process to finish... <strong style=\"color:green\">(success).</strong>"
      ],
      "text/plain": [
       "<IPython.core.display.HTML object>"
      ]
     },
     "metadata": {}
    },
    {
     "output_type": "display_data",
     "data": {
      "application/vnd.jupyter.widget-view+json": {
       "version_major": 2,
       "version_minor": 0,
       "model_id": "4cb1f7923565490e805a3bb953f09a76"
      },
      "text/plain": [
       "VBox(children=(Label(value='0.001 MB of 0.001 MB uploaded (0.000 MB deduped)\\r'), FloatProgress(value=1.0, max…"
      ]
     },
     "metadata": {}
    },
    {
     "output_type": "display_data",
     "data": {
      "text/html": [
       "<style>\n",
       "    table.wandb td:nth-child(1) { padding: 0 10px; text-align: right }\n",
       "    .wandb-row { display: flex; flex-direction: row; flex-wrap: wrap; width: 100% }\n",
       "    .wandb-col { display: flex; flex-direction: column; flex-basis: 100%; flex: 1; padding: 10px; }\n",
       "    </style>\n",
       "<div class=\"wandb-row\"><div class=\"wandb-col\"><h3>Run history:</h3><br/><table class=\"wandb\"><tr><td>pass_at_k</td><td>▁</td></tr></table><br/></div><div class=\"wandb-col\"><h3>Run summary:</h3><br/><table class=\"wandb\"><tr><td>pass_at_k</td><td>0.34694</td></tr></table><br/></div></div>"
      ],
      "text/plain": [
       "<IPython.core.display.HTML object>"
      ]
     },
     "metadata": {}
    },
    {
     "output_type": "display_data",
     "data": {
      "text/html": [
       "Synced <strong style=\"color:#cdcd00\">elated-sweep-2</strong>: <a href=\"https://wandb.ai/antoniolopardo/PracticalWork/runs/yr0ec77b\" target=\"_blank\">https://wandb.ai/antoniolopardo/PracticalWork/runs/yr0ec77b</a><br/>Synced 5 W&B file(s), 0 media file(s), 0 artifact file(s) and 0 other file(s)"
      ],
      "text/plain": [
       "<IPython.core.display.HTML object>"
      ]
     },
     "metadata": {}
    },
    {
     "output_type": "display_data",
     "data": {
      "text/html": [
       "Find logs at: <code>./wandb/run-20220402_094454-yr0ec77b/logs</code>"
      ],
      "text/plain": [
       "<IPython.core.display.HTML object>"
      ]
     },
     "metadata": {}
    },
    {
     "output_type": "stream",
     "name": "stderr",
     "text": [
      "\u001b[34m\u001b[1mwandb\u001b[0m: Sweep Agent: Waiting for job.\n",
      "\u001b[34m\u001b[1mwandb\u001b[0m: Job received.\n",
      "\u001b[34m\u001b[1mwandb\u001b[0m: Agent Starting Run: cucf6jr4 with config:\n",
      "\u001b[34m\u001b[1mwandb\u001b[0m: \tdo_sample: True\n",
      "\u001b[34m\u001b[1mwandb\u001b[0m: \tk: 3\n",
      "\u001b[34m\u001b[1mwandb\u001b[0m: \tmax_length_after_input: 200\n",
      "\u001b[34m\u001b[1mwandb\u001b[0m: \tmin_length: 1\n",
      "\u001b[34m\u001b[1mwandb\u001b[0m: \tnum_return_sequences: 4\n",
      "\u001b[34m\u001b[1mwandb\u001b[0m: \ttemperature: 0.9\n",
      "\u001b[34m\u001b[1mwandb\u001b[0m: \ttop_k: 50\n",
      "\u001b[34m\u001b[1mwandb\u001b[0m: \ttop_p: 0.9\n",
      "Failed to detect the name of this notebook, you can set it manually with the WANDB_NOTEBOOK_NAME environment variable to enable code saving.\n"
     ]
    },
    {
     "output_type": "display_data",
     "data": {
      "text/html": [
       "Tracking run with wandb version 0.12.11"
      ],
      "text/plain": [
       "<IPython.core.display.HTML object>"
      ]
     },
     "metadata": {}
    },
    {
     "output_type": "display_data",
     "data": {
      "text/html": [
       "Run data is saved locally in <code>/home/PracticalWork2021/wandb/run-20220402_095049-cucf6jr4</code>"
      ],
      "text/plain": [
       "<IPython.core.display.HTML object>"
      ]
     },
     "metadata": {}
    },
    {
     "output_type": "display_data",
     "data": {
      "text/html": [
       "Syncing run <strong><a href=\"https://wandb.ai/antoniolopardo/PracticalWork/runs/cucf6jr4\" target=\"_blank\">volcanic-sweep-3</a></strong> to <a href=\"https://wandb.ai/antoniolopardo/PracticalWork\" target=\"_blank\">Weights & Biases</a> (<a href=\"https://wandb.me/run\" target=\"_blank\">docs</a>)<br/>Sweep page:  <a href=\"https://wandb.ai/antoniolopardo/PracticalWork/sweeps/aq1jys2a\" target=\"_blank\">https://wandb.ai/antoniolopardo/PracticalWork/sweeps/aq1jys2a</a>"
      ],
      "text/plain": [
       "<IPython.core.display.HTML object>"
      ]
     },
     "metadata": {}
    },
    {
     "output_type": "stream",
     "name": "stdout",
     "text": [
      "\u001b[33mTESTING STARTED\u001b[0m\n",
      "\u001b[37m@sample 5 -> Pass@3 = 0.35\u001b[0m\n",
      "\u001b[37m@sample 10 -> Pass@3 = 0.375\u001b[0m\n",
      "\u001b[37m@sample 15 -> Pass@3 = 0.4642857142857143\u001b[0m\n",
      "\u001b[37m@sample 20 -> Pass@3 = 0.3815789473684211\u001b[0m\n",
      "\u001b[37m@sample 25 -> Pass@3 = 0.4583333333333333\u001b[0m\n",
      "\u001b[37m@sample 30 -> Pass@3 = 0.4482758620689655\u001b[0m\n",
      "\u001b[37m@sample 35 -> Pass@3 = 0.4338235294117647\u001b[0m\n",
      "\u001b[37m@sample 40 -> Pass@3 = 0.4551282051282051\u001b[0m\n",
      "\u001b[37m@sample 45 -> Pass@3 = 0.4602272727272727\u001b[0m\n",
      "\u001b[37m@sample 50 -> Pass@3 = 0.42857142857142855\u001b[0m\n",
      "\u001b[32m\n",
      "\n",
      "Pass@3 = 0.42857142857142855\u001b[0m\n",
      "\n"
     ]
    },
    {
     "output_type": "display_data",
     "data": {
      "text/html": [
       "Waiting for W&B process to finish... <strong style=\"color:green\">(success).</strong>"
      ],
      "text/plain": [
       "<IPython.core.display.HTML object>"
      ]
     },
     "metadata": {}
    },
    {
     "output_type": "display_data",
     "data": {
      "application/vnd.jupyter.widget-view+json": {
       "version_major": 2,
       "version_minor": 0,
       "model_id": "98229c5149344f7e966876cb7ba6161c"
      },
      "text/plain": [
       "VBox(children=(Label(value='0.001 MB of 0.001 MB uploaded (0.000 MB deduped)\\r'), FloatProgress(value=1.0, max…"
      ]
     },
     "metadata": {}
    },
    {
     "output_type": "display_data",
     "data": {
      "text/html": [
       "<style>\n",
       "    table.wandb td:nth-child(1) { padding: 0 10px; text-align: right }\n",
       "    .wandb-row { display: flex; flex-direction: row; flex-wrap: wrap; width: 100% }\n",
       "    .wandb-col { display: flex; flex-direction: column; flex-basis: 100%; flex: 1; padding: 10px; }\n",
       "    </style>\n",
       "<div class=\"wandb-row\"><div class=\"wandb-col\"><h3>Run history:</h3><br/><table class=\"wandb\"><tr><td>pass_at_k</td><td>▁</td></tr></table><br/></div><div class=\"wandb-col\"><h3>Run summary:</h3><br/><table class=\"wandb\"><tr><td>pass_at_k</td><td>0.42857</td></tr></table><br/></div></div>"
      ],
      "text/plain": [
       "<IPython.core.display.HTML object>"
      ]
     },
     "metadata": {}
    },
    {
     "output_type": "display_data",
     "data": {
      "text/html": [
       "Synced <strong style=\"color:#cdcd00\">volcanic-sweep-3</strong>: <a href=\"https://wandb.ai/antoniolopardo/PracticalWork/runs/cucf6jr4\" target=\"_blank\">https://wandb.ai/antoniolopardo/PracticalWork/runs/cucf6jr4</a><br/>Synced 5 W&B file(s), 0 media file(s), 0 artifact file(s) and 0 other file(s)"
      ],
      "text/plain": [
       "<IPython.core.display.HTML object>"
      ]
     },
     "metadata": {}
    },
    {
     "output_type": "display_data",
     "data": {
      "text/html": [
       "Find logs at: <code>./wandb/run-20220402_095049-cucf6jr4/logs</code>"
      ],
      "text/plain": [
       "<IPython.core.display.HTML object>"
      ]
     },
     "metadata": {}
    },
    {
     "output_type": "stream",
     "name": "stderr",
     "text": [
      "\u001b[34m\u001b[1mwandb\u001b[0m: Agent Starting Run: 2mmj0u6e with config:\n",
      "\u001b[34m\u001b[1mwandb\u001b[0m: \tdo_sample: True\n",
      "\u001b[34m\u001b[1mwandb\u001b[0m: \tk: 3\n",
      "\u001b[34m\u001b[1mwandb\u001b[0m: \tmax_length_after_input: 100\n",
      "\u001b[34m\u001b[1mwandb\u001b[0m: \tmin_length: 1\n",
      "\u001b[34m\u001b[1mwandb\u001b[0m: \tnum_return_sequences: 4\n",
      "\u001b[34m\u001b[1mwandb\u001b[0m: \ttemperature: 0.5\n",
      "\u001b[34m\u001b[1mwandb\u001b[0m: \ttop_k: 10\n",
      "\u001b[34m\u001b[1mwandb\u001b[0m: \ttop_p: 0.9\n",
      "Failed to detect the name of this notebook, you can set it manually with the WANDB_NOTEBOOK_NAME environment variable to enable code saving.\n"
     ]
    },
    {
     "output_type": "display_data",
     "data": {
      "text/html": [
       "Tracking run with wandb version 0.12.11"
      ],
      "text/plain": [
       "<IPython.core.display.HTML object>"
      ]
     },
     "metadata": {}
    },
    {
     "output_type": "display_data",
     "data": {
      "text/html": [
       "Run data is saved locally in <code>/home/PracticalWork2021/wandb/run-20220402_095903-2mmj0u6e</code>"
      ],
      "text/plain": [
       "<IPython.core.display.HTML object>"
      ]
     },
     "metadata": {}
    },
    {
     "output_type": "display_data",
     "data": {
      "text/html": [
       "Syncing run <strong><a href=\"https://wandb.ai/antoniolopardo/PracticalWork/runs/2mmj0u6e\" target=\"_blank\">genial-sweep-4</a></strong> to <a href=\"https://wandb.ai/antoniolopardo/PracticalWork\" target=\"_blank\">Weights & Biases</a> (<a href=\"https://wandb.me/run\" target=\"_blank\">docs</a>)<br/>Sweep page:  <a href=\"https://wandb.ai/antoniolopardo/PracticalWork/sweeps/aq1jys2a\" target=\"_blank\">https://wandb.ai/antoniolopardo/PracticalWork/sweeps/aq1jys2a</a>"
      ],
      "text/plain": [
       "<IPython.core.display.HTML object>"
      ]
     },
     "metadata": {}
    },
    {
     "output_type": "stream",
     "name": "stdout",
     "text": [
      "\u001b[33mTESTING STARTED\u001b[0m\n",
      "\u001b[37m@sample 5 -> Pass@3 = 0.4\u001b[0m\n",
      "\u001b[37m@sample 10 -> Pass@3 = 0.35\u001b[0m\n",
      "\u001b[37m@sample 15 -> Pass@3 = 0.39285714285714285\u001b[0m\n",
      "\u001b[37m@sample 20 -> Pass@3 = 0.34210526315789475\u001b[0m\n",
      "\u001b[37m@sample 25 -> Pass@3 = 0.3854166666666667\u001b[0m\n",
      "\u001b[37m@sample 30 -> Pass@3 = 0.3879310344827586\u001b[0m\n",
      "\u001b[37m@sample 35 -> Pass@3 = 0.3602941176470588\u001b[0m\n",
      "\u001b[37m@sample 40 -> Pass@3 = 0.391025641025641\u001b[0m\n",
      "\u001b[37m@sample 45 -> Pass@3 = 0.39204545454545453\u001b[0m\n",
      "\u001b[37m@sample 50 -> Pass@3 = 0.3877551020408163\u001b[0m\n",
      "\u001b[32m\n",
      "\n",
      "Pass@3 = 0.3877551020408163\u001b[0m\n",
      "\n"
     ]
    },
    {
     "output_type": "display_data",
     "data": {
      "text/html": [
       "Waiting for W&B process to finish... <strong style=\"color:green\">(success).</strong>"
      ],
      "text/plain": [
       "<IPython.core.display.HTML object>"
      ]
     },
     "metadata": {}
    },
    {
     "output_type": "display_data",
     "data": {
      "application/vnd.jupyter.widget-view+json": {
       "version_major": 2,
       "version_minor": 0,
       "model_id": "92a9abee3b5c491991e5c4123814fe3c"
      },
      "text/plain": [
       "VBox(children=(Label(value='0.001 MB of 0.001 MB uploaded (0.000 MB deduped)\\r'), FloatProgress(value=1.0, max…"
      ]
     },
     "metadata": {}
    },
    {
     "output_type": "display_data",
     "data": {
      "text/html": [
       "<style>\n",
       "    table.wandb td:nth-child(1) { padding: 0 10px; text-align: right }\n",
       "    .wandb-row { display: flex; flex-direction: row; flex-wrap: wrap; width: 100% }\n",
       "    .wandb-col { display: flex; flex-direction: column; flex-basis: 100%; flex: 1; padding: 10px; }\n",
       "    </style>\n",
       "<div class=\"wandb-row\"><div class=\"wandb-col\"><h3>Run history:</h3><br/><table class=\"wandb\"><tr><td>pass_at_k</td><td>▁</td></tr></table><br/></div><div class=\"wandb-col\"><h3>Run summary:</h3><br/><table class=\"wandb\"><tr><td>pass_at_k</td><td>0.38776</td></tr></table><br/></div></div>"
      ],
      "text/plain": [
       "<IPython.core.display.HTML object>"
      ]
     },
     "metadata": {}
    },
    {
     "output_type": "display_data",
     "data": {
      "text/html": [
       "Synced <strong style=\"color:#cdcd00\">genial-sweep-4</strong>: <a href=\"https://wandb.ai/antoniolopardo/PracticalWork/runs/2mmj0u6e\" target=\"_blank\">https://wandb.ai/antoniolopardo/PracticalWork/runs/2mmj0u6e</a><br/>Synced 5 W&B file(s), 0 media file(s), 0 artifact file(s) and 0 other file(s)"
      ],
      "text/plain": [
       "<IPython.core.display.HTML object>"
      ]
     },
     "metadata": {}
    },
    {
     "output_type": "display_data",
     "data": {
      "text/html": [
       "Find logs at: <code>./wandb/run-20220402_095903-2mmj0u6e/logs</code>"
      ],
      "text/plain": [
       "<IPython.core.display.HTML object>"
      ]
     },
     "metadata": {}
    },
    {
     "output_type": "stream",
     "name": "stderr",
     "text": [
      "\u001b[34m\u001b[1mwandb\u001b[0m: Sweep Agent: Waiting for job.\n",
      "\u001b[34m\u001b[1mwandb\u001b[0m: Job received.\n",
      "\u001b[34m\u001b[1mwandb\u001b[0m: Agent Starting Run: 7e2wacyx with config:\n",
      "\u001b[34m\u001b[1mwandb\u001b[0m: \tdo_sample: True\n",
      "\u001b[34m\u001b[1mwandb\u001b[0m: \tk: 3\n",
      "\u001b[34m\u001b[1mwandb\u001b[0m: \tmax_length_after_input: 250\n",
      "\u001b[34m\u001b[1mwandb\u001b[0m: \tmin_length: 1\n",
      "\u001b[34m\u001b[1mwandb\u001b[0m: \tnum_return_sequences: 4\n",
      "\u001b[34m\u001b[1mwandb\u001b[0m: \ttemperature: 0.5\n",
      "\u001b[34m\u001b[1mwandb\u001b[0m: \ttop_k: 50\n",
      "\u001b[34m\u001b[1mwandb\u001b[0m: \ttop_p: 0.2\n",
      "Failed to detect the name of this notebook, you can set it manually with the WANDB_NOTEBOOK_NAME environment variable to enable code saving.\n"
     ]
    },
    {
     "output_type": "display_data",
     "data": {
      "text/html": [
       "Tracking run with wandb version 0.12.11"
      ],
      "text/plain": [
       "<IPython.core.display.HTML object>"
      ]
     },
     "metadata": {}
    },
    {
     "output_type": "display_data",
     "data": {
      "text/html": [
       "Run data is saved locally in <code>/home/PracticalWork2021/wandb/run-20220402_100614-7e2wacyx</code>"
      ],
      "text/plain": [
       "<IPython.core.display.HTML object>"
      ]
     },
     "metadata": {}
    },
    {
     "output_type": "display_data",
     "data": {
      "text/html": [
       "Syncing run <strong><a href=\"https://wandb.ai/antoniolopardo/PracticalWork/runs/7e2wacyx\" target=\"_blank\">helpful-sweep-5</a></strong> to <a href=\"https://wandb.ai/antoniolopardo/PracticalWork\" target=\"_blank\">Weights & Biases</a> (<a href=\"https://wandb.me/run\" target=\"_blank\">docs</a>)<br/>Sweep page:  <a href=\"https://wandb.ai/antoniolopardo/PracticalWork/sweeps/aq1jys2a\" target=\"_blank\">https://wandb.ai/antoniolopardo/PracticalWork/sweeps/aq1jys2a</a>"
      ],
      "text/plain": [
       "<IPython.core.display.HTML object>"
      ]
     },
     "metadata": {}
    },
    {
     "output_type": "stream",
     "name": "stdout",
     "text": [
      "\u001b[33mTESTING STARTED\u001b[0m\n",
      "\u001b[37m@sample 5 -> Pass@3 = 0.4\u001b[0m\n",
      "\u001b[37m@sample 10 -> Pass@3 = 0.2\u001b[0m\n",
      "\u001b[37m@sample 15 -> Pass@3 = 0.2857142857142857\u001b[0m\n",
      "\u001b[37m@sample 20 -> Pass@3 = 0.2631578947368421\u001b[0m\n",
      "\u001b[37m@sample 25 -> Pass@3 = 0.3333333333333333\u001b[0m\n",
      "\u001b[37m@sample 30 -> Pass@3 = 0.3793103448275862\u001b[0m\n",
      "\u001b[37m@sample 35 -> Pass@3 = 0.35294117647058826\u001b[0m\n",
      "\u001b[37m@sample 40 -> Pass@3 = 0.38461538461538464\u001b[0m\n",
      "\u001b[37m@sample 45 -> Pass@3 = 0.38636363636363635\u001b[0m\n",
      "\u001b[37m@sample 50 -> Pass@3 = 0.3469387755102041\u001b[0m\n",
      "\u001b[32m\n",
      "\n",
      "Pass@3 = 0.3469387755102041\u001b[0m\n",
      "\n"
     ]
    },
    {
     "output_type": "display_data",
     "data": {
      "text/html": [
       "Waiting for W&B process to finish... <strong style=\"color:green\">(success).</strong>"
      ],
      "text/plain": [
       "<IPython.core.display.HTML object>"
      ]
     },
     "metadata": {}
    },
    {
     "output_type": "display_data",
     "data": {
      "application/vnd.jupyter.widget-view+json": {
       "version_major": 2,
       "version_minor": 0,
       "model_id": "b2b3d5b1b686442ca03fa2bb11569401"
      },
      "text/plain": [
       "VBox(children=(Label(value='0.001 MB of 0.001 MB uploaded (0.000 MB deduped)\\r'), FloatProgress(value=1.0, max…"
      ]
     },
     "metadata": {}
    },
    {
     "output_type": "display_data",
     "data": {
      "text/html": [
       "<style>\n",
       "    table.wandb td:nth-child(1) { padding: 0 10px; text-align: right }\n",
       "    .wandb-row { display: flex; flex-direction: row; flex-wrap: wrap; width: 100% }\n",
       "    .wandb-col { display: flex; flex-direction: column; flex-basis: 100%; flex: 1; padding: 10px; }\n",
       "    </style>\n",
       "<div class=\"wandb-row\"><div class=\"wandb-col\"><h3>Run history:</h3><br/><table class=\"wandb\"><tr><td>pass_at_k</td><td>▁</td></tr></table><br/></div><div class=\"wandb-col\"><h3>Run summary:</h3><br/><table class=\"wandb\"><tr><td>pass_at_k</td><td>0.34694</td></tr></table><br/></div></div>"
      ],
      "text/plain": [
       "<IPython.core.display.HTML object>"
      ]
     },
     "metadata": {}
    },
    {
     "output_type": "display_data",
     "data": {
      "text/html": [
       "Synced <strong style=\"color:#cdcd00\">helpful-sweep-5</strong>: <a href=\"https://wandb.ai/antoniolopardo/PracticalWork/runs/7e2wacyx\" target=\"_blank\">https://wandb.ai/antoniolopardo/PracticalWork/runs/7e2wacyx</a><br/>Synced 5 W&B file(s), 0 media file(s), 0 artifact file(s) and 0 other file(s)"
      ],
      "text/plain": [
       "<IPython.core.display.HTML object>"
      ]
     },
     "metadata": {}
    },
    {
     "output_type": "display_data",
     "data": {
      "text/html": [
       "Find logs at: <code>./wandb/run-20220402_100614-7e2wacyx/logs</code>"
      ],
      "text/plain": [
       "<IPython.core.display.HTML object>"
      ]
     },
     "metadata": {}
    },
    {
     "output_type": "stream",
     "name": "stderr",
     "text": [
      "\u001b[34m\u001b[1mwandb\u001b[0m: Agent Starting Run: nfw4elqg with config:\n",
      "\u001b[34m\u001b[1mwandb\u001b[0m: \tdo_sample: True\n",
      "\u001b[34m\u001b[1mwandb\u001b[0m: \tk: 3\n",
      "\u001b[34m\u001b[1mwandb\u001b[0m: \tmax_length_after_input: 200\n",
      "\u001b[34m\u001b[1mwandb\u001b[0m: \tmin_length: 1\n",
      "\u001b[34m\u001b[1mwandb\u001b[0m: \tnum_return_sequences: 4\n",
      "\u001b[34m\u001b[1mwandb\u001b[0m: \ttemperature: 0.9\n",
      "\u001b[34m\u001b[1mwandb\u001b[0m: \ttop_k: 10\n",
      "\u001b[34m\u001b[1mwandb\u001b[0m: \ttop_p: 0.2\n",
      "Failed to detect the name of this notebook, you can set it manually with the WANDB_NOTEBOOK_NAME environment variable to enable code saving.\n"
     ]
    },
    {
     "output_type": "display_data",
     "data": {
      "text/html": [
       "Tracking run with wandb version 0.12.11"
      ],
      "text/plain": [
       "<IPython.core.display.HTML object>"
      ]
     },
     "metadata": {}
    },
    {
     "output_type": "display_data",
     "data": {
      "text/html": [
       "Run data is saved locally in <code>/home/PracticalWork2021/wandb/run-20220402_101159-nfw4elqg</code>"
      ],
      "text/plain": [
       "<IPython.core.display.HTML object>"
      ]
     },
     "metadata": {}
    },
    {
     "output_type": "display_data",
     "data": {
      "text/html": [
       "Syncing run <strong><a href=\"https://wandb.ai/antoniolopardo/PracticalWork/runs/nfw4elqg\" target=\"_blank\">toasty-sweep-6</a></strong> to <a href=\"https://wandb.ai/antoniolopardo/PracticalWork\" target=\"_blank\">Weights & Biases</a> (<a href=\"https://wandb.me/run\" target=\"_blank\">docs</a>)<br/>Sweep page:  <a href=\"https://wandb.ai/antoniolopardo/PracticalWork/sweeps/aq1jys2a\" target=\"_blank\">https://wandb.ai/antoniolopardo/PracticalWork/sweeps/aq1jys2a</a>"
      ],
      "text/plain": [
       "<IPython.core.display.HTML object>"
      ]
     },
     "metadata": {}
    },
    {
     "output_type": "stream",
     "name": "stdout",
     "text": [
      "\u001b[33mTESTING STARTED\u001b[0m\n",
      "\u001b[37m@sample 5 -> Pass@3 = 0.4\u001b[0m\n",
      "\u001b[37m@sample 10 -> Pass@3 = 0.2\u001b[0m\n",
      "\u001b[37m@sample 15 -> Pass@3 = 0.2857142857142857\u001b[0m\n",
      "\u001b[37m@sample 20 -> Pass@3 = 0.2631578947368421\u001b[0m\n",
      "\u001b[37m@sample 25 -> Pass@3 = 0.3333333333333333\u001b[0m\n",
      "\u001b[37m@sample 30 -> Pass@3 = 0.3793103448275862\u001b[0m\n",
      "\u001b[37m@sample 35 -> Pass@3 = 0.38235294117647056\u001b[0m\n",
      "\u001b[37m@sample 40 -> Pass@3 = 0.41025641025641024\u001b[0m\n",
      "\u001b[37m@sample 45 -> Pass@3 = 0.4090909090909091\u001b[0m\n",
      "\u001b[37m@sample 50 -> Pass@3 = 0.3673469387755102\u001b[0m\n",
      "\u001b[32m\n",
      "\n",
      "Pass@3 = 0.3673469387755102\u001b[0m\n",
      "\n"
     ]
    },
    {
     "output_type": "display_data",
     "data": {
      "text/html": [
       "Waiting for W&B process to finish... <strong style=\"color:green\">(success).</strong>"
      ],
      "text/plain": [
       "<IPython.core.display.HTML object>"
      ]
     },
     "metadata": {}
    },
    {
     "output_type": "display_data",
     "data": {
      "application/vnd.jupyter.widget-view+json": {
       "version_major": 2,
       "version_minor": 0,
       "model_id": "6dd1d2ac518b48d6b07082d62dae9488"
      },
      "text/plain": [
       "VBox(children=(Label(value='0.001 MB of 0.001 MB uploaded (0.000 MB deduped)\\r'), FloatProgress(value=1.0, max…"
      ]
     },
     "metadata": {}
    },
    {
     "output_type": "display_data",
     "data": {
      "text/html": [
       "<style>\n",
       "    table.wandb td:nth-child(1) { padding: 0 10px; text-align: right }\n",
       "    .wandb-row { display: flex; flex-direction: row; flex-wrap: wrap; width: 100% }\n",
       "    .wandb-col { display: flex; flex-direction: column; flex-basis: 100%; flex: 1; padding: 10px; }\n",
       "    </style>\n",
       "<div class=\"wandb-row\"><div class=\"wandb-col\"><h3>Run history:</h3><br/><table class=\"wandb\"><tr><td>pass_at_k</td><td>▁</td></tr></table><br/></div><div class=\"wandb-col\"><h3>Run summary:</h3><br/><table class=\"wandb\"><tr><td>pass_at_k</td><td>0.36735</td></tr></table><br/></div></div>"
      ],
      "text/plain": [
       "<IPython.core.display.HTML object>"
      ]
     },
     "metadata": {}
    },
    {
     "output_type": "display_data",
     "data": {
      "text/html": [
       "Synced <strong style=\"color:#cdcd00\">toasty-sweep-6</strong>: <a href=\"https://wandb.ai/antoniolopardo/PracticalWork/runs/nfw4elqg\" target=\"_blank\">https://wandb.ai/antoniolopardo/PracticalWork/runs/nfw4elqg</a><br/>Synced 5 W&B file(s), 0 media file(s), 0 artifact file(s) and 0 other file(s)"
      ],
      "text/plain": [
       "<IPython.core.display.HTML object>"
      ]
     },
     "metadata": {}
    },
    {
     "output_type": "display_data",
     "data": {
      "text/html": [
       "Find logs at: <code>./wandb/run-20220402_101159-nfw4elqg/logs</code>"
      ],
      "text/plain": [
       "<IPython.core.display.HTML object>"
      ]
     },
     "metadata": {}
    },
    {
     "output_type": "stream",
     "name": "stderr",
     "text": [
      "\u001b[34m\u001b[1mwandb\u001b[0m: Agent Starting Run: 0r7hpvsm with config:\n",
      "\u001b[34m\u001b[1mwandb\u001b[0m: \tdo_sample: True\n",
      "\u001b[34m\u001b[1mwandb\u001b[0m: \tk: 3\n",
      "\u001b[34m\u001b[1mwandb\u001b[0m: \tmax_length_after_input: 100\n",
      "\u001b[34m\u001b[1mwandb\u001b[0m: \tmin_length: 1\n",
      "\u001b[34m\u001b[1mwandb\u001b[0m: \tnum_return_sequences: 4\n",
      "\u001b[34m\u001b[1mwandb\u001b[0m: \ttemperature: 0.2\n",
      "\u001b[34m\u001b[1mwandb\u001b[0m: \ttop_k: 100\n",
      "\u001b[34m\u001b[1mwandb\u001b[0m: \ttop_p: 0.2\n",
      "Failed to detect the name of this notebook, you can set it manually with the WANDB_NOTEBOOK_NAME environment variable to enable code saving.\n"
     ]
    },
    {
     "output_type": "display_data",
     "data": {
      "text/html": [
       "Tracking run with wandb version 0.12.11"
      ],
      "text/plain": [
       "<IPython.core.display.HTML object>"
      ]
     },
     "metadata": {}
    },
    {
     "output_type": "display_data",
     "data": {
      "text/html": [
       "Run data is saved locally in <code>/home/PracticalWork2021/wandb/run-20220402_101742-0r7hpvsm</code>"
      ],
      "text/plain": [
       "<IPython.core.display.HTML object>"
      ]
     },
     "metadata": {}
    },
    {
     "output_type": "display_data",
     "data": {
      "text/html": [
       "Syncing run <strong><a href=\"https://wandb.ai/antoniolopardo/PracticalWork/runs/0r7hpvsm\" target=\"_blank\">neat-sweep-7</a></strong> to <a href=\"https://wandb.ai/antoniolopardo/PracticalWork\" target=\"_blank\">Weights & Biases</a> (<a href=\"https://wandb.me/run\" target=\"_blank\">docs</a>)<br/>Sweep page:  <a href=\"https://wandb.ai/antoniolopardo/PracticalWork/sweeps/aq1jys2a\" target=\"_blank\">https://wandb.ai/antoniolopardo/PracticalWork/sweeps/aq1jys2a</a>"
      ],
      "text/plain": [
       "<IPython.core.display.HTML object>"
      ]
     },
     "metadata": {}
    },
    {
     "output_type": "stream",
     "name": "stdout",
     "text": [
      "\u001b[33mTESTING STARTED\u001b[0m\n",
      "\u001b[37m@sample 5 -> Pass@3 = 0.4\u001b[0m\n",
      "\u001b[37m@sample 10 -> Pass@3 = 0.2\u001b[0m\n",
      "\u001b[37m@sample 15 -> Pass@3 = 0.2857142857142857\u001b[0m\n",
      "\u001b[37m@sample 20 -> Pass@3 = 0.2631578947368421\u001b[0m\n",
      "\u001b[37m@sample 25 -> Pass@3 = 0.3333333333333333\u001b[0m\n",
      "\u001b[37m@sample 30 -> Pass@3 = 0.3793103448275862\u001b[0m\n",
      "\u001b[37m@sample 35 -> Pass@3 = 0.35294117647058826\u001b[0m\n",
      "\u001b[37m@sample 40 -> Pass@3 = 0.38461538461538464\u001b[0m\n",
      "\u001b[37m@sample 45 -> Pass@3 = 0.38636363636363635\u001b[0m\n",
      "\u001b[37m@sample 50 -> Pass@3 = 0.3469387755102041\u001b[0m\n",
      "\u001b[32m\n",
      "\n",
      "Pass@3 = 0.3469387755102041\u001b[0m\n",
      "\n"
     ]
    },
    {
     "output_type": "display_data",
     "data": {
      "text/html": [
       "Waiting for W&B process to finish... <strong style=\"color:green\">(success).</strong>"
      ],
      "text/plain": [
       "<IPython.core.display.HTML object>"
      ]
     },
     "metadata": {}
    },
    {
     "output_type": "display_data",
     "data": {
      "application/vnd.jupyter.widget-view+json": {
       "version_major": 2,
       "version_minor": 0,
       "model_id": "695ecee46ee041f7a6d706466787ddd3"
      },
      "text/plain": [
       "VBox(children=(Label(value='0.001 MB of 0.001 MB uploaded (0.000 MB deduped)\\r'), FloatProgress(value=1.0, max…"
      ]
     },
     "metadata": {}
    },
    {
     "output_type": "display_data",
     "data": {
      "text/html": [
       "<style>\n",
       "    table.wandb td:nth-child(1) { padding: 0 10px; text-align: right }\n",
       "    .wandb-row { display: flex; flex-direction: row; flex-wrap: wrap; width: 100% }\n",
       "    .wandb-col { display: flex; flex-direction: column; flex-basis: 100%; flex: 1; padding: 10px; }\n",
       "    </style>\n",
       "<div class=\"wandb-row\"><div class=\"wandb-col\"><h3>Run history:</h3><br/><table class=\"wandb\"><tr><td>pass_at_k</td><td>▁</td></tr></table><br/></div><div class=\"wandb-col\"><h3>Run summary:</h3><br/><table class=\"wandb\"><tr><td>pass_at_k</td><td>0.34694</td></tr></table><br/></div></div>"
      ],
      "text/plain": [
       "<IPython.core.display.HTML object>"
      ]
     },
     "metadata": {}
    },
    {
     "output_type": "display_data",
     "data": {
      "text/html": [
       "Synced <strong style=\"color:#cdcd00\">neat-sweep-7</strong>: <a href=\"https://wandb.ai/antoniolopardo/PracticalWork/runs/0r7hpvsm\" target=\"_blank\">https://wandb.ai/antoniolopardo/PracticalWork/runs/0r7hpvsm</a><br/>Synced 5 W&B file(s), 0 media file(s), 0 artifact file(s) and 0 other file(s)"
      ],
      "text/plain": [
       "<IPython.core.display.HTML object>"
      ]
     },
     "metadata": {}
    },
    {
     "output_type": "display_data",
     "data": {
      "text/html": [
       "Find logs at: <code>./wandb/run-20220402_101742-0r7hpvsm/logs</code>"
      ],
      "text/plain": [
       "<IPython.core.display.HTML object>"
      ]
     },
     "metadata": {}
    },
    {
     "output_type": "stream",
     "name": "stderr",
     "text": [
      "\u001b[34m\u001b[1mwandb\u001b[0m: Agent Starting Run: 94t83qo4 with config:\n",
      "\u001b[34m\u001b[1mwandb\u001b[0m: \tdo_sample: True\n",
      "\u001b[34m\u001b[1mwandb\u001b[0m: \tk: 3\n",
      "\u001b[34m\u001b[1mwandb\u001b[0m: \tmax_length_after_input: 200\n",
      "\u001b[34m\u001b[1mwandb\u001b[0m: \tmin_length: 1\n",
      "\u001b[34m\u001b[1mwandb\u001b[0m: \tnum_return_sequences: 4\n",
      "\u001b[34m\u001b[1mwandb\u001b[0m: \ttemperature: 0.1\n",
      "\u001b[34m\u001b[1mwandb\u001b[0m: \ttop_k: 100\n",
      "\u001b[34m\u001b[1mwandb\u001b[0m: \ttop_p: 0.9\n",
      "Failed to detect the name of this notebook, you can set it manually with the WANDB_NOTEBOOK_NAME environment variable to enable code saving.\n"
     ]
    },
    {
     "output_type": "display_data",
     "data": {
      "text/html": [
       "Tracking run with wandb version 0.12.11"
      ],
      "text/plain": [
       "<IPython.core.display.HTML object>"
      ]
     },
     "metadata": {}
    },
    {
     "output_type": "display_data",
     "data": {
      "text/html": [
       "Run data is saved locally in <code>/home/PracticalWork2021/wandb/run-20220402_102327-94t83qo4</code>"
      ],
      "text/plain": [
       "<IPython.core.display.HTML object>"
      ]
     },
     "metadata": {}
    },
    {
     "output_type": "display_data",
     "data": {
      "text/html": [
       "Syncing run <strong><a href=\"https://wandb.ai/antoniolopardo/PracticalWork/runs/94t83qo4\" target=\"_blank\">peach-sweep-8</a></strong> to <a href=\"https://wandb.ai/antoniolopardo/PracticalWork\" target=\"_blank\">Weights & Biases</a> (<a href=\"https://wandb.me/run\" target=\"_blank\">docs</a>)<br/>Sweep page:  <a href=\"https://wandb.ai/antoniolopardo/PracticalWork/sweeps/aq1jys2a\" target=\"_blank\">https://wandb.ai/antoniolopardo/PracticalWork/sweeps/aq1jys2a</a>"
      ],
      "text/plain": [
       "<IPython.core.display.HTML object>"
      ]
     },
     "metadata": {}
    },
    {
     "output_type": "stream",
     "name": "stdout",
     "text": [
      "\u001b[33mTESTING STARTED\u001b[0m\n",
      "\u001b[37m@sample 5 -> Pass@3 = 0.4\u001b[0m\n",
      "\u001b[37m@sample 10 -> Pass@3 = 0.2\u001b[0m\n",
      "\u001b[37m@sample 15 -> Pass@3 = 0.2857142857142857\u001b[0m\n",
      "\u001b[37m@sample 20 -> Pass@3 = 0.3157894736842105\u001b[0m\n",
      "\u001b[37m@sample 25 -> Pass@3 = 0.375\u001b[0m\n",
      "\u001b[37m@sample 30 -> Pass@3 = 0.41379310344827586\u001b[0m\n",
      "\u001b[37m@sample 35 -> Pass@3 = 0.4117647058823529\u001b[0m\n",
      "\u001b[37m@sample 40 -> Pass@3 = 0.4358974358974359\u001b[0m\n",
      "\u001b[37m@sample 45 -> Pass@3 = 0.4318181818181818\u001b[0m\n",
      "\u001b[37m@sample 50 -> Pass@3 = 0.3877551020408163\u001b[0m\n",
      "\u001b[32m\n",
      "\n",
      "Pass@3 = 0.3877551020408163\u001b[0m\n",
      "\n"
     ]
    },
    {
     "output_type": "display_data",
     "data": {
      "text/html": [
       "Waiting for W&B process to finish... <strong style=\"color:green\">(success).</strong>"
      ],
      "text/plain": [
       "<IPython.core.display.HTML object>"
      ]
     },
     "metadata": {}
    },
    {
     "output_type": "display_data",
     "data": {
      "application/vnd.jupyter.widget-view+json": {
       "version_major": 2,
       "version_minor": 0,
       "model_id": "5a23b30645ac419e8b76aac136c3eb47"
      },
      "text/plain": [
       "VBox(children=(Label(value='0.001 MB of 0.001 MB uploaded (0.000 MB deduped)\\r'), FloatProgress(value=1.0, max…"
      ]
     },
     "metadata": {}
    },
    {
     "output_type": "display_data",
     "data": {
      "text/html": [
       "<style>\n",
       "    table.wandb td:nth-child(1) { padding: 0 10px; text-align: right }\n",
       "    .wandb-row { display: flex; flex-direction: row; flex-wrap: wrap; width: 100% }\n",
       "    .wandb-col { display: flex; flex-direction: column; flex-basis: 100%; flex: 1; padding: 10px; }\n",
       "    </style>\n",
       "<div class=\"wandb-row\"><div class=\"wandb-col\"><h3>Run history:</h3><br/><table class=\"wandb\"><tr><td>pass_at_k</td><td>▁</td></tr></table><br/></div><div class=\"wandb-col\"><h3>Run summary:</h3><br/><table class=\"wandb\"><tr><td>pass_at_k</td><td>0.38776</td></tr></table><br/></div></div>"
      ],
      "text/plain": [
       "<IPython.core.display.HTML object>"
      ]
     },
     "metadata": {}
    },
    {
     "output_type": "display_data",
     "data": {
      "text/html": [
       "Synced <strong style=\"color:#cdcd00\">peach-sweep-8</strong>: <a href=\"https://wandb.ai/antoniolopardo/PracticalWork/runs/94t83qo4\" target=\"_blank\">https://wandb.ai/antoniolopardo/PracticalWork/runs/94t83qo4</a><br/>Synced 5 W&B file(s), 0 media file(s), 0 artifact file(s) and 0 other file(s)"
      ],
      "text/plain": [
       "<IPython.core.display.HTML object>"
      ]
     },
     "metadata": {}
    },
    {
     "output_type": "display_data",
     "data": {
      "text/html": [
       "Find logs at: <code>./wandb/run-20220402_102327-94t83qo4/logs</code>"
      ],
      "text/plain": [
       "<IPython.core.display.HTML object>"
      ]
     },
     "metadata": {}
    },
    {
     "output_type": "stream",
     "name": "stderr",
     "text": [
      "\u001b[34m\u001b[1mwandb\u001b[0m: Agent Starting Run: vb7b7ijy with config:\n",
      "\u001b[34m\u001b[1mwandb\u001b[0m: \tdo_sample: True\n",
      "\u001b[34m\u001b[1mwandb\u001b[0m: \tk: 3\n",
      "\u001b[34m\u001b[1mwandb\u001b[0m: \tmax_length_after_input: 100\n",
      "\u001b[34m\u001b[1mwandb\u001b[0m: \tmin_length: 1\n",
      "\u001b[34m\u001b[1mwandb\u001b[0m: \tnum_return_sequences: 4\n",
      "\u001b[34m\u001b[1mwandb\u001b[0m: \ttemperature: 0.5\n",
      "\u001b[34m\u001b[1mwandb\u001b[0m: \ttop_k: 1\n",
      "\u001b[34m\u001b[1mwandb\u001b[0m: \ttop_p: 0.5\n",
      "Failed to detect the name of this notebook, you can set it manually with the WANDB_NOTEBOOK_NAME environment variable to enable code saving.\n"
     ]
    },
    {
     "output_type": "display_data",
     "data": {
      "text/html": [
       "Tracking run with wandb version 0.12.11"
      ],
      "text/plain": [
       "<IPython.core.display.HTML object>"
      ]
     },
     "metadata": {}
    },
    {
     "output_type": "display_data",
     "data": {
      "text/html": [
       "Run data is saved locally in <code>/home/PracticalWork2021/wandb/run-20220402_102954-vb7b7ijy</code>"
      ],
      "text/plain": [
       "<IPython.core.display.HTML object>"
      ]
     },
     "metadata": {}
    },
    {
     "output_type": "display_data",
     "data": {
      "text/html": [
       "Syncing run <strong><a href=\"https://wandb.ai/antoniolopardo/PracticalWork/runs/vb7b7ijy\" target=\"_blank\">jolly-sweep-9</a></strong> to <a href=\"https://wandb.ai/antoniolopardo/PracticalWork\" target=\"_blank\">Weights & Biases</a> (<a href=\"https://wandb.me/run\" target=\"_blank\">docs</a>)<br/>Sweep page:  <a href=\"https://wandb.ai/antoniolopardo/PracticalWork/sweeps/aq1jys2a\" target=\"_blank\">https://wandb.ai/antoniolopardo/PracticalWork/sweeps/aq1jys2a</a>"
      ],
      "text/plain": [
       "<IPython.core.display.HTML object>"
      ]
     },
     "metadata": {}
    },
    {
     "output_type": "stream",
     "name": "stdout",
     "text": [
      "\u001b[33mTESTING STARTED\u001b[0m\n",
      "\u001b[37m@sample 5 -> Pass@3 = 0.4\u001b[0m\n",
      "\u001b[37m@sample 10 -> Pass@3 = 0.2\u001b[0m\n",
      "\u001b[37m@sample 15 -> Pass@3 = 0.2857142857142857\u001b[0m\n",
      "\u001b[37m@sample 20 -> Pass@3 = 0.2631578947368421\u001b[0m\n",
      "\u001b[37m@sample 25 -> Pass@3 = 0.3333333333333333\u001b[0m\n",
      "\u001b[37m@sample 30 -> Pass@3 = 0.3793103448275862\u001b[0m\n",
      "\u001b[37m@sample 35 -> Pass@3 = 0.375\u001b[0m\n",
      "\u001b[37m@sample 40 -> Pass@3 = 0.3974358974358974\u001b[0m\n",
      "\u001b[37m@sample 45 -> Pass@3 = 0.3977272727272727\u001b[0m\n",
      "\u001b[37m@sample 50 -> Pass@3 = 0.35714285714285715\u001b[0m\n",
      "\u001b[32m\n",
      "\n",
      "Pass@3 = 0.35714285714285715\u001b[0m\n",
      "\n"
     ]
    },
    {
     "output_type": "display_data",
     "data": {
      "text/html": [
       "Waiting for W&B process to finish... <strong style=\"color:green\">(success).</strong>"
      ],
      "text/plain": [
       "<IPython.core.display.HTML object>"
      ]
     },
     "metadata": {}
    },
    {
     "output_type": "display_data",
     "data": {
      "application/vnd.jupyter.widget-view+json": {
       "version_major": 2,
       "version_minor": 0,
       "model_id": "5c9a3dbaeefd471e85fd8c60e451190e"
      },
      "text/plain": [
       "VBox(children=(Label(value='0.001 MB of 0.001 MB uploaded (0.000 MB deduped)\\r'), FloatProgress(value=1.0, max…"
      ]
     },
     "metadata": {}
    },
    {
     "output_type": "display_data",
     "data": {
      "text/html": [
       "<style>\n",
       "    table.wandb td:nth-child(1) { padding: 0 10px; text-align: right }\n",
       "    .wandb-row { display: flex; flex-direction: row; flex-wrap: wrap; width: 100% }\n",
       "    .wandb-col { display: flex; flex-direction: column; flex-basis: 100%; flex: 1; padding: 10px; }\n",
       "    </style>\n",
       "<div class=\"wandb-row\"><div class=\"wandb-col\"><h3>Run history:</h3><br/><table class=\"wandb\"><tr><td>pass_at_k</td><td>▁</td></tr></table><br/></div><div class=\"wandb-col\"><h3>Run summary:</h3><br/><table class=\"wandb\"><tr><td>pass_at_k</td><td>0.35714</td></tr></table><br/></div></div>"
      ],
      "text/plain": [
       "<IPython.core.display.HTML object>"
      ]
     },
     "metadata": {}
    },
    {
     "output_type": "display_data",
     "data": {
      "text/html": [
       "Synced <strong style=\"color:#cdcd00\">jolly-sweep-9</strong>: <a href=\"https://wandb.ai/antoniolopardo/PracticalWork/runs/vb7b7ijy\" target=\"_blank\">https://wandb.ai/antoniolopardo/PracticalWork/runs/vb7b7ijy</a><br/>Synced 5 W&B file(s), 0 media file(s), 0 artifact file(s) and 0 other file(s)"
      ],
      "text/plain": [
       "<IPython.core.display.HTML object>"
      ]
     },
     "metadata": {}
    },
    {
     "output_type": "display_data",
     "data": {
      "text/html": [
       "Find logs at: <code>./wandb/run-20220402_102954-vb7b7ijy/logs</code>"
      ],
      "text/plain": [
       "<IPython.core.display.HTML object>"
      ]
     },
     "metadata": {}
    },
    {
     "output_type": "stream",
     "name": "stderr",
     "text": [
      "\u001b[34m\u001b[1mwandb\u001b[0m: Agent Starting Run: ekze55r9 with config:\n",
      "\u001b[34m\u001b[1mwandb\u001b[0m: \tdo_sample: True\n",
      "\u001b[34m\u001b[1mwandb\u001b[0m: \tk: 3\n",
      "\u001b[34m\u001b[1mwandb\u001b[0m: \tmax_length_after_input: 250\n",
      "\u001b[34m\u001b[1mwandb\u001b[0m: \tmin_length: 1\n",
      "\u001b[34m\u001b[1mwandb\u001b[0m: \tnum_return_sequences: 4\n",
      "\u001b[34m\u001b[1mwandb\u001b[0m: \ttemperature: 0.1\n",
      "\u001b[34m\u001b[1mwandb\u001b[0m: \ttop_k: 1\n",
      "\u001b[34m\u001b[1mwandb\u001b[0m: \ttop_p: 0.9\n",
      "Failed to detect the name of this notebook, you can set it manually with the WANDB_NOTEBOOK_NAME environment variable to enable code saving.\n"
     ]
    },
    {
     "output_type": "display_data",
     "data": {
      "text/html": [
       "Tracking run with wandb version 0.12.11"
      ],
      "text/plain": [
       "<IPython.core.display.HTML object>"
      ]
     },
     "metadata": {}
    },
    {
     "output_type": "display_data",
     "data": {
      "text/html": [
       "Run data is saved locally in <code>/home/PracticalWork2021/wandb/run-20220402_103557-ekze55r9</code>"
      ],
      "text/plain": [
       "<IPython.core.display.HTML object>"
      ]
     },
     "metadata": {}
    },
    {
     "output_type": "display_data",
     "data": {
      "text/html": [
       "Syncing run <strong><a href=\"https://wandb.ai/antoniolopardo/PracticalWork/runs/ekze55r9\" target=\"_blank\">atomic-sweep-10</a></strong> to <a href=\"https://wandb.ai/antoniolopardo/PracticalWork\" target=\"_blank\">Weights & Biases</a> (<a href=\"https://wandb.me/run\" target=\"_blank\">docs</a>)<br/>Sweep page:  <a href=\"https://wandb.ai/antoniolopardo/PracticalWork/sweeps/aq1jys2a\" target=\"_blank\">https://wandb.ai/antoniolopardo/PracticalWork/sweeps/aq1jys2a</a>"
      ],
      "text/plain": [
       "<IPython.core.display.HTML object>"
      ]
     },
     "metadata": {}
    },
    {
     "output_type": "stream",
     "name": "stdout",
     "text": [
      "\u001b[33mTESTING STARTED\u001b[0m\n",
      "\u001b[37m@sample 5 -> Pass@3 = 0.4\u001b[0m\n",
      "\u001b[37m@sample 10 -> Pass@3 = 0.2\u001b[0m\n",
      "\u001b[37m@sample 15 -> Pass@3 = 0.2857142857142857\u001b[0m\n",
      "\u001b[37m@sample 20 -> Pass@3 = 0.2631578947368421\u001b[0m\n",
      "\u001b[37m@sample 25 -> Pass@3 = 0.3333333333333333\u001b[0m\n",
      "\u001b[37m@sample 30 -> Pass@3 = 0.3793103448275862\u001b[0m\n",
      "\u001b[37m@sample 35 -> Pass@3 = 0.38235294117647056\u001b[0m\n",
      "\u001b[37m@sample 40 -> Pass@3 = 0.41025641025641024\u001b[0m\n",
      "\u001b[37m@sample 45 -> Pass@3 = 0.4090909090909091\u001b[0m\n",
      "\u001b[37m@sample 50 -> Pass@3 = 0.3673469387755102\u001b[0m\n",
      "\u001b[32m\n",
      "\n",
      "Pass@3 = 0.3673469387755102\u001b[0m\n",
      "\n"
     ]
    },
    {
     "output_type": "display_data",
     "data": {
      "text/html": [
       "Waiting for W&B process to finish... <strong style=\"color:green\">(success).</strong>"
      ],
      "text/plain": [
       "<IPython.core.display.HTML object>"
      ]
     },
     "metadata": {}
    },
    {
     "output_type": "display_data",
     "data": {
      "application/vnd.jupyter.widget-view+json": {
       "version_major": 2,
       "version_minor": 0,
       "model_id": "7770afb3d7524c6d919d472fa32fda3e"
      },
      "text/plain": [
       "VBox(children=(Label(value='0.001 MB of 0.001 MB uploaded (0.000 MB deduped)\\r'), FloatProgress(value=1.0, max…"
      ]
     },
     "metadata": {}
    },
    {
     "output_type": "display_data",
     "data": {
      "text/html": [
       "<style>\n",
       "    table.wandb td:nth-child(1) { padding: 0 10px; text-align: right }\n",
       "    .wandb-row { display: flex; flex-direction: row; flex-wrap: wrap; width: 100% }\n",
       "    .wandb-col { display: flex; flex-direction: column; flex-basis: 100%; flex: 1; padding: 10px; }\n",
       "    </style>\n",
       "<div class=\"wandb-row\"><div class=\"wandb-col\"><h3>Run history:</h3><br/><table class=\"wandb\"><tr><td>pass_at_k</td><td>▁</td></tr></table><br/></div><div class=\"wandb-col\"><h3>Run summary:</h3><br/><table class=\"wandb\"><tr><td>pass_at_k</td><td>0.36735</td></tr></table><br/></div></div>"
      ],
      "text/plain": [
       "<IPython.core.display.HTML object>"
      ]
     },
     "metadata": {}
    },
    {
     "output_type": "display_data",
     "data": {
      "text/html": [
       "Synced <strong style=\"color:#cdcd00\">atomic-sweep-10</strong>: <a href=\"https://wandb.ai/antoniolopardo/PracticalWork/runs/ekze55r9\" target=\"_blank\">https://wandb.ai/antoniolopardo/PracticalWork/runs/ekze55r9</a><br/>Synced 5 W&B file(s), 0 media file(s), 0 artifact file(s) and 0 other file(s)"
      ],
      "text/plain": [
       "<IPython.core.display.HTML object>"
      ]
     },
     "metadata": {}
    },
    {
     "output_type": "display_data",
     "data": {
      "text/html": [
       "Find logs at: <code>./wandb/run-20220402_103557-ekze55r9/logs</code>"
      ],
      "text/plain": [
       "<IPython.core.display.HTML object>"
      ]
     },
     "metadata": {}
    },
    {
     "output_type": "stream",
     "name": "stderr",
     "text": [
      "\u001b[34m\u001b[1mwandb\u001b[0m: Agent Starting Run: 67rsk0x2 with config:\n",
      "\u001b[34m\u001b[1mwandb\u001b[0m: \tdo_sample: True\n",
      "\u001b[34m\u001b[1mwandb\u001b[0m: \tk: 3\n",
      "\u001b[34m\u001b[1mwandb\u001b[0m: \tmax_length_after_input: 200\n",
      "\u001b[34m\u001b[1mwandb\u001b[0m: \tmin_length: 1\n",
      "\u001b[34m\u001b[1mwandb\u001b[0m: \tnum_return_sequences: 4\n",
      "\u001b[34m\u001b[1mwandb\u001b[0m: \ttemperature: 0.9\n",
      "\u001b[34m\u001b[1mwandb\u001b[0m: \ttop_k: 1\n",
      "\u001b[34m\u001b[1mwandb\u001b[0m: \ttop_p: 0.5\n",
      "Failed to detect the name of this notebook, you can set it manually with the WANDB_NOTEBOOK_NAME environment variable to enable code saving.\n"
     ]
    },
    {
     "output_type": "display_data",
     "data": {
      "text/html": [
       "Tracking run with wandb version 0.12.11"
      ],
      "text/plain": [
       "<IPython.core.display.HTML object>"
      ]
     },
     "metadata": {}
    },
    {
     "output_type": "display_data",
     "data": {
      "text/html": [
       "Run data is saved locally in <code>/home/PracticalWork2021/wandb/run-20220402_104212-67rsk0x2</code>"
      ],
      "text/plain": [
       "<IPython.core.display.HTML object>"
      ]
     },
     "metadata": {}
    },
    {
     "output_type": "display_data",
     "data": {
      "text/html": [
       "Syncing run <strong><a href=\"https://wandb.ai/antoniolopardo/PracticalWork/runs/67rsk0x2\" target=\"_blank\">fast-sweep-11</a></strong> to <a href=\"https://wandb.ai/antoniolopardo/PracticalWork\" target=\"_blank\">Weights & Biases</a> (<a href=\"https://wandb.me/run\" target=\"_blank\">docs</a>)<br/>Sweep page:  <a href=\"https://wandb.ai/antoniolopardo/PracticalWork/sweeps/aq1jys2a\" target=\"_blank\">https://wandb.ai/antoniolopardo/PracticalWork/sweeps/aq1jys2a</a>"
      ],
      "text/plain": [
       "<IPython.core.display.HTML object>"
      ]
     },
     "metadata": {}
    },
    {
     "output_type": "stream",
     "name": "stdout",
     "text": [
      "\u001b[33mTESTING STARTED\u001b[0m\n",
      "\u001b[37m@sample 5 -> Pass@3 = 0.4\u001b[0m\n",
      "\u001b[37m@sample 10 -> Pass@3 = 0.2\u001b[0m\n",
      "\u001b[37m@sample 15 -> Pass@3 = 0.2857142857142857\u001b[0m\n",
      "\u001b[37m@sample 20 -> Pass@3 = 0.2631578947368421\u001b[0m\n",
      "\u001b[37m@sample 25 -> Pass@3 = 0.3333333333333333\u001b[0m\n",
      "\u001b[37m@sample 30 -> Pass@3 = 0.3793103448275862\u001b[0m\n",
      "\u001b[37m@sample 35 -> Pass@3 = 0.38235294117647056\u001b[0m\n",
      "\u001b[37m@sample 40 -> Pass@3 = 0.41025641025641024\u001b[0m\n",
      "\u001b[37m@sample 45 -> Pass@3 = 0.4090909090909091\u001b[0m\n",
      "\u001b[37m@sample 50 -> Pass@3 = 0.3673469387755102\u001b[0m\n",
      "\u001b[32m\n",
      "\n",
      "Pass@3 = 0.3673469387755102\u001b[0m\n",
      "\n"
     ]
    },
    {
     "output_type": "display_data",
     "data": {
      "text/html": [
       "Waiting for W&B process to finish... <strong style=\"color:green\">(success).</strong>"
      ],
      "text/plain": [
       "<IPython.core.display.HTML object>"
      ]
     },
     "metadata": {}
    },
    {
     "output_type": "display_data",
     "data": {
      "application/vnd.jupyter.widget-view+json": {
       "version_major": 2,
       "version_minor": 0,
       "model_id": "8ea90abecdec404f88ced07c567fc4fc"
      },
      "text/plain": [
       "VBox(children=(Label(value='0.001 MB of 0.001 MB uploaded (0.000 MB deduped)\\r'), FloatProgress(value=1.0, max…"
      ]
     },
     "metadata": {}
    },
    {
     "output_type": "display_data",
     "data": {
      "text/html": [
       "<style>\n",
       "    table.wandb td:nth-child(1) { padding: 0 10px; text-align: right }\n",
       "    .wandb-row { display: flex; flex-direction: row; flex-wrap: wrap; width: 100% }\n",
       "    .wandb-col { display: flex; flex-direction: column; flex-basis: 100%; flex: 1; padding: 10px; }\n",
       "    </style>\n",
       "<div class=\"wandb-row\"><div class=\"wandb-col\"><h3>Run history:</h3><br/><table class=\"wandb\"><tr><td>pass_at_k</td><td>▁</td></tr></table><br/></div><div class=\"wandb-col\"><h3>Run summary:</h3><br/><table class=\"wandb\"><tr><td>pass_at_k</td><td>0.36735</td></tr></table><br/></div></div>"
      ],
      "text/plain": [
       "<IPython.core.display.HTML object>"
      ]
     },
     "metadata": {}
    },
    {
     "output_type": "display_data",
     "data": {
      "text/html": [
       "Synced <strong style=\"color:#cdcd00\">fast-sweep-11</strong>: <a href=\"https://wandb.ai/antoniolopardo/PracticalWork/runs/67rsk0x2\" target=\"_blank\">https://wandb.ai/antoniolopardo/PracticalWork/runs/67rsk0x2</a><br/>Synced 5 W&B file(s), 0 media file(s), 0 artifact file(s) and 0 other file(s)"
      ],
      "text/plain": [
       "<IPython.core.display.HTML object>"
      ]
     },
     "metadata": {}
    },
    {
     "output_type": "display_data",
     "data": {
      "text/html": [
       "Find logs at: <code>./wandb/run-20220402_104212-67rsk0x2/logs</code>"
      ],
      "text/plain": [
       "<IPython.core.display.HTML object>"
      ]
     },
     "metadata": {}
    },
    {
     "output_type": "stream",
     "name": "stderr",
     "text": [
      "\u001b[34m\u001b[1mwandb\u001b[0m: Agent Starting Run: jcha2qtg with config:\n",
      "\u001b[34m\u001b[1mwandb\u001b[0m: \tdo_sample: True\n",
      "\u001b[34m\u001b[1mwandb\u001b[0m: \tk: 3\n",
      "\u001b[34m\u001b[1mwandb\u001b[0m: \tmax_length_after_input: 200\n",
      "\u001b[34m\u001b[1mwandb\u001b[0m: \tmin_length: 1\n",
      "\u001b[34m\u001b[1mwandb\u001b[0m: \tnum_return_sequences: 4\n",
      "\u001b[34m\u001b[1mwandb\u001b[0m: \ttemperature: 0.5\n",
      "\u001b[34m\u001b[1mwandb\u001b[0m: \ttop_k: 10\n",
      "\u001b[34m\u001b[1mwandb\u001b[0m: \ttop_p: 0.2\n",
      "Failed to detect the name of this notebook, you can set it manually with the WANDB_NOTEBOOK_NAME environment variable to enable code saving.\n"
     ]
    },
    {
     "output_type": "display_data",
     "data": {
      "text/html": [
       "Tracking run with wandb version 0.12.11"
      ],
      "text/plain": [
       "<IPython.core.display.HTML object>"
      ]
     },
     "metadata": {}
    },
    {
     "output_type": "display_data",
     "data": {
      "text/html": [
       "Run data is saved locally in <code>/home/PracticalWork2021/wandb/run-20220402_104827-jcha2qtg</code>"
      ],
      "text/plain": [
       "<IPython.core.display.HTML object>"
      ]
     },
     "metadata": {}
    },
    {
     "output_type": "display_data",
     "data": {
      "text/html": [
       "Syncing run <strong><a href=\"https://wandb.ai/antoniolopardo/PracticalWork/runs/jcha2qtg\" target=\"_blank\">firm-sweep-12</a></strong> to <a href=\"https://wandb.ai/antoniolopardo/PracticalWork\" target=\"_blank\">Weights & Biases</a> (<a href=\"https://wandb.me/run\" target=\"_blank\">docs</a>)<br/>Sweep page:  <a href=\"https://wandb.ai/antoniolopardo/PracticalWork/sweeps/aq1jys2a\" target=\"_blank\">https://wandb.ai/antoniolopardo/PracticalWork/sweeps/aq1jys2a</a>"
      ],
      "text/plain": [
       "<IPython.core.display.HTML object>"
      ]
     },
     "metadata": {}
    },
    {
     "output_type": "stream",
     "name": "stdout",
     "text": [
      "\u001b[33mTESTING STARTED\u001b[0m\n",
      "\u001b[37m@sample 5 -> Pass@3 = 0.4\u001b[0m\n",
      "\u001b[37m@sample 10 -> Pass@3 = 0.2\u001b[0m\n",
      "\u001b[37m@sample 15 -> Pass@3 = 0.2857142857142857\u001b[0m\n",
      "\u001b[37m@sample 20 -> Pass@3 = 0.2631578947368421\u001b[0m\n",
      "\u001b[37m@sample 25 -> Pass@3 = 0.3333333333333333\u001b[0m\n",
      "\u001b[37m@sample 30 -> Pass@3 = 0.3793103448275862\u001b[0m\n",
      "\u001b[37m@sample 35 -> Pass@3 = 0.35294117647058826\u001b[0m\n",
      "\u001b[37m@sample 40 -> Pass@3 = 0.38461538461538464\u001b[0m\n",
      "\u001b[37m@sample 45 -> Pass@3 = 0.38636363636363635\u001b[0m\n",
      "\u001b[37m@sample 50 -> Pass@3 = 0.3469387755102041\u001b[0m\n",
      "\u001b[32m\n",
      "\n",
      "Pass@3 = 0.3469387755102041\u001b[0m\n",
      "\n"
     ]
    },
    {
     "output_type": "display_data",
     "data": {
      "text/html": [
       "Waiting for W&B process to finish... <strong style=\"color:green\">(success).</strong>"
      ],
      "text/plain": [
       "<IPython.core.display.HTML object>"
      ]
     },
     "metadata": {}
    },
    {
     "output_type": "display_data",
     "data": {
      "application/vnd.jupyter.widget-view+json": {
       "version_major": 2,
       "version_minor": 0,
       "model_id": "becf13dac8494a3cb2698b2b33d866b7"
      },
      "text/plain": [
       "VBox(children=(Label(value='0.001 MB of 0.001 MB uploaded (0.000 MB deduped)\\r'), FloatProgress(value=1.0, max…"
      ]
     },
     "metadata": {}
    },
    {
     "output_type": "display_data",
     "data": {
      "text/html": [
       "<style>\n",
       "    table.wandb td:nth-child(1) { padding: 0 10px; text-align: right }\n",
       "    .wandb-row { display: flex; flex-direction: row; flex-wrap: wrap; width: 100% }\n",
       "    .wandb-col { display: flex; flex-direction: column; flex-basis: 100%; flex: 1; padding: 10px; }\n",
       "    </style>\n",
       "<div class=\"wandb-row\"><div class=\"wandb-col\"><h3>Run history:</h3><br/><table class=\"wandb\"><tr><td>pass_at_k</td><td>▁</td></tr></table><br/></div><div class=\"wandb-col\"><h3>Run summary:</h3><br/><table class=\"wandb\"><tr><td>pass_at_k</td><td>0.34694</td></tr></table><br/></div></div>"
      ],
      "text/plain": [
       "<IPython.core.display.HTML object>"
      ]
     },
     "metadata": {}
    },
    {
     "output_type": "display_data",
     "data": {
      "text/html": [
       "Synced <strong style=\"color:#cdcd00\">firm-sweep-12</strong>: <a href=\"https://wandb.ai/antoniolopardo/PracticalWork/runs/jcha2qtg\" target=\"_blank\">https://wandb.ai/antoniolopardo/PracticalWork/runs/jcha2qtg</a><br/>Synced 5 W&B file(s), 0 media file(s), 0 artifact file(s) and 0 other file(s)"
      ],
      "text/plain": [
       "<IPython.core.display.HTML object>"
      ]
     },
     "metadata": {}
    },
    {
     "output_type": "display_data",
     "data": {
      "text/html": [
       "Find logs at: <code>./wandb/run-20220402_104827-jcha2qtg/logs</code>"
      ],
      "text/plain": [
       "<IPython.core.display.HTML object>"
      ]
     },
     "metadata": {}
    },
    {
     "output_type": "stream",
     "name": "stderr",
     "text": [
      "\u001b[34m\u001b[1mwandb\u001b[0m: Agent Starting Run: 6wrf1gvv with config:\n",
      "\u001b[34m\u001b[1mwandb\u001b[0m: \tdo_sample: True\n",
      "\u001b[34m\u001b[1mwandb\u001b[0m: \tk: 3\n",
      "\u001b[34m\u001b[1mwandb\u001b[0m: \tmax_length_after_input: 250\n",
      "\u001b[34m\u001b[1mwandb\u001b[0m: \tmin_length: 1\n",
      "\u001b[34m\u001b[1mwandb\u001b[0m: \tnum_return_sequences: 4\n",
      "\u001b[34m\u001b[1mwandb\u001b[0m: \ttemperature: 0.9\n",
      "\u001b[34m\u001b[1mwandb\u001b[0m: \ttop_k: 1\n",
      "\u001b[34m\u001b[1mwandb\u001b[0m: \ttop_p: 0.2\n",
      "Failed to detect the name of this notebook, you can set it manually with the WANDB_NOTEBOOK_NAME environment variable to enable code saving.\n"
     ]
    },
    {
     "output_type": "display_data",
     "data": {
      "text/html": [
       "Tracking run with wandb version 0.12.11"
      ],
      "text/plain": [
       "<IPython.core.display.HTML object>"
      ]
     },
     "metadata": {}
    },
    {
     "output_type": "display_data",
     "data": {
      "text/html": [
       "Run data is saved locally in <code>/home/PracticalWork2021/wandb/run-20220402_105416-6wrf1gvv</code>"
      ],
      "text/plain": [
       "<IPython.core.display.HTML object>"
      ]
     },
     "metadata": {}
    },
    {
     "output_type": "display_data",
     "data": {
      "text/html": [
       "Syncing run <strong><a href=\"https://wandb.ai/antoniolopardo/PracticalWork/runs/6wrf1gvv\" target=\"_blank\">major-sweep-13</a></strong> to <a href=\"https://wandb.ai/antoniolopardo/PracticalWork\" target=\"_blank\">Weights & Biases</a> (<a href=\"https://wandb.me/run\" target=\"_blank\">docs</a>)<br/>Sweep page:  <a href=\"https://wandb.ai/antoniolopardo/PracticalWork/sweeps/aq1jys2a\" target=\"_blank\">https://wandb.ai/antoniolopardo/PracticalWork/sweeps/aq1jys2a</a>"
      ],
      "text/plain": [
       "<IPython.core.display.HTML object>"
      ]
     },
     "metadata": {}
    },
    {
     "output_type": "stream",
     "name": "stdout",
     "text": [
      "\u001b[33mTESTING STARTED\u001b[0m\n",
      "\u001b[37m@sample 5 -> Pass@3 = 0.4\u001b[0m\n",
      "\u001b[37m@sample 10 -> Pass@3 = 0.2\u001b[0m\n",
      "\u001b[37m@sample 15 -> Pass@3 = 0.2857142857142857\u001b[0m\n",
      "\u001b[37m@sample 20 -> Pass@3 = 0.2631578947368421\u001b[0m\n",
      "\u001b[37m@sample 25 -> Pass@3 = 0.3333333333333333\u001b[0m\n",
      "\u001b[37m@sample 30 -> Pass@3 = 0.3793103448275862\u001b[0m\n",
      "\u001b[37m@sample 35 -> Pass@3 = 0.35294117647058826\u001b[0m\n",
      "\u001b[37m@sample 40 -> Pass@3 = 0.38461538461538464\u001b[0m\n",
      "\u001b[37m@sample 45 -> Pass@3 = 0.38636363636363635\u001b[0m\n",
      "\u001b[37m@sample 50 -> Pass@3 = 0.3469387755102041\u001b[0m\n",
      "\u001b[32m\n",
      "\n",
      "Pass@3 = 0.3469387755102041\u001b[0m\n",
      "\n"
     ]
    },
    {
     "output_type": "display_data",
     "data": {
      "text/html": [
       "Waiting for W&B process to finish... <strong style=\"color:green\">(success).</strong>"
      ],
      "text/plain": [
       "<IPython.core.display.HTML object>"
      ]
     },
     "metadata": {}
    },
    {
     "output_type": "display_data",
     "data": {
      "application/vnd.jupyter.widget-view+json": {
       "version_major": 2,
       "version_minor": 0,
       "model_id": "a2d681c2e1214a93bce5ceede0f126d0"
      },
      "text/plain": [
       "VBox(children=(Label(value='0.001 MB of 0.001 MB uploaded (0.000 MB deduped)\\r'), FloatProgress(value=1.0, max…"
      ]
     },
     "metadata": {}
    },
    {
     "output_type": "display_data",
     "data": {
      "text/html": [
       "<style>\n",
       "    table.wandb td:nth-child(1) { padding: 0 10px; text-align: right }\n",
       "    .wandb-row { display: flex; flex-direction: row; flex-wrap: wrap; width: 100% }\n",
       "    .wandb-col { display: flex; flex-direction: column; flex-basis: 100%; flex: 1; padding: 10px; }\n",
       "    </style>\n",
       "<div class=\"wandb-row\"><div class=\"wandb-col\"><h3>Run history:</h3><br/><table class=\"wandb\"><tr><td>pass_at_k</td><td>▁</td></tr></table><br/></div><div class=\"wandb-col\"><h3>Run summary:</h3><br/><table class=\"wandb\"><tr><td>pass_at_k</td><td>0.34694</td></tr></table><br/></div></div>"
      ],
      "text/plain": [
       "<IPython.core.display.HTML object>"
      ]
     },
     "metadata": {}
    },
    {
     "output_type": "display_data",
     "data": {
      "text/html": [
       "Synced <strong style=\"color:#cdcd00\">major-sweep-13</strong>: <a href=\"https://wandb.ai/antoniolopardo/PracticalWork/runs/6wrf1gvv\" target=\"_blank\">https://wandb.ai/antoniolopardo/PracticalWork/runs/6wrf1gvv</a><br/>Synced 5 W&B file(s), 0 media file(s), 0 artifact file(s) and 0 other file(s)"
      ],
      "text/plain": [
       "<IPython.core.display.HTML object>"
      ]
     },
     "metadata": {}
    },
    {
     "output_type": "display_data",
     "data": {
      "text/html": [
       "Find logs at: <code>./wandb/run-20220402_105416-6wrf1gvv/logs</code>"
      ],
      "text/plain": [
       "<IPython.core.display.HTML object>"
      ]
     },
     "metadata": {}
    },
    {
     "output_type": "stream",
     "name": "stderr",
     "text": [
      "\u001b[34m\u001b[1mwandb\u001b[0m: Agent Starting Run: y2dlyosr with config:\n",
      "\u001b[34m\u001b[1mwandb\u001b[0m: \tdo_sample: True\n",
      "\u001b[34m\u001b[1mwandb\u001b[0m: \tk: 3\n",
      "\u001b[34m\u001b[1mwandb\u001b[0m: \tmax_length_after_input: 200\n",
      "\u001b[34m\u001b[1mwandb\u001b[0m: \tmin_length: 1\n",
      "\u001b[34m\u001b[1mwandb\u001b[0m: \tnum_return_sequences: 4\n",
      "\u001b[34m\u001b[1mwandb\u001b[0m: \ttemperature: 0.5\n",
      "\u001b[34m\u001b[1mwandb\u001b[0m: \ttop_k: 100\n",
      "\u001b[34m\u001b[1mwandb\u001b[0m: \ttop_p: 0\n",
      "Failed to detect the name of this notebook, you can set it manually with the WANDB_NOTEBOOK_NAME environment variable to enable code saving.\n"
     ]
    },
    {
     "output_type": "display_data",
     "data": {
      "text/html": [
       "Tracking run with wandb version 0.12.11"
      ],
      "text/plain": [
       "<IPython.core.display.HTML object>"
      ]
     },
     "metadata": {}
    },
    {
     "output_type": "display_data",
     "data": {
      "text/html": [
       "Run data is saved locally in <code>/home/PracticalWork2021/wandb/run-20220402_110004-y2dlyosr</code>"
      ],
      "text/plain": [
       "<IPython.core.display.HTML object>"
      ]
     },
     "metadata": {}
    },
    {
     "output_type": "display_data",
     "data": {
      "text/html": [
       "Syncing run <strong><a href=\"https://wandb.ai/antoniolopardo/PracticalWork/runs/y2dlyosr\" target=\"_blank\">worldly-sweep-14</a></strong> to <a href=\"https://wandb.ai/antoniolopardo/PracticalWork\" target=\"_blank\">Weights & Biases</a> (<a href=\"https://wandb.me/run\" target=\"_blank\">docs</a>)<br/>Sweep page:  <a href=\"https://wandb.ai/antoniolopardo/PracticalWork/sweeps/aq1jys2a\" target=\"_blank\">https://wandb.ai/antoniolopardo/PracticalWork/sweeps/aq1jys2a</a>"
      ],
      "text/plain": [
       "<IPython.core.display.HTML object>"
      ]
     },
     "metadata": {}
    },
    {
     "output_type": "stream",
     "name": "stdout",
     "text": [
      "\u001b[33mTESTING STARTED\u001b[0m\n",
      "\u001b[37m@sample 5 -> Pass@3 = 0.4\u001b[0m\n",
      "\u001b[37m@sample 10 -> Pass@3 = 0.2\u001b[0m\n",
      "\u001b[37m@sample 15 -> Pass@3 = 0.2857142857142857\u001b[0m\n",
      "\u001b[37m@sample 20 -> Pass@3 = 0.2631578947368421\u001b[0m\n",
      "\u001b[37m@sample 25 -> Pass@3 = 0.3333333333333333\u001b[0m\n",
      "\u001b[37m@sample 30 -> Pass@3 = 0.3793103448275862\u001b[0m\n",
      "\u001b[37m@sample 35 -> Pass@3 = 0.35294117647058826\u001b[0m\n",
      "\u001b[37m@sample 40 -> Pass@3 = 0.38461538461538464\u001b[0m\n",
      "\u001b[37m@sample 45 -> Pass@3 = 0.38636363636363635\u001b[0m\n",
      "\u001b[37m@sample 50 -> Pass@3 = 0.3469387755102041\u001b[0m\n",
      "\u001b[32m\n",
      "\n",
      "Pass@3 = 0.3469387755102041\u001b[0m\n",
      "\n"
     ]
    },
    {
     "output_type": "display_data",
     "data": {
      "text/html": [
       "Waiting for W&B process to finish... <strong style=\"color:green\">(success).</strong>"
      ],
      "text/plain": [
       "<IPython.core.display.HTML object>"
      ]
     },
     "metadata": {}
    },
    {
     "output_type": "display_data",
     "data": {
      "application/vnd.jupyter.widget-view+json": {
       "version_major": 2,
       "version_minor": 0,
       "model_id": "13ff7afac24d48b088e75ea223154664"
      },
      "text/plain": [
       "VBox(children=(Label(value='0.001 MB of 0.001 MB uploaded (0.000 MB deduped)\\r'), FloatProgress(value=1.0, max…"
      ]
     },
     "metadata": {}
    },
    {
     "output_type": "display_data",
     "data": {
      "text/html": [
       "<style>\n",
       "    table.wandb td:nth-child(1) { padding: 0 10px; text-align: right }\n",
       "    .wandb-row { display: flex; flex-direction: row; flex-wrap: wrap; width: 100% }\n",
       "    .wandb-col { display: flex; flex-direction: column; flex-basis: 100%; flex: 1; padding: 10px; }\n",
       "    </style>\n",
       "<div class=\"wandb-row\"><div class=\"wandb-col\"><h3>Run history:</h3><br/><table class=\"wandb\"><tr><td>pass_at_k</td><td>▁</td></tr></table><br/></div><div class=\"wandb-col\"><h3>Run summary:</h3><br/><table class=\"wandb\"><tr><td>pass_at_k</td><td>0.34694</td></tr></table><br/></div></div>"
      ],
      "text/plain": [
       "<IPython.core.display.HTML object>"
      ]
     },
     "metadata": {}
    },
    {
     "output_type": "display_data",
     "data": {
      "text/html": [
       "Synced <strong style=\"color:#cdcd00\">worldly-sweep-14</strong>: <a href=\"https://wandb.ai/antoniolopardo/PracticalWork/runs/y2dlyosr\" target=\"_blank\">https://wandb.ai/antoniolopardo/PracticalWork/runs/y2dlyosr</a><br/>Synced 5 W&B file(s), 0 media file(s), 0 artifact file(s) and 0 other file(s)"
      ],
      "text/plain": [
       "<IPython.core.display.HTML object>"
      ]
     },
     "metadata": {}
    },
    {
     "output_type": "display_data",
     "data": {
      "text/html": [
       "Find logs at: <code>./wandb/run-20220402_110004-y2dlyosr/logs</code>"
      ],
      "text/plain": [
       "<IPython.core.display.HTML object>"
      ]
     },
     "metadata": {}
    },
    {
     "output_type": "stream",
     "name": "stderr",
     "text": [
      "\u001b[34m\u001b[1mwandb\u001b[0m: Agent Starting Run: vng09c9h with config:\n",
      "\u001b[34m\u001b[1mwandb\u001b[0m: \tdo_sample: True\n",
      "\u001b[34m\u001b[1mwandb\u001b[0m: \tk: 3\n",
      "\u001b[34m\u001b[1mwandb\u001b[0m: \tmax_length_after_input: 250\n",
      "\u001b[34m\u001b[1mwandb\u001b[0m: \tmin_length: 1\n",
      "\u001b[34m\u001b[1mwandb\u001b[0m: \tnum_return_sequences: 4\n",
      "\u001b[34m\u001b[1mwandb\u001b[0m: \ttemperature: 0.1\n",
      "\u001b[34m\u001b[1mwandb\u001b[0m: \ttop_k: 50\n",
      "\u001b[34m\u001b[1mwandb\u001b[0m: \ttop_p: 0.2\n",
      "Failed to detect the name of this notebook, you can set it manually with the WANDB_NOTEBOOK_NAME environment variable to enable code saving.\n"
     ]
    },
    {
     "output_type": "display_data",
     "data": {
      "text/html": [
       "Tracking run with wandb version 0.12.11"
      ],
      "text/plain": [
       "<IPython.core.display.HTML object>"
      ]
     },
     "metadata": {}
    },
    {
     "output_type": "display_data",
     "data": {
      "text/html": [
       "Run data is saved locally in <code>/home/PracticalWork2021/wandb/run-20220402_110554-vng09c9h</code>"
      ],
      "text/plain": [
       "<IPython.core.display.HTML object>"
      ]
     },
     "metadata": {}
    },
    {
     "output_type": "display_data",
     "data": {
      "text/html": [
       "Syncing run <strong><a href=\"https://wandb.ai/antoniolopardo/PracticalWork/runs/vng09c9h\" target=\"_blank\">tough-sweep-15</a></strong> to <a href=\"https://wandb.ai/antoniolopardo/PracticalWork\" target=\"_blank\">Weights & Biases</a> (<a href=\"https://wandb.me/run\" target=\"_blank\">docs</a>)<br/>Sweep page:  <a href=\"https://wandb.ai/antoniolopardo/PracticalWork/sweeps/aq1jys2a\" target=\"_blank\">https://wandb.ai/antoniolopardo/PracticalWork/sweeps/aq1jys2a</a>"
      ],
      "text/plain": [
       "<IPython.core.display.HTML object>"
      ]
     },
     "metadata": {}
    },
    {
     "output_type": "stream",
     "name": "stdout",
     "text": [
      "\u001b[33mTESTING STARTED\u001b[0m\n",
      "\u001b[37m@sample 5 -> Pass@3 = 0.4\u001b[0m\n",
      "\u001b[37m@sample 10 -> Pass@3 = 0.2\u001b[0m\n",
      "\u001b[37m@sample 15 -> Pass@3 = 0.2857142857142857\u001b[0m\n",
      "\u001b[37m@sample 20 -> Pass@3 = 0.2631578947368421\u001b[0m\n",
      "\u001b[37m@sample 25 -> Pass@3 = 0.3333333333333333\u001b[0m\n",
      "\u001b[37m@sample 30 -> Pass@3 = 0.3793103448275862\u001b[0m\n",
      "\u001b[37m@sample 35 -> Pass@3 = 0.35294117647058826\u001b[0m\n",
      "\u001b[37m@sample 40 -> Pass@3 = 0.38461538461538464\u001b[0m\n",
      "\u001b[37m@sample 45 -> Pass@3 = 0.38636363636363635\u001b[0m\n",
      "\u001b[37m@sample 50 -> Pass@3 = 0.3469387755102041\u001b[0m\n",
      "\u001b[32m\n",
      "\n",
      "Pass@3 = 0.3469387755102041\u001b[0m\n",
      "\n"
     ]
    },
    {
     "output_type": "display_data",
     "data": {
      "text/html": [
       "Waiting for W&B process to finish... <strong style=\"color:green\">(success).</strong>"
      ],
      "text/plain": [
       "<IPython.core.display.HTML object>"
      ]
     },
     "metadata": {}
    },
    {
     "output_type": "display_data",
     "data": {
      "application/vnd.jupyter.widget-view+json": {
       "version_major": 2,
       "version_minor": 0,
       "model_id": "f1190f224d4843e2b98e769cf294d04a"
      },
      "text/plain": [
       "VBox(children=(Label(value='0.001 MB of 0.001 MB uploaded (0.000 MB deduped)\\r'), FloatProgress(value=1.0, max…"
      ]
     },
     "metadata": {}
    },
    {
     "output_type": "display_data",
     "data": {
      "text/html": [
       "<style>\n",
       "    table.wandb td:nth-child(1) { padding: 0 10px; text-align: right }\n",
       "    .wandb-row { display: flex; flex-direction: row; flex-wrap: wrap; width: 100% }\n",
       "    .wandb-col { display: flex; flex-direction: column; flex-basis: 100%; flex: 1; padding: 10px; }\n",
       "    </style>\n",
       "<div class=\"wandb-row\"><div class=\"wandb-col\"><h3>Run history:</h3><br/><table class=\"wandb\"><tr><td>pass_at_k</td><td>▁</td></tr></table><br/></div><div class=\"wandb-col\"><h3>Run summary:</h3><br/><table class=\"wandb\"><tr><td>pass_at_k</td><td>0.34694</td></tr></table><br/></div></div>"
      ],
      "text/plain": [
       "<IPython.core.display.HTML object>"
      ]
     },
     "metadata": {}
    },
    {
     "output_type": "display_data",
     "data": {
      "text/html": [
       "Synced <strong style=\"color:#cdcd00\">tough-sweep-15</strong>: <a href=\"https://wandb.ai/antoniolopardo/PracticalWork/runs/vng09c9h\" target=\"_blank\">https://wandb.ai/antoniolopardo/PracticalWork/runs/vng09c9h</a><br/>Synced 5 W&B file(s), 0 media file(s), 0 artifact file(s) and 0 other file(s)"
      ],
      "text/plain": [
       "<IPython.core.display.HTML object>"
      ]
     },
     "metadata": {}
    },
    {
     "output_type": "display_data",
     "data": {
      "text/html": [
       "Find logs at: <code>./wandb/run-20220402_110554-vng09c9h/logs</code>"
      ],
      "text/plain": [
       "<IPython.core.display.HTML object>"
      ]
     },
     "metadata": {}
    }
   ],
   "metadata": {}
  },
  {
   "cell_type": "code",
   "execution_count": null,
   "source": [],
   "outputs": [],
   "metadata": {}
  }
 ],
 "metadata": {
  "orig_nbformat": 4,
  "language_info": {
   "name": "python",
   "version": "3.8.10",
   "mimetype": "text/x-python",
   "codemirror_mode": {
    "name": "ipython",
    "version": 3
   },
   "pygments_lexer": "ipython3",
   "nbconvert_exporter": "python",
   "file_extension": ".py"
  },
  "kernelspec": {
   "name": "python3",
   "display_name": "Python 3.8.10 64-bit ('HFtests': venv)"
  },
  "interpreter": {
   "hash": "5ea8e8bf8ca3b9f65e7cf95ea2223aa98d68a16922d567d33b86408fe49c3092"
  }
 },
 "nbformat": 4,
 "nbformat_minor": 2
}