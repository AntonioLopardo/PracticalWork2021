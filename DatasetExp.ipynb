{
 "cells": [
  {
   "cell_type": "code",
   "execution_count": 26,
   "source": [
    "from xml.etree import ElementTree\n",
    "from collections import Counter\n",
    "from random import sample\n",
    "import random\n"
   ],
   "outputs": [],
   "metadata": {}
  },
  {
   "cell_type": "code",
   "execution_count": 27,
   "source": [
    "random.seed(0)"
   ],
   "outputs": [],
   "metadata": {}
  },
  {
   "cell_type": "code",
   "execution_count": 2,
   "source": [
    "dataset_path = \"data/nlu-asdiv-dataset/dataset/ASDiv.xml\""
   ],
   "outputs": [],
   "metadata": {}
  },
  {
   "cell_type": "code",
   "execution_count": 3,
   "source": [
    "dom = ElementTree.parse(dataset_path)\n",
    "\n",
    "# XML parsing\n",
    "body_list = dom.findall(\"ProblemSet/Problem/Body\")\n",
    "answer_list = dom.findall(\"ProblemSet/Problem/Answer\")\n",
    "question_list = dom.findall(\"ProblemSet/Problem/Question\")\n",
    "formula_list = dom.findall(\"ProblemSet/Problem/Formula\")\n",
    "stype_list = dom.findall(\"ProblemSet/Problem/Solution-Type\")\n"
   ],
   "outputs": [],
   "metadata": {}
  },
  {
   "cell_type": "code",
   "execution_count": 18,
   "source": [
    "print(Counter(stype.text for stype in stype_list))\n",
    "list_stype_cat = list(Counter(stype.text for stype in stype_list).keys())\n",
    "indexes_dict = {\n",
    "    stype: [i for i, stype_ in enumerate(stype_list) if stype_.text == stype]\n",
    "    for stype in list_stype_cat\n",
    "}\n"
   ],
   "outputs": [
    {
     "output_type": "stream",
     "name": "stdout",
     "text": [
      "Counter({'Subtraction': 452, 'Addition': 351, 'Multiplication': 260, 'Common-Division': 224, 'Sum': 95, 'Ratio': 94, 'Geometry': 88, 'Algebra-2': 83, 'TVQ-Final': 80, 'GCD': 73, 'Algebra-1': 71, 'Surplus': 70, 'LCM': 65, 'Difference': 59, 'Comparison': 57, 'Floor-Division': 52, 'Sequential-Operation': 37, 'Ceil-Division': 32, 'TVQ-Change': 20, 'TVQ-Initial': 19, 'Set-Operation': 15, 'UnitTrans': 4, 'Number-Operation': 2, 'Number-Pattern': 1, 'Substraction': 1})\n"
     ]
    }
   ],
   "metadata": {}
  },
  {
   "cell_type": "code",
   "execution_count": 34,
   "source": [
    "nr_sample_dict = {\n",
    "    \"Subtraction\": 2,\n",
    "    \"Addition\": 2,\n",
    "    \"Multiplication\": 2,\n",
    "    \"Common-Division\": 2,\n",
    "    \"Sum\": 1,\n",
    "    \"Ratio\": 1,\n",
    "    \"Geometry\": 1,\n",
    "    \"Algebra-2\": 1,\n",
    "    \"TVQ-Final\": 1,\n",
    "    \"GCD\": 1,\n",
    "    \"Algebra-1\": 1,\n",
    "    \"Surplus\": 1,\n",
    "    \"LCM\": 1,\n",
    "    \"Difference\": 1,\n",
    "    \"Comparison\": 1,\n",
    "    \"Floor-Division\": 1,\n",
    "    \"Sequential-Operation\": 0,\n",
    "    \"Ceil-Division\": 0,\n",
    "    \"TVQ-Change\": 0,\n",
    "    \"TVQ-Initial\": 0,\n",
    "    \"Set-Operation\": 0,\n",
    "}\n",
    "print(sum(nr_sample_dict.values()))\n"
   ],
   "outputs": [
    {
     "output_type": "stream",
     "name": "stdout",
     "text": [
      "25\n"
     ]
    }
   ],
   "metadata": {}
  },
  {
   "cell_type": "code",
   "execution_count": 35,
   "source": [
    "random.seed(0)\n",
    "sample_idx_dict = {\n",
    "    stype: sample(indexes_dict[stype], nr_sample_dict[stype])\n",
    "    for stype in nr_sample_dict.keys()\n",
    "}\n",
    "sample_idx_dict"
   ],
   "outputs": [
    {
     "output_type": "execute_result",
     "data": {
      "text/plain": [
       "{'Subtraction': [1936, 702],\n",
       " 'Addition': [1106, 50],\n",
       " 'Multiplication': [570, 2250],\n",
       " 'Common-Division': [1582, 2281],\n",
       " 'Sum': [218],\n",
       " 'Ratio': [1659],\n",
       " 'Geometry': [1525],\n",
       " 'Algebra-2': [1477],\n",
       " 'TVQ-Final': [883],\n",
       " 'GCD': [2084],\n",
       " 'Algebra-1': [1302],\n",
       " 'Surplus': [800],\n",
       " 'LCM': [1224],\n",
       " 'Difference': [1282],\n",
       " 'Comparison': [189],\n",
       " 'Floor-Division': [1558],\n",
       " 'Sequential-Operation': [1077],\n",
       " 'Ceil-Division': [767],\n",
       " 'TVQ-Change': [710],\n",
       " 'TVQ-Initial': [695],\n",
       " 'Set-Operation': [1988]}"
      ]
     },
     "metadata": {},
     "execution_count": 35
    }
   ],
   "metadata": {}
  },
  {
   "cell_type": "code",
   "execution_count": 32,
   "source": [
    "def print_sample_from_idx(sample_idx):\n",
    "    print(f\"{body_list[sample_idx].text} {question_list[sample_idx].text}\")\n",
    "    print(f\"{formula_list[sample_idx].text}\")\n",
    "    print(f\"{answer_list[sample_idx].text}\")\n",
    "    print(\"\\n\" + \"-\"*100 + \"\\n\")"
   ],
   "outputs": [],
   "metadata": {}
  },
  {
   "cell_type": "code",
   "execution_count": 57,
   "source": [
    "print_sample_from_idx(sample_idx_dict[\"Sequential-Operation\"][0])"
   ],
   "outputs": [
    {
     "output_type": "stream",
     "name": "stdout",
     "text": [
      "Steve is stacking cups; he put 17 plastic cups in the first stack, 21 plastic cups in the second stack, 25 plastic cups in the third stack, and 29 plastic cups in the fourth stack. If this pattern continues, how many plastic cups will Steve put in the fifth stack?\n",
      "17, 21, 25, 29, 33\n",
      "33 (plastic cups)\n",
      "\n",
      "----------------------------------------------------------------------------------------------------\n",
      "\n"
     ]
    }
   ],
   "metadata": {}
  },
  {
   "cell_type": "code",
   "execution_count": 48,
   "source": [
    "print(\"wer\", \"ewrr\")"
   ],
   "outputs": [
    {
     "output_type": "stream",
     "name": "stdout",
     "text": [
      "wer ewrr\n"
     ]
    }
   ],
   "metadata": {}
  },
  {
   "cell_type": "code",
   "execution_count": null,
   "source": [],
   "outputs": [],
   "metadata": {}
  }
 ],
 "metadata": {
  "orig_nbformat": 4,
  "language_info": {
   "name": "python",
   "version": "3.8.10",
   "mimetype": "text/x-python",
   "codemirror_mode": {
    "name": "ipython",
    "version": 3
   },
   "pygments_lexer": "ipython3",
   "nbconvert_exporter": "python",
   "file_extension": ".py"
  },
  "kernelspec": {
   "name": "python3",
   "display_name": "Python 3.8.10 64-bit ('HFtests': venv)"
  },
  "interpreter": {
   "hash": "5ea8e8bf8ca3b9f65e7cf95ea2223aa98d68a16922d567d33b86408fe49c3092"
  }
 },
 "nbformat": 4,
 "nbformat_minor": 2
}