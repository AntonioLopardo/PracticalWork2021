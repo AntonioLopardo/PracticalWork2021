{
 "cells": [
  {
   "cell_type": "code",
   "execution_count": 2,
   "source": [
    "from xml.etree import ElementTree\n",
    "from collections import Counter\n",
    "from random import sample\n",
    "import random\n",
    "import numpy as np\n",
    "import json\n",
    "import re\n",
    "from termcolor import colored"
   ],
   "outputs": [],
   "metadata": {}
  },
  {
   "cell_type": "markdown",
   "source": [
    "# AsDiv"
   ],
   "metadata": {}
  },
  {
   "cell_type": "code",
   "execution_count": 3,
   "source": [
    "dom = ElementTree.parse(\"data/nlu-asdiv-dataset/dataset/ASDiv.xml\")\n",
    "\n",
    "# XML parsing\n",
    "body_list = dom.findall(\"ProblemSet/Problem/Body\")\n",
    "answer_list = dom.findall(\"ProblemSet/Problem/Answer\")\n",
    "question_list = dom.findall(\"ProblemSet/Problem/Question\")\n",
    "formula_list = dom.findall(\"ProblemSet/Problem/Formula\")\n",
    "stype_list = dom.findall(\"ProblemSet/Problem/Solution-Type\")\n",
    "\n",
    "print(Counter(stype.text for stype in stype_list))\n",
    "list_stype_cat = list(Counter(stype.text for stype in stype_list).keys())\n",
    "indexes_dict = {\n",
    "    stype: [i for i, stype_ in enumerate(stype_list) if stype_.text == stype]\n",
    "    for stype in list_stype_cat\n",
    "}\n",
    "\n",
    "nr_sample_dict = {\n",
    "    \"Subtraction\": 2,\n",
    "    \"Addition\": 2,\n",
    "    \"Multiplication\": 2,\n",
    "    \"Common-Division\": 2,\n",
    "    \"Sum\": 1,\n",
    "    \"Ratio\": 1,\n",
    "    \"Geometry\": 1,\n",
    "    \"Algebra-2\": 1,\n",
    "    \"TVQ-Final\": 1,\n",
    "    \"GCD\": 1,\n",
    "    \"Algebra-1\": 1,\n",
    "    \"Surplus\": 1,\n",
    "    \"LCM\": 1,\n",
    "    \"Difference\": 1,\n",
    "    \"Comparison\": 1,\n",
    "    \"Floor-Division\": 1,\n",
    "    \"Sequential-Operation\": 0,\n",
    "    \"Ceil-Division\": 0,\n",
    "    \"TVQ-Change\": 0,\n",
    "    \"TVQ-Initial\": 0,\n",
    "    \"Set-Operation\": 0,\n",
    "}\n",
    "print(sum(nr_sample_dict.values()))\n",
    "\n",
    "random.seed(0)\n",
    "sample_idx_dict = {\n",
    "    stype: sample(indexes_dict[stype], nr_sample_dict[stype])\n",
    "    for stype in nr_sample_dict.keys()\n",
    "}\n",
    "print(sample_idx_dict)\n",
    "\n",
    "\n",
    "def print_as_div_from_idx(sample_idx):\n",
    "    print(f\"{body_list[sample_idx].text} {question_list[sample_idx].text}\")\n",
    "    print(f\"{formula_list[sample_idx].text}\")\n",
    "    print(f\"{answer_list[sample_idx].text}\")\n",
    "    print(\"\\n\" + \"-\" * 100 + \"\\n\")\n"
   ],
   "outputs": [],
   "metadata": {}
  },
  {
   "cell_type": "code",
   "execution_count": 32,
   "source": [
    "print_as_div_from_idx(sample_idx_dict[\"Sequential-Operation\"][0])"
   ],
   "outputs": [],
   "metadata": {}
  },
  {
   "cell_type": "markdown",
   "source": [
    "# GSM8k"
   ],
   "metadata": {}
  },
  {
   "cell_type": "code",
   "execution_count": 74,
   "source": [
    "def load_gsm8k(dataset_path):\n",
    "    with open(dataset_path) as fh:\n",
    "        data = [json.loads(line) for line in fh.readlines() if line]\n",
    "\n",
    "    return data\n",
    "\n",
    "\n",
    "def print_gsm8k_sample_from_idx(sample_idx):\n",
    "    data = load_gsm8k(\"data/grade-school-math/grade_school_math/data/train.jsonl\")\n",
    "    problem = data[sample_idx]\n",
    "    print(problem[\"question\"])\n",
    "    print(colored(problem[\"answer\"], \"green\"))\n",
    "    print(colored(re.findall(r\"#### \\w+\", problem[\"answer\"])[0][5:], \"yellow\"))\n",
    "    print(\"\\n\" + \"-\" * 100 + \"\\n\")\n",
    "\n",
    "np.random.seed(1)\n",
    "rand_index = list(np.random.randint(0, len(load_gsm8k(\"data/grade-school-math/grade_school_math/data/train.jsonl\")), 15))\n",
    "print(rand_index)"
   ],
   "outputs": [],
   "metadata": {}
  },
  {
   "cell_type": "code",
   "execution_count": 88,
   "source": [
    "print_gsm8k_sample_from_idx(1202)"
   ],
   "outputs": [
    {
     "output_type": "stream",
     "name": "stdout",
     "text": [
      "A man is trying to maximize the amount of money he saves each month. In particular, he is trying to decide between two different apartments. The first apartment costs $800 per month in rent and will cost an additional $260 per month in utilities. The second apartment costs $900 per month and will cost an additional $200 per month in utilities. The first apartment is slightly further from the man's work, and the man would have to drive 31 miles per day to get to work. The second apartment is closer, and the man would only have to drive 21 miles to get to work. According to the IRS, each mile a person drives has an average cost of 58 cents. If the man must drive to work 20 days each month, what is the difference between the total monthly costs of these two apartments after factoring in utility and driving-related costs (to the nearest whole dollar)?\n",
      "\u001b[32mThe mileage cost for the first apartment will be 31*20*0.58 = $<<31*20*0.58=359.60>>359.60\n",
      "This makes the total monthly cost of the first apartment 359.60 + 800 + 260 = $<<359.60+800+260=1419.60>>1419.60\n",
      "Similarly, the mileage cost for the second apartment will be 21*20*0.58 = $<<21*20*0.58=243.60>>243.60\n",
      "Thus, the total monthly cost of the second apartment is 243.60 + 900 + 200 = <<243.60+900+200=1343.60>>1343.60\n",
      "Therefore, the difference in total monthly costs is 1419.60 - 1343.60 = $<<1419.60-1343.60=76>>76\n",
      "#### 76\u001b[0m\n",
      "\u001b[33m76\u001b[0m\n",
      "\n",
      "----------------------------------------------------------------------------------------------------\n",
      "\n"
     ]
    }
   ],
   "metadata": {}
  },
  {
   "cell_type": "markdown",
   "source": [
    "# SingleEq"
   ],
   "metadata": {}
  },
  {
   "cell_type": "code",
   "execution_count": 3,
   "source": [
    "def sample_singleEq(dataset_path):\n",
    "    with open(dataset_path, \"r\") as f:\n",
    "        data = json.load(f)\n",
    "\n",
    "    # Randomly choose a problem\n",
    "    rand_index = np.random.randint(0, len(data))\n",
    "    problem = data[rand_index]\n",
    "    return problem[\"sQuestion\"], problem[\"lSolutions\"]\n",
    "\n",
    "\n",
    "def load_singleEq(dataset_path):\n",
    "    with open(dataset_path, \"r\") as f:\n",
    "        data = json.load(f)\n",
    "\n",
    "    return data\n",
    "\n",
    "\n",
    "def print_singleEq_sample_from_idx(sample_idx):\n",
    "    data = load_singleEq(\"data/TACL2015/questions.json\")\n",
    "    problem = data[sample_idx]\n",
    "    print(problem[\"sQuestion\"])\n",
    "    print(colored(problem[\"lSolutions\"], \"green\"))\n",
    "    print(\"\\n\" + \"-\" * 100 + \"\\n\")\n",
    "\n",
    "\n",
    "np.random.seed(1)\n",
    "rand_index = list(\n",
    "    np.random.randint(0, len(load_singleEq(\"data/TACL2015/questions.json\")), 15)\n",
    ")\n",
    "print(rand_index)\n"
   ],
   "outputs": [
    {
     "output_type": "stream",
     "name": "stdout",
     "text": [
      "[37, 235, 396, 72, 255, 393, 203, 133, 335, 448, 144, 129, 460, 71, 237]\n"
     ]
    }
   ],
   "metadata": {}
  },
  {
   "cell_type": "code",
   "execution_count": 18,
   "source": [
    "print_singleEq_sample_from_idx(237)"
   ],
   "outputs": [
    {
     "output_type": "stream",
     "name": "stdout",
     "text": [
      "A car company produced 3,884 cars in North America and 2,871 cars in Europe. How many cars is that in all?\n",
      "\u001b[32m[6755.0]\u001b[0m\n",
      "\n",
      "----------------------------------------------------------------------------------------------------\n",
      "\n"
     ]
    }
   ],
   "metadata": {}
  }
 ],
 "metadata": {
  "orig_nbformat": 4,
  "language_info": {
   "name": "python",
   "version": "3.8.10",
   "mimetype": "text/x-python",
   "codemirror_mode": {
    "name": "ipython",
    "version": 3
   },
   "pygments_lexer": "ipython3",
   "nbconvert_exporter": "python",
   "file_extension": ".py"
  },
  "kernelspec": {
   "name": "python3",
   "display_name": "Python 3.8.10 64-bit ('HFtests': venv)"
  },
  "interpreter": {
   "hash": "5ea8e8bf8ca3b9f65e7cf95ea2223aa98d68a16922d567d33b86408fe49c3092"
  }
 },
 "nbformat": 4,
 "nbformat_minor": 2
}