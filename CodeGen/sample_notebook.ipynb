{
 "cells": [
  {
   "cell_type": "code",
   "execution_count": 1,
   "source": [
    "from jaxformer.hf.sample import * "
   ],
   "outputs": [
    {
     "output_type": "stream",
     "name": "stderr",
     "text": [
      "/home/PracticalWork2021/CodeGen/venv/lib/python3.8/site-packages/tqdm/auto.py:22: TqdmWarning: IProgress not found. Please update jupyter and ipywidgets. See https://ipywidgets.readthedocs.io/en/stable/user_install.html\n",
      "  from .autonotebook import tqdm as notebook_tqdm\n"
     ]
    }
   ],
   "metadata": {}
  },
  {
   "cell_type": "code",
   "execution_count": 2,
   "source": [
    "class args:\n",
    "    def __init__(self):\n",
    "        self.fp16 = True\n",
    "        self.model = 'codegen-16B-mono'\n",
    "        self.device = 'cuda:0'\n",
    "        self.rng_seed = 42\n",
    "        self.rng_deterministic = True\n",
    "        self.pad = 50256\n",
    "        self.context = 'def helloworld():'\n",
    "        self.batch_size = 1\n",
    "        self.max_length = 128\n",
    "        self.t = 0.2\n",
    "        self.p = 0.95\n",
    "\n",
    "args = args()"
   ],
   "outputs": [],
   "metadata": {}
  },
  {
   "cell_type": "code",
   "execution_count": 3,
   "source": [
    "print(args.model)"
   ],
   "outputs": [
    {
     "output_type": "stream",
     "name": "stdout",
     "text": [
      "codegen-16B-mono\n"
     ]
    }
   ],
   "metadata": {}
  },
  {
   "cell_type": "code",
   "execution_count": 4,
   "source": [
    "models_nl = []\n",
    "models_pl = ['codegen-350M-mono', 'codegen-2B-mono', 'codegen-6B-mono', 'codegen-16B-mono']\n",
    "models = models_nl + models_pl"
   ],
   "outputs": [],
   "metadata": {}
  },
  {
   "cell_type": "code",
   "execution_count": 12,
   "source": [
    "from datasets import load_dataset\n",
    "human_eval_dataset = load_dataset('openai_humaneval')['test']\n"
   ],
   "outputs": [
    {
     "output_type": "stream",
     "name": "stderr",
     "text": [
      "Reusing dataset openai_humaneval (/root/.cache/huggingface/datasets/openai_humaneval/openai_humaneval/1.0.0/2955cebd73602e828fa8c0a424c594e5fab4ec863b316ca98f3d8fdb6a626e75)\n",
      "100%|██████████| 1/1 [00:00<00:00, 827.77it/s]\n"
     ]
    }
   ],
   "metadata": {}
  },
  {
   "cell_type": "code",
   "execution_count": 13,
   "source": [
    "name = \"asdiv_prefix\"\n",
    "\n",
    "file = \"../data/priming_texts/asdiv/\"+ name +\".txt\"\n",
    "\n",
    "\n",
    "with open(file, \"r\") as f:\n",
    "    prompt = f.read()\n",
    "\n",
    "args.context = human_eval_dataset[67]['prompt']\n",
    "print(args.context)\n"
   ],
   "outputs": [
    {
     "output_type": "stream",
     "name": "stdout",
     "text": [
      "\n",
      "def fruit_distribution(s,n):\n",
      "    \"\"\"\n",
      "    In this task, you will be given a string that represents a number of apples and oranges \n",
      "    that are distributed in a basket of fruit this basket contains \n",
      "    apples, oranges, and mango fruits. Given the string that represents the total number of \n",
      "    the oranges and apples and an integer that represent the total number of the fruits \n",
      "    in the basket return the number of the mango fruits in the basket.\n",
      "    for examble:\n",
      "    fruit_distribution(\"5 apples and 6 oranges\", 19) ->19 - 5 - 6 = 8\n",
      "    fruit_distribution(\"0 apples and 1 oranges\",3) -> 3 - 0 - 1 = 2\n",
      "    fruit_distribution(\"2 apples and 3 oranges\", 100) -> 100 - 2 - 3 = 95\n",
      "    fruit_distribution(\"100 apples and 1 oranges\",120) -> 120 - 100 - 1 = 19\n",
      "    \"\"\"\n",
      "\n"
     ]
    }
   ],
   "metadata": {}
  },
  {
   "cell_type": "code",
   "execution_count": 6,
   "source": [
    "set_env()\n",
    "set_seed(args.rng_seed, deterministic=args.rng_deterministic)\n",
    "\n",
    "device = torch.device(args.device)\n",
    "ckpt = f'./checkpoints/{args.model}'\n",
    "\n",
    "# (3) load\n",
    "\n",
    "with print_time('loading parameters'):\n",
    "    model = create_model(ckpt=ckpt, fp16=args.fp16).to(device)\n",
    "\n",
    "\n",
    "with print_time('loading tokenizer'):\n",
    "    if args.model in models_pl:\n",
    "        tokenizer = create_custom_gpt2_tokenizer()\n",
    "    else:\n",
    "        tokenizer = create_tokenizer()\n",
    "    tokenizer.padding_side = 'left'\n",
    "    tokenizer.pad_token = args.pad"
   ],
   "outputs": [
    {
     "output_type": "stream",
     "name": "stdout",
     "text": [
      "loading parameters\n",
      "loading parameters took 464.87s\n",
      "loading tokenizer\n",
      "loading tokenizer took 4.07s\n"
     ]
    }
   ],
   "metadata": {}
  },
  {
   "cell_type": "code",
   "execution_count": 14,
   "source": [
    "with print_time('sampling'):\n",
    "        completion = sample(device=device, model=model, tokenizer=tokenizer, context=args.context, pad_token_id=args.pad, num_return_sequences=args.batch_size, temp=args.t, top_p=args.p, max_length_sample=args.max_length)[0]\n",
    "        truncation = truncate(completion)\n",
    "\n",
    "        print('=' * 100)\n",
    "        print(completion)\n",
    "        #print('=' * 100)\n",
    "        #print(args.context+truncation)\n",
    "        #print('=' * 100)"
   ],
   "outputs": [
    {
     "output_type": "stream",
     "name": "stdout",
     "text": [
      "sampling\n",
      "====================================================================================================\n",
      "    #\n",
      "sampling took 0.24s\n"
     ]
    }
   ],
   "metadata": {}
  },
  {
   "cell_type": "code",
   "execution_count": null,
   "source": [],
   "outputs": [],
   "metadata": {}
  }
 ],
 "metadata": {
  "orig_nbformat": 4,
  "language_info": {
   "name": "python",
   "version": "3.8.10",
   "mimetype": "text/x-python",
   "codemirror_mode": {
    "name": "ipython",
    "version": 3
   },
   "pygments_lexer": "ipython3",
   "nbconvert_exporter": "python",
   "file_extension": ".py"
  },
  "kernelspec": {
   "name": "python3",
   "display_name": "Python 3.8.10 64-bit ('venv': venv)"
  },
  "interpreter": {
   "hash": "64d063b1faafbf824c011538bbdc5dd21a33fbfbbf626b1c4ab6e2989961df88"
  }
 },
 "nbformat": 4,
 "nbformat_minor": 2
}