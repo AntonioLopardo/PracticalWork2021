{
 "cells": [
  {
   "cell_type": "code",
   "execution_count": 3,
   "source": [
    "cur_dir = os.getcwd()\n",
    "os.chdir(os.path.join(cur_dir, 'data'))\n",
    "!git clone https://gitlab.cs.washington.edu/ALGES/TACL2015.git\n",
    "!git clone https://github.com/chaochun/nlu-asdiv-dataset.git\n",
    "!git clone https://github.com/openai/grade-school-math.git\n",
    "os.chdir(cur_dir)"
   ],
   "outputs": [
    {
     "output_type": "stream",
     "name": "stdout",
     "text": [
      "fatal: destination path 'TACL2015' already exists and is not an empty directory.\n",
      "fatal: destination path 'nlu-asdiv-dataset' already exists and is not an empty directory.\n",
      "fatal: destination path 'grade-school-math' already exists and is not an empty directory.\n"
     ]
    }
   ],
   "metadata": {}
  },
  {
   "cell_type": "code",
   "execution_count": 20,
   "source": [
    "import os\n",
    "from xml.etree import ElementTree\n",
    "import numpy as np\n",
    "import torch\n",
    "import json\n",
    "import re\n",
    "from transformers import AutoTokenizer, AutoModelForCausalLM\n",
    "from io import StringIO\n",
    "from contextlib import redirect_stdout\n",
    "from termcolor import colored"
   ],
   "outputs": [],
   "metadata": {}
  },
  {
   "cell_type": "code",
   "execution_count": 21,
   "source": [
    "import dataset_handler as dh"
   ],
   "outputs": [],
   "metadata": {}
  },
  {
   "cell_type": "code",
   "execution_count": 22,
   "source": [
    "def preproc_gen_toks(gen_toks, input_len):\n",
    "    list_out = []\n",
    "    for gen_tok in gen_toks:\n",
    "        last_tokens = gen_tok[input_len:]\n",
    "        generated_text = tokenizer.decode(last_tokens)\n",
    "        output = generated_text.split(\"\\n\\n\")[0]\n",
    "        list_out.append(output)\n",
    "    return list_out\n",
    "\n",
    "def pass_at_k(n, c, k):\n",
    "    \"\"\"\n",
    "    :param n: total number of samples\n",
    "    :param c: number of correct samples\n",
    "    :param k: k in pass@$k$\n",
    "    \"\"\"\n",
    "    if n - c < k:\n",
    "        return 1.0\n",
    "    return 1.0 - np.prod(1.0 - k / np.arange(n - c + 1, n + 1))"
   ],
   "outputs": [],
   "metadata": {}
  },
  {
   "cell_type": "code",
   "execution_count": 23,
   "source": [
    "torch.manual_seed(0)\n",
    "np.random.seed(8)\n",
    "\n",
    "gptj_model = \"EleutherAI/gpt-j-6B\"\n",
    "codeparrot_model = \"lvwerra/codeparrot\"\n",
    "\n",
    "\"\"\"Load the priming text to add to the prompt and sample a question\"\"\"\n",
    "priming_text_path = \"data/priming_texts/gsm8k_onlyfullanswer.txt\"\n",
    "# priming_text = read_string_from_file(\"data/priming_texts/singleEq.txt\")\n",
    "# priming_text_path = \"data/priming_texts/asdiv_genji.txt\"\n",
    "\n",
    "current_dataset = dh.init_dataset_from_name(\"gsm8k\", primingtext_path=priming_text_path)\n",
    "\n",
    "sample_q_list, sample_a_list = current_dataset.sample_n_for_prompting(1)\n",
    "\n",
    "print(colored(sample_q_list[0], \"blue\"))\n",
    "print(colored(sample_a_list[0], \"green\"))"
   ],
   "outputs": [
    {
     "output_type": "stream",
     "name": "stdout",
     "text": [
      "\u001b[34mCarol sells tickets for an exhibition. During three days she sold tickets worth $960. One ticket costs $4. How many tickets on average did she sell during one of these three days?\u001b[0m\n",
      "\u001b[32mCarol sold 960 / 4 = <<960/4=240>>240 tickets during three days.\n",
      "So in one day, she sold on average 240 / 3 = <<240/3=80>>80 tickets.\n",
      "#### 80\u001b[0m\n"
     ]
    }
   ],
   "metadata": {}
  },
  {
   "cell_type": "code",
   "execution_count": 7,
   "source": [
    "\"\"\"GPT-J and codeparrot models run in HFTest venv\"\"\"\n",
    "tokenizer = AutoTokenizer.from_pretrained(gptj_model)\n",
    "model = AutoModelForCausalLM.from_pretrained(gptj_model).eval().cuda()"
   ],
   "outputs": [],
   "metadata": {}
  },
  {
   "cell_type": "code",
   "execution_count": 7,
   "source": [
    "torch.manual_seed(42)\n",
    "np.random.seed(42)\n",
    "\n",
    "\"\"\"n = 4\n",
    "k = 3\"\"\"\n",
    "n = 3\n",
    "k = 3\n",
    "\n",
    "pass_k_list = []\n",
    "\n",
    "for sample_q, sample_a in zip(sample_q_list, sample_a_list):\n",
    "    prompt = f\"{current_dataset.priming_text}\\n\\n#{sample_q}\"\n",
    "    #print(colored(f\"\\n\\nPrompt:\\n{prompt}\", \"green\"))\n",
    "\n",
    "    tokens = tokenizer(prompt, return_tensors=\"pt\").input_ids\n",
    "    generated_tokens = model.generate(\n",
    "        tokens.long().cuda(),\n",
    "        use_cache=True,\n",
    "        do_sample=True,\n",
    "        top_k=50,\n",
    "        temperature=0.4,\n",
    "        top_p=0.9,\n",
    "        min_length=1,\n",
    "        max_length=len(tokens[0]) + 100,\n",
    "        num_return_sequences=n,\n",
    "        pad_token_id=tokenizer.eos_token_id,\n",
    "    )\n",
    "\n",
    "    list_outputs = preproc_gen_toks(generated_tokens, len(tokens[0]))\n",
    "\n",
    "    is_correct_list = [current_dataset.verify_pred_from_output(output, sample_q, sample_a) for output in list_outputs]\n",
    "\n",
    "    c = is_correct_list.count(True)\n",
    "\n",
    "    pass_k = pass_at_k(n, c, k)\n",
    "    pass_k_list.append(pass_k)"
   ],
   "outputs": [
    {
     "output_type": "stream",
     "name": "stdout",
     "text": [
      " bricks are missing and the total cost of the wall is $<<220*0.5=110>>110\n",
      "111111111111111.0\n",
      "220.0\n",
      "111111111111111.0\n",
      "220.0\n",
      "111111111111111.0\n",
      "220.0\n"
     ]
    }
   ],
   "metadata": {}
  },
  {
   "cell_type": "code",
   "execution_count": 27,
   "source": [
    "print(f\"Pass@{k} = {np.mean(np.array(pass_k_list))}\")"
   ],
   "outputs": [
    {
     "output_type": "stream",
     "name": "stdout",
     "text": [
      "Pass@3 = 0.0\n"
     ]
    }
   ],
   "metadata": {}
  },
  {
   "cell_type": "code",
   "execution_count": null,
   "source": [],
   "outputs": [],
   "metadata": {}
  }
 ],
 "metadata": {
  "orig_nbformat": 4,
  "language_info": {
   "name": "python",
   "version": "3.8.10",
   "mimetype": "text/x-python",
   "codemirror_mode": {
    "name": "ipython",
    "version": 3
   },
   "pygments_lexer": "ipython3",
   "nbconvert_exporter": "python",
   "file_extension": ".py"
  },
  "kernelspec": {
   "name": "python3",
   "display_name": "Python 3.8.10 64-bit ('HFtests': venv)"
  },
  "interpreter": {
   "hash": "5ea8e8bf8ca3b9f65e7cf95ea2223aa98d68a16922d567d33b86408fe49c3092"
  }
 },
 "nbformat": 4,
 "nbformat_minor": 2
}