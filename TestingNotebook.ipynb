{
 "cells": [
  {
   "cell_type": "code",
   "execution_count": 2,
   "source": [
    "cur_dir = os.getcwd()\n",
    "os.chdir(os.path.join(cur_dir, 'data'))\n",
    "!git clone https://gitlab.cs.washington.edu/ALGES/TACL2015.git\n",
    "!git clone https://github.com/chaochun/nlu-asdiv-dataset.git\n",
    "!git clone https://github.com/openai/grade-school-math.git\n",
    "os.chdir(cur_dir)"
   ],
   "outputs": [
    {
     "output_type": "stream",
     "name": "stdout",
     "text": [
      "Cloning into 'TACL2015'...\n",
      "remote: Enumerating objects: 2294, done.\u001b[K\n",
      "remote: Counting objects: 100% (2294/2294), done.\u001b[K\n",
      "remote: Compressing objects: 100% (2234/2234), done.\u001b[K\n",
      "remote: Total 2294 (delta 203), reused 2103 (delta 55), pack-reused 0\u001b[K\n",
      "Receiving objects: 100% (2294/2294), 4.51 MiB | 3.62 MiB/s, done.\n",
      "Resolving deltas: 100% (203/203), done.\n",
      "Cloning into 'nlu-asdiv-dataset'...\n",
      "remote: Enumerating objects: 30, done.\u001b[K\n",
      "remote: Counting objects: 100% (30/30), done.\u001b[K\n",
      "remote: Compressing objects: 100% (20/20), done.\u001b[K\n",
      "remote: Total 30 (delta 6), reused 20 (delta 5), pack-reused 0\u001b[K\n",
      "Unpacking objects: 100% (30/30), 425.56 KiB | 1.67 MiB/s, done.\n",
      "Cloning into 'grade-school-math'...\n",
      "remote: Enumerating objects: 36, done.\u001b[K\n",
      "remote: Counting objects: 100% (36/36), done.\u001b[K\n",
      "remote: Compressing objects: 100% (24/24), done.\u001b[K\n",
      "remote: Total 36 (delta 14), reused 30 (delta 11), pack-reused 0\u001b[K\n",
      "Unpacking objects: 100% (36/36), 3.01 MiB | 4.94 MiB/s, done.\n"
     ]
    }
   ],
   "metadata": {}
  },
  {
   "cell_type": "code",
   "execution_count": 1,
   "source": [
    "import os\n",
    "from xml.etree import ElementTree\n",
    "import numpy as np\n",
    "import torch\n",
    "import json\n",
    "import re\n",
    "from transformers import AutoTokenizer, AutoModelForCausalLM\n",
    "from io import StringIO\n",
    "from contextlib import redirect_stdout\n",
    "from termcolor import colored\n",
    "import wandb"
   ],
   "outputs": [],
   "metadata": {}
  },
  {
   "cell_type": "code",
   "execution_count": 2,
   "source": [
    "def set_all_seeds():\n",
    "    \"\"\"Set all seeds\"\"\"\n",
    "    torch.manual_seed(0)\n",
    "    np.random.seed(8)\n",
    "    os.environ['PYTHONHASHSEED']=str(0)\n",
    "    #torch.backends.cudnn.deterministic = True\n",
    "    #torch.backends.cudnn.benchmark = False\n"
   ],
   "outputs": [],
   "metadata": {}
  },
  {
   "cell_type": "code",
   "execution_count": 3,
   "source": [
    "import dataset_handler as dh\n",
    "import helper_func as hf\n",
    "\n",
    "gptj_model = \"EleutherAI/gpt-j-6B\"\n",
    "codeparrot_model = \"lvwerra/codeparrot\""
   ],
   "outputs": [],
   "metadata": {}
  },
  {
   "cell_type": "code",
   "execution_count": 4,
   "source": [
    "\"\"\"Load gsm8k\"\"\"\n",
    "priming_text_path = \"data/priming_texts/gsm8k/gsm8k_fewer_alt_codegen_func.txt\" # for codegen\n",
    "\n",
    "def sample_n_for_prompting(self, nr_entries=1):\n",
    "        rand_indexes = np.random.randint(0, len(self.data), nr_entries)\n",
    "\n",
    "        sample_a_list = []\n",
    "        sample_q_list = []\n",
    "        for rand_index in rand_indexes:\n",
    "            #sample_q_list.append(\"def exercise6():\\n\"+ '    \"\"\"Write a program that returns the answer to the following question. ' + self.data[rand_index][\"question\"]+ '\"\"\"')\n",
    "            sample_q_list.append(\n",
    "                \"def exercise6():\\n\"\n",
    "                + '    \"\"\"'\n",
    "                + self.data[rand_index][\"question\"]\n",
    "                + '\"\"\"'\n",
    "            )\n",
    "            # sample_a_list.append(self.data[rand_index][\"answer\"])\n",
    "            sample_a_list.append(\n",
    "                re.findall(r\"#### \\w+\", self.data[rand_index][\"answer\"])[0][5:]\n",
    "            )\n",
    "\n",
    "        return sample_q_list, sample_a_list\n",
    "\n",
    "def generate_prompt(self, entry_q):\n",
    "    return f\"{self.priming_text}\\n\\n\\n{entry_q}\"\n",
    "\n",
    "# priming_text_path = \"data/priming_texts/gsm8k/gsm8k_fewer_alt.txt\" # for gpt-j\n",
    "current_dataset = dh.init_dataset_from_name(\"gsm8k\", primingtext_path = priming_text_path)\n",
    "current_dataset.sample_n_for_prompting = sample_n_for_prompting\n",
    "current_dataset.generate_prompt = generate_prompt"
   ],
   "outputs": [],
   "metadata": {}
  },
  {
   "cell_type": "code",
   "execution_count": 5,
   "source": [
    "\"\"\"Load asdiv\"\"\"\n",
    "#priming_text_path = \"data/priming_texts/asdiv/asdiv_prefix_codegen.txt\" # for codegen\n",
    "priming_text_path = \"data/priming_texts/asdiv/asdiv_prefix.txt\" # for gpt-j\n",
    "current_dataset = dh.init_dataset_from_name(\"asdiv\", primingtext_path = priming_text_path)"
   ],
   "outputs": [],
   "metadata": {}
  },
  {
   "cell_type": "code",
   "execution_count": 9,
   "source": [
    "set_all_seeds()\n",
    "\n",
    "sample_q_list, sample_a_list = current_dataset.sample_n_for_prompting(current_dataset, 100)\n",
    "\n",
    "print(colored(sample_q_list[0], \"blue\"))\n",
    "print(colored(sample_a_list[0], \"green\"))"
   ],
   "outputs": [
    {
     "output_type": "stream",
     "name": "stdout",
     "text": [
      "\u001b[34mdef exercise6():\n",
      "    \"\"\"Carol sells tickets for an exhibition. During three days she sold tickets worth $960. One ticket costs $4. How many tickets on average did she sell during one of these three days?\"\"\"\u001b[0m\n",
      "\u001b[32m80\u001b[0m\n"
     ]
    }
   ],
   "metadata": {}
  },
  {
   "cell_type": "code",
   "execution_count": 6,
   "source": [
    "with open(\"test_prompt.txt\", \"w\") as f:\n",
    "    f.write(current_dataset.generate_prompt(current_dataset, sample_q_list[0]))"
   ],
   "outputs": [],
   "metadata": {}
  },
  {
   "cell_type": "code",
   "execution_count": 7,
   "source": [
    "\"\"\"CodeGen runs in the venv venv\"\"\"\n",
    "model_args = hf.model_args()\n",
    "#model_args.model = \"codegen-350M-mono\"\n",
    "model, tokenizer = hf.load_CodeGen(model_args)"
   ],
   "outputs": [
    {
     "output_type": "stream",
     "name": "stdout",
     "text": [
      "loading parameters\n",
      "loading parameters took 436.77s\n",
      "loading tokenizer\n",
      "loading tokenizer took 4.04s\n"
     ]
    }
   ],
   "metadata": {}
  },
  {
   "cell_type": "code",
   "execution_count": 7,
   "source": [
    "\"\"\"GPT-J and codeparrot models run in HFTest venv\"\"\"\n",
    "tokenizer = AutoTokenizer.from_pretrained(gptj_model)\n",
    "model = AutoModelForCausalLM.from_pretrained(gptj_model).half().eval().cuda()"
   ],
   "outputs": [],
   "metadata": {}
  },
  {
   "cell_type": "code",
   "execution_count": 10,
   "source": [
    "# Set up for CodeGen\n",
    "config = hf.codegen_gen_args()\n",
    "config.num_return_sequences = 4 # 4 for gsm8k 5 for asdiv\n",
    "config.k = 3\n",
    "config.max_lenght_after_input = 250\n",
    "config.top_p = 0.95\n",
    "config.top_k = 50\n",
    "config.temperature = 0.7\n",
    "config.min_length = 3\n",
    "\n",
    "set_all_seeds()\n",
    "hf.testing_loop(current_dataset, tokenizer, model, sample_q_list, sample_a_list, config, print_output=False)"
   ],
   "outputs": [
    {
     "output_type": "stream",
     "name": "stdout",
     "text": [
      "\u001b[33mTESTING STARTED\u001b[0m\n",
      "\u001b[37m@sample 5 -> Pass@3 = 0.35\u001b[0m\n",
      "\u001b[37m@sample 10 -> Pass@3 = 0.35\u001b[0m\n",
      "\u001b[37m@sample 15 -> Pass@3 = 0.23333333333333334\u001b[0m\n",
      "\u001b[37m@sample 20 -> Pass@3 = 0.2625\u001b[0m\n",
      "\u001b[37m@sample 25 -> Pass@3 = 0.21\u001b[0m\n",
      "\u001b[37m@sample 30 -> Pass@3 = 0.175\u001b[0m\n",
      "\u001b[37m@sample 35 -> Pass@3 = 0.17857142857142858\u001b[0m\n",
      "\u001b[37m@sample 40 -> Pass@3 = 0.19375\u001b[0m\n",
      "\u001b[37m@sample 45 -> Pass@3 = 0.19444444444444445\u001b[0m\n",
      "\u001b[37m@sample 50 -> Pass@3 = 0.195\u001b[0m\n",
      "\u001b[37m@sample 55 -> Pass@3 = 0.20909090909090908\u001b[0m\n",
      "\u001b[37m@sample 60 -> Pass@3 = 0.21666666666666667\u001b[0m\n",
      "\u001b[37m@sample 65 -> Pass@3 = 0.2153846153846154\u001b[0m\n",
      "\u001b[37m@sample 70 -> Pass@3 = 0.22857142857142856\u001b[0m\n",
      "\u001b[37m@sample 75 -> Pass@3 = 0.23666666666666666\u001b[0m\n",
      "\u001b[37m@sample 80 -> Pass@3 = 0.23125\u001b[0m\n",
      "\u001b[37m@sample 85 -> Pass@3 = 0.21764705882352942\u001b[0m\n",
      "\u001b[37m@sample 90 -> Pass@3 = 0.20555555555555555\u001b[0m\n",
      "\u001b[37m@sample 95 -> Pass@3 = 0.20526315789473684\u001b[0m\n",
      "\u001b[37m@sample 100 -> Pass@3 = 0.195\u001b[0m\n",
      "\u001b[32m\n",
      "\n",
      "Pass@3 = 0.195\u001b[0m\n"
     ]
    },
    {
     "output_type": "execute_result",
     "data": {
      "text/plain": [
       "0.195"
      ]
     },
     "metadata": {},
     "execution_count": 10
    }
   ],
   "metadata": {}
  },
  {
   "cell_type": "code",
   "execution_count": 13,
   "source": [
    "# Set up for gpt-j\n",
    "config = hf.gptj_gen_args()\n",
    "\n",
    "torch.manual_seed(42) # very relevant seed for gpt-j\n",
    "np.random.seed(42) # very relevant seed for gpt-j \n",
    "#hf.testing_loop(current_dataset, tokenizer, model, sample_q_list, sample_a_list, config)"
   ],
   "outputs": [],
   "metadata": {}
  },
  {
   "cell_type": "code",
   "execution_count": 11,
   "source": [
    "with wandb.init(project=\"PracticalWork\", entity=\"antoniolopardo\",config=config, name=\"@100-gsm8k-codegen-func-def\"):\n",
    "\n",
    "        #set_all_seeds()\n",
    "        torch.manual_seed(42) # very relevant seed for gpt-j\n",
    "        np.random.seed(42) # very relevant seed for gpt-j\n",
    "        pass_at_k = hf.testing_loop(current_dataset, tokenizer, model, sample_q_list, sample_a_list, config)\n",
    "\n",
    "        wandb.log({\"pass_at_k\": pass_at_k})"
   ],
   "outputs": [
    {
     "output_type": "stream",
     "name": "stderr",
     "text": [
      "Failed to detect the name of this notebook, you can set it manually with the WANDB_NOTEBOOK_NAME environment variable to enable code saving.\n",
      "\u001b[34m\u001b[1mwandb\u001b[0m: Currently logged in as: \u001b[33mantoniolopardo\u001b[0m (use `wandb login --relogin` to force relogin)\n"
     ]
    },
    {
     "output_type": "display_data",
     "data": {
      "text/html": [
       "wandb version 0.12.14 is available!  To upgrade, please run:\n",
       " $ pip install wandb --upgrade"
      ],
      "text/plain": [
       "<IPython.core.display.HTML object>"
      ]
     },
     "metadata": {}
    },
    {
     "output_type": "display_data",
     "data": {
      "text/html": [
       "Tracking run with wandb version 0.12.11"
      ],
      "text/plain": [
       "<IPython.core.display.HTML object>"
      ]
     },
     "metadata": {}
    },
    {
     "output_type": "display_data",
     "data": {
      "text/html": [
       "Run data is saved locally in <code>/home/PracticalWork2021/wandb/run-20220411_170902-3c7navmy</code>"
      ],
      "text/plain": [
       "<IPython.core.display.HTML object>"
      ]
     },
     "metadata": {}
    },
    {
     "output_type": "display_data",
     "data": {
      "text/html": [
       "Syncing run <strong><a href=\"https://wandb.ai/antoniolopardo/PracticalWork/runs/3c7navmy\" target=\"_blank\">@100-gsm8k-codegen-func-def</a></strong> to <a href=\"https://wandb.ai/antoniolopardo/PracticalWork\" target=\"_blank\">Weights & Biases</a> (<a href=\"https://wandb.me/run\" target=\"_blank\">docs</a>)<br/>"
      ],
      "text/plain": [
       "<IPython.core.display.HTML object>"
      ]
     },
     "metadata": {}
    },
    {
     "output_type": "stream",
     "name": "stdout",
     "text": [
      "\u001b[33mTESTING STARTED\u001b[0m\n",
      "\u001b[37m@sample 5 -> Pass@3 = 0.35\u001b[0m\n",
      "\u001b[37m@sample 10 -> Pass@3 = 0.275\u001b[0m\n",
      "\u001b[37m@sample 15 -> Pass@3 = 0.18333333333333332\u001b[0m\n",
      "\u001b[37m@sample 20 -> Pass@3 = 0.225\u001b[0m\n",
      "\u001b[37m@sample 25 -> Pass@3 = 0.18\u001b[0m\n",
      "\u001b[37m@sample 30 -> Pass@3 = 0.15\u001b[0m\n",
      "\u001b[37m@sample 35 -> Pass@3 = 0.15714285714285714\u001b[0m\n",
      "\u001b[37m@sample 40 -> Pass@3 = 0.15625\u001b[0m\n",
      "\u001b[37m@sample 45 -> Pass@3 = 0.16111111111111112\u001b[0m\n",
      "\u001b[37m@sample 50 -> Pass@3 = 0.16\u001b[0m\n",
      "\u001b[37m@sample 55 -> Pass@3 = 0.18181818181818182\u001b[0m\n",
      "\u001b[37m@sample 60 -> Pass@3 = 0.22916666666666666\u001b[0m\n",
      "\u001b[37m@sample 65 -> Pass@3 = 0.2230769230769231\u001b[0m\n",
      "\u001b[37m@sample 70 -> Pass@3 = 0.22142857142857142\u001b[0m\n",
      "\u001b[37m@sample 75 -> Pass@3 = 0.22\u001b[0m\n",
      "\u001b[37m@sample 80 -> Pass@3 = 0.215625\u001b[0m\n",
      "\u001b[37m@sample 85 -> Pass@3 = 0.20294117647058824\u001b[0m\n",
      "\u001b[37m@sample 90 -> Pass@3 = 0.2\u001b[0m\n",
      "\u001b[37m@sample 95 -> Pass@3 = 0.21052631578947367\u001b[0m\n",
      "\u001b[37m@sample 100 -> Pass@3 = 0.2075\u001b[0m\n",
      "\u001b[32m\n",
      "\n",
      "Pass@3 = 0.2075\u001b[0m\n",
      "\n"
     ]
    },
    {
     "output_type": "display_data",
     "data": {
      "text/html": [
       "Waiting for W&B process to finish... <strong style=\"color:green\">(success).</strong>"
      ],
      "text/plain": [
       "<IPython.core.display.HTML object>"
      ]
     },
     "metadata": {}
    },
    {
     "output_type": "display_data",
     "data": {
      "application/vnd.jupyter.widget-view+json": {
       "version_major": 2,
       "version_minor": 0,
       "model_id": "c08c3571ef714ed0be3f99592058ecf9"
      },
      "text/plain": [
       "VBox(children=(Label(value='0.001 MB of 0.001 MB uploaded (0.000 MB deduped)\\r'), FloatProgress(value=1.0, max…"
      ]
     },
     "metadata": {}
    },
    {
     "output_type": "display_data",
     "data": {
      "text/html": [
       "<style>\n",
       "    table.wandb td:nth-child(1) { padding: 0 10px; text-align: right }\n",
       "    .wandb-row { display: flex; flex-direction: row; flex-wrap: wrap; width: 100% }\n",
       "    .wandb-col { display: flex; flex-direction: column; flex-basis: 100%; flex: 1; padding: 10px; }\n",
       "    </style>\n",
       "<div class=\"wandb-row\"><div class=\"wandb-col\"><h3>Run history:</h3><br/><table class=\"wandb\"><tr><td>pass_at_k</td><td>▁</td></tr></table><br/></div><div class=\"wandb-col\"><h3>Run summary:</h3><br/><table class=\"wandb\"><tr><td>pass_at_k</td><td>0.2075</td></tr></table><br/></div></div>"
      ],
      "text/plain": [
       "<IPython.core.display.HTML object>"
      ]
     },
     "metadata": {}
    },
    {
     "output_type": "display_data",
     "data": {
      "text/html": [
       "Synced <strong style=\"color:#cdcd00\">@100-gsm8k-codegen-func-def</strong>: <a href=\"https://wandb.ai/antoniolopardo/PracticalWork/runs/3c7navmy\" target=\"_blank\">https://wandb.ai/antoniolopardo/PracticalWork/runs/3c7navmy</a><br/>Synced 5 W&B file(s), 0 media file(s), 0 artifact file(s) and 0 other file(s)"
      ],
      "text/plain": [
       "<IPython.core.display.HTML object>"
      ]
     },
     "metadata": {}
    },
    {
     "output_type": "display_data",
     "data": {
      "text/html": [
       "Find logs at: <code>./wandb/run-20220411_170902-3c7navmy/logs</code>"
      ],
      "text/plain": [
       "<IPython.core.display.HTML object>"
      ]
     },
     "metadata": {}
    }
   ],
   "metadata": {}
  },
  {
   "cell_type": "code",
   "execution_count": null,
   "source": [],
   "outputs": [],
   "metadata": {}
  }
 ],
 "metadata": {
  "orig_nbformat": 4,
  "language_info": {
   "name": "python",
   "version": "3.8.10",
   "mimetype": "text/x-python",
   "codemirror_mode": {
    "name": "ipython",
    "version": 3
   },
   "pygments_lexer": "ipython3",
   "nbconvert_exporter": "python",
   "file_extension": ".py"
  },
  "kernelspec": {
   "name": "python3",
   "display_name": "Python 3.8.10 64-bit ('HFtests': venv)"
  },
  "interpreter": {
   "hash": "5ea8e8bf8ca3b9f65e7cf95ea2223aa98d68a16922d567d33b86408fe49c3092"
  }
 },
 "nbformat": 4,
 "nbformat_minor": 2
}