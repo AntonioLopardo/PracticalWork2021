{
 "cells": [
  {
   "cell_type": "code",
   "execution_count": 2,
   "metadata": {},
   "outputs": [
    {
     "name": "stdout",
     "output_type": "stream",
     "text": [
      "Cloning into 'TACL2015'...\n",
      "remote: Enumerating objects: 2294, done.\u001b[K\n",
      "remote: Counting objects: 100% (2294/2294), done.\u001b[K\n",
      "remote: Compressing objects: 100% (2234/2234), done.\u001b[K\n",
      "remote: Total 2294 (delta 203), reused 2103 (delta 55), pack-reused 0\u001b[K\n",
      "Receiving objects: 100% (2294/2294), 4.51 MiB | 3.62 MiB/s, done.\n",
      "Resolving deltas: 100% (203/203), done.\n",
      "Cloning into 'nlu-asdiv-dataset'...\n",
      "remote: Enumerating objects: 30, done.\u001b[K\n",
      "remote: Counting objects: 100% (30/30), done.\u001b[K\n",
      "remote: Compressing objects: 100% (20/20), done.\u001b[K\n",
      "remote: Total 30 (delta 6), reused 20 (delta 5), pack-reused 0\u001b[K\n",
      "Unpacking objects: 100% (30/30), 425.56 KiB | 1.67 MiB/s, done.\n",
      "Cloning into 'grade-school-math'...\n",
      "remote: Enumerating objects: 36, done.\u001b[K\n",
      "remote: Counting objects: 100% (36/36), done.\u001b[K\n",
      "remote: Compressing objects: 100% (24/24), done.\u001b[K\n",
      "remote: Total 36 (delta 14), reused 30 (delta 11), pack-reused 0\u001b[K\n",
      "Unpacking objects: 100% (36/36), 3.01 MiB | 4.94 MiB/s, done.\n"
     ]
    }
   ],
   "source": [
    "cur_dir = os.getcwd()\n",
    "os.chdir(os.path.join(cur_dir, 'data'))\n",
    "!git clone https://gitlab.cs.washington.edu/ALGES/TACL2015.git\n",
    "!git clone https://github.com/chaochun/nlu-asdiv-dataset.git\n",
    "!git clone https://github.com/openai/grade-school-math.git\n",
    "os.chdir(cur_dir)"
   ]
  },
  {
   "cell_type": "code",
   "execution_count": 1,
   "metadata": {},
   "outputs": [],
   "source": [
    "import os\n",
    "import numpy as np\n",
    "import torch\n",
    "from transformers import AutoTokenizer, AutoModelForCausalLM\n",
    "from termcolor import colored\n",
    "import wandb"
   ]
  },
  {
   "cell_type": "code",
   "execution_count": 2,
   "metadata": {},
   "outputs": [],
   "source": [
    "import dataset_handler as dh\n",
    "#import helper_func as hf\n",
    "import loading_utils as lu\n",
    "import testing_utils as tu\n",
    "\n",
    "gptj_model = \"EleutherAI/gpt-j-6B\"\n",
    "codeparrot_model = \"lvwerra/codeparrot\"\n",
    "\n",
    "#model_name = \"gpt-j\"\n",
    "model_name = \"codegen\"\n",
    "\n",
    "#dataset_name = \"gsm8k\""
   ]
  },
  {
   "cell_type": "code",
   "execution_count": 41,
   "metadata": {},
   "outputs": [],
   "source": [
    "import exp_impl.func_def_eq_long as exp_impl\n",
    "#import exp_impl.func_def_mine as exp_impl\n",
    "#import exp_impl.simple_func_def_long as exp_impl"
   ]
  },
  {
   "cell_type": "code",
   "execution_count": 42,
   "metadata": {},
   "outputs": [
    {
     "data": {
      "text/plain": [
       "<module 'exp_impl.func_def_eq_long' from '/home/PracticalWork2021/exp_impl/func_def_eq_long.py'>"
      ]
     },
     "execution_count": 42,
     "metadata": {},
     "output_type": "execute_result"
    }
   ],
   "source": [
    "import importlib\n",
    "importlib.reload(exp_impl)"
   ]
  },
  {
   "cell_type": "code",
   "execution_count": 43,
   "metadata": {},
   "outputs": [],
   "source": [
    "\"\"\"Load gsm8k\"\"\"\n",
    "\n",
    "if model_name == \"gpt-j\":\n",
    "    priming_text_path = (\n",
    "        \"data/priming_texts/gsm8k/gpt-j/gsm8k_fewer_alt.txt\"  # for gpt-j\n",
    "    )\n",
    "    current_dataset = dh.init_dataset_from_name(\n",
    "        \"gsm8k\", primingtext_path=priming_text_path\n",
    "    )\n",
    "else:\n",
    "    priming_text_path = \"data/priming_texts/gsm8k/codegen/func_eq_long.txt\"  # for codegen\n",
    "    #priming_text_path = \"data/priming_texts/gsm8k/codegen/func_long.txt\"\n",
    "    current_dataset = dh.init_dataset_from_name(\n",
    "        \"gsm8k\",\n",
    "        primingtext_path=priming_text_path,\n",
    "        sample_func=exp_impl.sample_n_for_prompting,\n",
    "        generate_prompt_func=exp_impl.generate_prompt,\n",
    "    )\n"
   ]
  },
  {
   "cell_type": "code",
   "execution_count": 5,
   "metadata": {},
   "outputs": [],
   "source": [
    "\"\"\"Load asdiv\"\"\"\n",
    "\n",
    "if model_name == \"gpt-j\":\n",
    "    priming_text_path = \"data/priming_texts/asdiv/asdiv_prefix.txt\" # for gpt-j\n",
    "else:\n",
    "    priming_text_path = \"data/priming_texts/asdiv/asdiv_prefix_codegen.txt\" # for codegen\n",
    "\n",
    "current_dataset = dh.init_dataset_from_name(\"asdiv\", primingtext_path = priming_text_path)"
   ]
  },
  {
   "cell_type": "code",
   "execution_count": 44,
   "metadata": {},
   "outputs": [
    {
     "name": "stdout",
     "output_type": "stream",
     "text": [
      "\u001b[34mdef exercise9():\n",
      "    \"\"\"Carol sells tickets for an exhibition. During three days she sold tickets worth $960. One ticket costs $4. How many tickets on average did she sell during one of these three days? Hint: use these equations eq1: 960/4=240 eq2: 240/3=80\"\"\"\u001b[0m\n",
      "\u001b[32m80\u001b[0m\n"
     ]
    }
   ],
   "source": [
    "tu.set_all_seeds()\n",
    "\n",
    "sample_q_list, sample_a_list = current_dataset.sample_n_for_prompting(100)\n",
    "\n",
    "print(colored(sample_q_list[0], \"blue\"))\n",
    "print(colored(sample_a_list[0], \"green\"))"
   ]
  },
  {
   "cell_type": "code",
   "execution_count": 37,
   "metadata": {},
   "outputs": [],
   "source": [
    "with open(\"test_prompt.txt\", \"w\") as f:\n",
    "    f.write(current_dataset.generate_prompt(sample_q_list[0]))"
   ]
  },
  {
   "cell_type": "code",
   "execution_count": 9,
   "metadata": {},
   "outputs": [
    {
     "name": "stdout",
     "output_type": "stream",
     "text": [
      "loading parameters\n",
      "loading parameters took 869.80s\n",
      "loading tokenizer\n",
      "loading tokenizer took 3.93s\n"
     ]
    }
   ],
   "source": [
    "if model_name == \"gpt-j\":\n",
    "    \"\"\"GPT-J and codeparrot models run in HFTest venv\"\"\"\n",
    "    tokenizer = AutoTokenizer.from_pretrained(gptj_model)\n",
    "    model = AutoModelForCausalLM.from_pretrained(gptj_model).half().eval().cuda()\n",
    "elif model_name == \"codegen\":\n",
    "    \"\"\"CodeGen runs in the venv venv\"\"\"\n",
    "    model_args = lu.model_args()\n",
    "    #model_args.model = \"codegen-350M-mono\"\n",
    "    model, tokenizer = lu.load_CodeGen(model_args)"
   ]
  },
  {
   "cell_type": "code",
   "execution_count": 38,
   "metadata": {},
   "outputs": [
    {
     "name": "stdout",
     "output_type": "stream",
     "text": [
      "\u001b[33mTESTING STARTED\u001b[0m\n",
      "\u001b[37m@sample 5 -> Pass@3 = 0.42000000000000004\u001b[0m\n",
      "\u001b[32m\n",
      "\n",
      "Pass@3 = 0.42000000000000004\u001b[0m\n"
     ]
    },
    {
     "data": {
      "text/plain": [
       "0.42000000000000004"
      ]
     },
     "execution_count": 38,
     "metadata": {},
     "output_type": "execute_result"
    }
   ],
   "source": [
    "# Set up for CodeGen\n",
    "config = lu.codegen_gen_args()\n",
    "#config.num_return_sequences = 4 # 4 for gsm8k 5 for asdiv\n",
    "config.num_return_sequences = 6\n",
    "config.k = 3\n",
    "config.max_lenght_after_input = 250\n",
    "#config.top_p = 0.95\n",
    "config.top_p = 0.95\n",
    "config.top_k = 50\n",
    "#config.temperature = 0.7\n",
    "config.temperature = 0.61\n",
    "config.min_length = 3\n",
    "\n",
    "tu.set_all_seeds(model_name)\n",
    "tu.testing_loop(current_dataset, tokenizer, model, sample_q_list, sample_a_list, config, func_def_mod=True, print_output=False)"
   ]
  },
  {
   "cell_type": "code",
   "execution_count": null,
   "metadata": {},
   "outputs": [],
   "source": [
    "# Set up for gpt-j\n",
    "config = lu.gptj_gen_args()\n",
    "\n",
    "tu.set_all_seeds(model_name)\n",
    "#hf.testing_loop(current_dataset, tokenizer, model, sample_q_list, sample_a_list, config, print_output=False)"
   ]
  },
  {
   "cell_type": "code",
   "execution_count": 45,
   "metadata": {},
   "outputs": [
    {
     "data": {
      "text/html": [
       "wandb version 0.12.14 is available!  To upgrade, please run:\n",
       " $ pip install wandb --upgrade"
      ],
      "text/plain": [
       "<IPython.core.display.HTML object>"
      ]
     },
     "metadata": {},
     "output_type": "display_data"
    },
    {
     "data": {
      "text/html": [
       "Tracking run with wandb version 0.12.11"
      ],
      "text/plain": [
       "<IPython.core.display.HTML object>"
      ]
     },
     "metadata": {},
     "output_type": "display_data"
    },
    {
     "data": {
      "text/html": [
       "Run data is saved locally in <code>/home/PracticalWork2021/wandb/run-20220419_141046-3s7qo7tu</code>"
      ],
      "text/plain": [
       "<IPython.core.display.HTML object>"
      ]
     },
     "metadata": {},
     "output_type": "display_data"
    },
    {
     "data": {
      "text/html": [
       "Syncing run <strong><a href=\"https://wandb.ai/antoniolopardo/PracticalWork/runs/3s7qo7tu\" target=\"_blank\">@100-gsm8k-codegen-func-def-eq-long-A100</a></strong> to <a href=\"https://wandb.ai/antoniolopardo/PracticalWork\" target=\"_blank\">Weights & Biases</a> (<a href=\"https://wandb.me/run\" target=\"_blank\">docs</a>)<br/>"
      ],
      "text/plain": [
       "<IPython.core.display.HTML object>"
      ]
     },
     "metadata": {},
     "output_type": "display_data"
    },
    {
     "name": "stdout",
     "output_type": "stream",
     "text": [
      "\u001b[33mTESTING STARTED\u001b[0m\n",
      "\u001b[37m@sample 5 -> Pass@3 = 0.6699999999999999\u001b[0m\n",
      "\u001b[37m@sample 10 -> Pass@3 = 0.5149999999999999\u001b[0m\n",
      "\u001b[37m@sample 15 -> Pass@3 = 0.3433333333333333\u001b[0m\n",
      "\u001b[37m@sample 20 -> Pass@3 = 0.355\u001b[0m\n",
      "\u001b[37m@sample 25 -> Pass@3 = 0.324\u001b[0m\n",
      "\u001b[37m@sample 30 -> Pass@3 = 0.2866666666666667\u001b[0m\n",
      "\u001b[37m@sample 35 -> Pass@3 = 0.28714285714285714\u001b[0m\n",
      "\u001b[37m@sample 40 -> Pass@3 = 0.275\u001b[0m\n",
      "\u001b[37m@sample 45 -> Pass@3 = 0.2777777777777778\u001b[0m\n",
      "\u001b[37m@sample 50 -> Pass@3 = 0.266\u001b[0m\n",
      "\u001b[37m@sample 55 -> Pass@3 = 0.2690909090909091\u001b[0m\n",
      "\u001b[37m@sample 60 -> Pass@3 = 0.2791666666666667\u001b[0m\n",
      "\u001b[37m@sample 65 -> Pass@3 = 0.27\u001b[0m\n",
      "\u001b[37m@sample 70 -> Pass@3 = 0.265\u001b[0m\n",
      "\u001b[37m@sample 75 -> Pass@3 = 0.29333333333333333\u001b[0m\n",
      "\u001b[37m@sample 80 -> Pass@3 = 0.2875\u001b[0m\n",
      "\u001b[37m@sample 85 -> Pass@3 = 0.2858823529411765\u001b[0m\n",
      "\u001b[37m@sample 90 -> Pass@3 = 0.30277777777777776\u001b[0m\n",
      "\u001b[37m@sample 95 -> Pass@3 = 0.29210526315789476\u001b[0m\n",
      "\u001b[37m@sample 100 -> Pass@3 = 0.2775\u001b[0m\n",
      "\u001b[32m\n",
      "\n",
      "Pass@3 = 0.2775\u001b[0m\n",
      "\n"
     ]
    },
    {
     "data": {
      "text/html": [
       "Waiting for W&B process to finish... <strong style=\"color:green\">(success).</strong>"
      ],
      "text/plain": [
       "<IPython.core.display.HTML object>"
      ]
     },
     "metadata": {},
     "output_type": "display_data"
    },
    {
     "data": {
      "application/vnd.jupyter.widget-view+json": {
       "model_id": "0c8f05e10dd5491b9a1ab1d303df9ef9",
       "version_major": 2,
       "version_minor": 0
      },
      "text/plain": [
       "VBox(children=(Label(value='0.001 MB of 0.001 MB uploaded (0.000 MB deduped)\\r'), FloatProgress(value=1.0, max…"
      ]
     },
     "metadata": {},
     "output_type": "display_data"
    },
    {
     "data": {
      "text/html": [
       "<style>\n",
       "    table.wandb td:nth-child(1) { padding: 0 10px; text-align: right }\n",
       "    .wandb-row { display: flex; flex-direction: row; flex-wrap: wrap; width: 100% }\n",
       "    .wandb-col { display: flex; flex-direction: column; flex-basis: 100%; flex: 1; padding: 10px; }\n",
       "    </style>\n",
       "<div class=\"wandb-row\"><div class=\"wandb-col\"><h3>Run history:</h3><br/><table class=\"wandb\"><tr><td>pass_at_k</td><td>▁</td></tr></table><br/></div><div class=\"wandb-col\"><h3>Run summary:</h3><br/><table class=\"wandb\"><tr><td>pass_at_k</td><td>0.2775</td></tr></table><br/></div></div>"
      ],
      "text/plain": [
       "<IPython.core.display.HTML object>"
      ]
     },
     "metadata": {},
     "output_type": "display_data"
    },
    {
     "data": {
      "text/html": [
       "Synced <strong style=\"color:#cdcd00\">@100-gsm8k-codegen-func-def-eq-long-A100</strong>: <a href=\"https://wandb.ai/antoniolopardo/PracticalWork/runs/3s7qo7tu\" target=\"_blank\">https://wandb.ai/antoniolopardo/PracticalWork/runs/3s7qo7tu</a><br/>Synced 5 W&B file(s), 0 media file(s), 0 artifact file(s) and 0 other file(s)"
      ],
      "text/plain": [
       "<IPython.core.display.HTML object>"
      ]
     },
     "metadata": {},
     "output_type": "display_data"
    },
    {
     "data": {
      "text/html": [
       "Find logs at: <code>./wandb/run-20220419_141046-3s7qo7tu/logs</code>"
      ],
      "text/plain": [
       "<IPython.core.display.HTML object>"
      ]
     },
     "metadata": {},
     "output_type": "display_data"
    }
   ],
   "source": [
    "with wandb.init(project=\"PracticalWork\", entity=\"antoniolopardo\",config=config, name=\"@100-gsm8k-codegen-func-def-eq-long-A100\"):\n",
    "\n",
    "        tu.set_all_seeds(model)\n",
    "        pass_at_k = tu.testing_loop(current_dataset, tokenizer, model, sample_q_list, sample_a_list, config, func_def_mod=True, print_output=False)\n",
    "\n",
    "        wandb.log({\"pass_at_k\": pass_at_k})"
   ]
  },
  {
   "cell_type": "code",
   "execution_count": null,
   "metadata": {},
   "outputs": [],
   "source": []
  }
 ],
 "metadata": {
  "interpreter": {
   "hash": "5ea8e8bf8ca3b9f65e7cf95ea2223aa98d68a16922d567d33b86408fe49c3092"
  },
  "kernelspec": {
   "display_name": "Python 3.8.10 64-bit ('HFtests': venv)",
   "name": "python3"
  },
  "language_info": {
   "codemirror_mode": {
    "name": "ipython",
    "version": 3
   },
   "file_extension": ".py",
   "mimetype": "text/x-python",
   "name": "python",
   "nbconvert_exporter": "python",
   "pygments_lexer": "ipython3",
   "version": "3.8.10"
  },
  "orig_nbformat": 4
 },
 "nbformat": 4,
 "nbformat_minor": 2
}
